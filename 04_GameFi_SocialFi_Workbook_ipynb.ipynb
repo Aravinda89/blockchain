{
  "cells": [
    {
      "cell_type": "markdown",
      "metadata": {
        "id": "view-in-github",
        "colab_type": "text"
      },
      "source": [
        "<a href=\"https://colab.research.google.com/github/Aravinda89/blockchain/blob/main/04_GameFi_SocialFi_Workbook_ipynb.ipynb\" target=\"_parent\"><img src=\"https://colab.research.google.com/assets/colab-badge.svg\" alt=\"Open In Colab\"/></a>"
      ]
    },
    {
      "cell_type": "markdown",
      "metadata": {
        "id": "ALQSL9QbhHy6"
      },
      "source": [
        "[![Open In Colab](https://colab.research.google.com/assets/colab-badge.svg)](https://colab.research.google.com/github/unpackAI/BL101/blob/main/course_notebooks/Week_4_GameFi%26SocialFi/04_GameFi_SocialFi_Workbook.ipynb)"
      ]
    },
    {
      "cell_type": "markdown",
      "metadata": {
        "id": "UMOcaX-8hHy_"
      },
      "source": [
        "# 💻 Week 4 Workbook of unpackAI \"BC101 Bootcamp\"\n",
        "You have successfully finished the DeFi week! In this week we dive deeper into two hot topics which will play a major role in the future of blockchain: *GameFi* (a fusion of the words game and finance) and Social Finance or *SocialFi* for short.\n",
        "This week we will focus on understanding the current GameFi & SocialFi landscape and reflect about possible future business models.  \n",
        "\n",
        "## 📕 Learning Objectives\n",
        "\n",
        "* Learn about GameFi & SocialFi and why it is such a hot topic within the blockchain ecosystem\n",
        "* Get an overview of the current GameFi & SocialFi landscape\n",
        "* Research and evaluate some concrete projects\n",
        "* Reflect on future business models\n"
      ]
    },
    {
      "cell_type": "markdown",
      "metadata": {
        "id": "H3OlM0unhHzD"
      },
      "source": [
        "---    \n",
        "## Assignment: 👷‍♀️ chose one of the following topics 🏗\n",
        "> **Note: When researching a GameFi/SocialFi project, make sure to have a close look at their whitepaper. It is the single truth of their project. Disregard project that do not offer such in-depth information.**\n",
        "---     "
      ]
    },
    {
      "cell_type": "markdown",
      "metadata": {
        "id": "6a5DHQ1fhHzG"
      },
      "source": [
        "### Topic 1: Pick a GameFi 👾 project and present it to your classmates 👩🏻‍🎓👨‍🎓🐶  \n",
        ">*GameFi has been rapidly taking over the traditional gaming industry since the rise of Axie Infinity. It attracts gamers by offering them an opportunity to make money while having fun.*   \n",
        "\n",
        "In this project you will have a look into the biggest players in the GameFi ecosystem from a Token perspective. **Tokenization** is a major concept within GameFi and we can evaluate GameFi provider according to their tokens **market cap**. \n",
        "\n",
        "You can have a look on [mytokencap.com](https://www.mytokencap.com/categories/256): They list hundreds of tokens related to GameFi projects. Pick one and click on the token: \n",
        "<center><img src=\"https://www.dropbox.com/s/3v6l0756xl2vn3y/mytoken_gamefi.png?raw=1\" alt=\"Website, Media and Whitepaper for chosen Token\"/></center>\n",
        "\n",
        "You will find more information like website, media and whitepaper to start your research:\n",
        "\n",
        "<center><img src=\"https://www.dropbox.com/s/etrogks4jq0jfy4/mytoken_decentraland.png?raw=1\" alt=\"Website, Media and Whitepaper for chosen Token\" width=\"200\"/></center>\n",
        "\n",
        "**Your Task 🏋️‍♂️**   \n",
        ">Pick one (or more) GameFi projects/token do some research about their concept 📋,  business model 👨🏻‍💼, etc. You will find website and whitepaper for most projects. Reflect on why their token might have the market cap as listed.📈  Also dive into the projects token economy, and derive insights.  \n",
        "\n",
        "👉🏻 *Present your results to your classmate.*  👨‍🏫🖥\n",
        "\n",
        "--- "
      ]
    },
    {
      "cell_type": "markdown",
      "metadata": {
        "id": "tb0RSl2HhHzI"
      },
      "source": [
        "### Topic 2: Pick a SocialFi 🤹🏻 project and present it to your classmates  👨‍🎓👩🏻‍🎓🐶  \n",
        ">*SocialFi brings together the principles of social media and decentralized finance (DeFi)*  \n",
        "\n",
        "This project is similiar to **Topic 1** but this time you analyze a **SocialFi** project. You will have a look into the biggest players in the SocialFi ecosystem from a Token perspective. **Tokenization** is a major concept within SocialFi and we can evaluate SocialFi provider according to their tokens market cap. \n",
        "\n",
        "You can have a look on [mytokencap.com](https://www.mytokencap.com/categories/22): They list hundreds of tokens related to SocialFi projects. Pick one and click on the token: \n",
        "<center><img src=\"https://www.dropbox.com/s/n8a1xbivf0vlycj/mytoken_SocialFi.png?raw=1\" alt=\"Website, Media and Whitepaper for chosen Token\"/></center>\n",
        "\n",
        "You will find more information like website, media and whitepaper to start your research:\n",
        "\n",
        "<center><img src=\"https://www.dropbox.com/s/2v9ezp1hyz6qne9/mytoken_Enjin_coin.png?raw=1\" alt=\"Website, Media and Whitepaper for chosen Token\" width=\"300\"/></center>\n",
        "\n",
        "**Your Task 🏋️‍♂️**   \n",
        ">Pick one (or more) SocialFi organizations/projects and do some research about their concept 📋,  business model 👨🏻‍💼, etc. Reflect on why their token might have the market cap as listed.📈 Also dive into the projects token economy if the project has one, and derive insights.  \n",
        "\n",
        "👉🏻 *Present your results to your classmate.*  👨‍🏫🖥\n",
        "\n",
        "----\n"
      ]
    },
    {
      "cell_type": "markdown",
      "metadata": {
        "id": "Oblvy4nwhHzJ"
      },
      "source": [
        "### Topic 3: Pick a Metaverse 🏖️ project and present it to your classmates  👨‍🎓👩🏻‍🎓🐶  \n",
        ">*We are all heard about the upcoming Metaverse and that it will disrupt everything we know about social media. But what is Metaverse exactly? What are the use cases and benefits for members, investors and businesses in the Metaverse?*    \n",
        "\n",
        "The metaverse is a three-dimensional virtual space that resembles our real world. Users in the Metaverse can come together inside a digital universe, socialize, and do activities like playing games, visiting shopping malls, working in a virtual office and hanging out with friends.\n",
        "\n",
        "You can have a look on [mytokencap.com](https://www.mytokencap.com/en/categories/291): They list hundreds of tokens related to Metaverse projects. Pick one and click on the token: \n",
        "<center><img src=\"https://www.dropbox.com/s/62em0246t6v31lz/metaverse.png?raw=1\" alt=\"Website, Media and Whitepaper for chosen Token\"/></center>\n",
        "\n",
        "**Your Task 🏋️‍♂️**   \n",
        "> Search for a metaverse project (i.e. Decantraland, NFT Worlds, Sandbox) and investigate them. Do some research about their concept 📋,  business model 👨🏻‍💼, etc. You will find website and whitepaper for most projects. Reflect on why their token might have the market cap as listed.📈  Also dive into the projects token economy, and derive insights.\n",
        "\n",
        "👉🏻 *Present your results or ideas to your classmate.*  👨‍🏫🖥\n",
        "\n",
        "---- "
      ]
    },
    {
      "cell_type": "markdown",
      "metadata": {
        "id": "1ZFG4OWVhHzL"
      },
      "source": [
        "### Topic 4: CryptoZombies 🧟‍♂️🧟‍♀️\n",
        "*Learn to Code Blockchain DApps By Building Simple Games*\n",
        ">*Maybe you are more into coding and want to learn more about **Solidity**?* Than this might be **your** project:\n",
        "\n",
        "CryptoZombies is an interactive school that teaches you all things about blockchains. In-browser step-by-step lessons take you from the very basics of Solidity to creating your own fully-functional blockchain-based game.\n",
        "\n",
        "![Lesson 1 Intro](https://www.dropbox.com/s/wzmvx7kj0kd3apl/cryptozombie_lesson1.jpg?raw=1)  \n",
        "\n",
        "\n",
        "CryptoZombies consists of 4 learning paths:\n",
        "1. Solidity Path: *Beginner to Intermediate Smart Contracts*  \n",
        "2. Chainlink Path: *Decentralized Oracles*   \n",
        "3. Advanced Solidity Path: *Get In-depth Knowledge*  \n",
        "4. Chainlink Path: *Decentralized Oracles*  \n",
        "5. Beyond Ethereum Path: *Explore the Blockchain Ecosystem*  \n",
        "\n",
        "![Example lesson](https://www.dropbox.com/s/5vx0hu9b44m9cjh/cryptozombies_lesson-screenshot.png?raw=1)\n",
        "\n",
        "**Your Task 🏋️‍♂️**   \n",
        ">Go to [https://cryptozombies.io](https://cryptozombies.io) *(It's free. You don't have to register but otherwise your progress won't be stored.)* Pick a path and start with the lessons. We leave it up to you which path (we suggest the *Solidity Path*) and how far you want to go. \n",
        "\n",
        "👉🏻 *Present us some screenshots or videos on your way thru this tutorial, tell us about your learning experience. Did it motivate you? Was it enjoyable? Do you think this concept of learning is efficient: do you think you gained good learning results for your invested time - esp. compared to \"traditional\" approaches to learn Solidity and blockchain?* 🧟‍♀️ 🧟‍♀️ 🎑 📺 👨‍🏫 🖥\n"
      ]
    },
    {
      "cell_type": "markdown",
      "metadata": {
        "id": "Oqr8nC0qhHzM"
      },
      "source": [
        "---\n",
        "# 📚 References  \n",
        "Leeway Hertz, (2012). [Metaverse-Use cases and benefits](https://medium.com/javarevisited/metaverse-use-cases-and-benefits-206e6fab3d67) *Medium Article*  📄💲  \n",
        "\n",
        "**Apps/Websites we used in this workbook**  \n",
        "- [www.mytokencap.com](https://www.mytokencap.com/en/categories) 👈🏻 *to research GameFi, SocialFi, Metaverse, etc. projects from the \"token-site\"* 🌏  \n",
        "- 🧟‍♀️🧟‍♂️ [www.cryptozombies.io](https://cryptozombies.io) 👈🏻 *in-browser step-by-step tutorial that teaches you all Solidity and blockchains* 👨‍🏫🎓  \n",
        "\n"
      ]
    },
    {
      "cell_type": "markdown",
      "metadata": {
        "id": "RS09AhZrhHzN"
      },
      "source": [
        "---  \n",
        "# Appendix: Where can you go from here? 🚶🏾‍♂️\n",
        ">🎖 *This part is fully optional!*  \n",
        "\n",
        "## Learning by doing - wait ... we mean: *learning by playing* 🎭🃏🤾‍♂️  \n",
        "- pick one of the games we introduced in the coursebook, register and simply start playing. You might need to install an additional wallet and/or invest a few crypto. \n",
        "\n",
        "## Have a peak 🙈 over the shoulder 🤓👤 of a GameFi developer 🧔🏽👨‍💻\n",
        ">*We recommend watching this EthCC talk by @wighawag on how to built a game entirely on-chain:*    \n",
        "- Ronan Sandford (2020), [Building a Game Fully On Chain](https://www.youtube.com/watch?v=3_WLjLsYUbM), *Youtube* 📺"
      ]
    }
  ],
  "metadata": {
    "colab": {
      "name": "04_GameFi_SocialFi_Workbook.ipynb.ipynb",
      "provenance": [],
      "include_colab_link": true
    },
    "interpreter": {
      "hash": "ea271a8d55864f2db1b3c7d9182e9261e5d717f60008da9ec5479eef0acaf401"
    },
    "kernelspec": {
      "display_name": "Python 3.9.10 ('blockchain39')",
      "language": "python",
      "name": "python3"
    },
    "language_info": {
      "codemirror_mode": {
        "name": "ipython",
        "version": 3
      },
      "file_extension": ".py",
      "mimetype": "text/x-python",
      "name": "python",
      "nbconvert_exporter": "python",
      "pygments_lexer": "ipython3",
      "version": "3.9.10"
    }
  },
  "nbformat": 4,
  "nbformat_minor": 0
}