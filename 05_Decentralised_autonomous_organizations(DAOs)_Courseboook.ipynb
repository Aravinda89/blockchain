{
  "cells": [
    {
      "cell_type": "markdown",
      "metadata": {
        "id": "view-in-github",
        "colab_type": "text"
      },
      "source": [
        "<a href=\"https://colab.research.google.com/github/Aravinda89/blockchain/blob/main/05_Decentralised_autonomous_organizations(DAOs)_Courseboook.ipynb\" target=\"_parent\"><img src=\"https://colab.research.google.com/assets/colab-badge.svg\" alt=\"Open In Colab\"/></a>"
      ]
    },
    {
      "cell_type": "markdown",
      "metadata": {
        "id": "aqV-qMMJc2Zz"
      },
      "source": [
        "[![Open In Colab](https://colab.research.google.com/assets/colab-badge.svg)](https://colab.research.google.com/github/unpackAI/BL101/blob/main/course_notebooks/Week_5_Decentralised_autonomous_organizations%28DAOs%29/05_Decentralised_autonomous_organizations%28DAOs%29_Courseboook.ipynb)"
      ]
    },
    {
      "cell_type": "markdown",
      "metadata": {
        "id": "Idpx9t3cc2Z2"
      },
      "source": [
        "# 💻Welcome to Week 5 of the BC101 Bootcamp \n",
        "\n",
        "You have successfully finished the forth week! You are almost at the end of this Bootcamp. Having covered the main areas of application, we will now be diving into the governance of blockchain-based applications, namely DAOs.\n",
        "\n",
        "## 📕 Learning Objectives\n",
        "\n",
        "* What are DAOs and what makes them the perfect governing entity in a web3 world.\n",
        "* Go through examples of voting mechanisms and tokenomics and compare their weaknesses and benefits.\n",
        "* Create your own DAO with which people can interact with and contribute tokens.\n",
        "\n",
        "## 📅 Weekly Progress\n",
        "\n",
        "|Week | Content | Learning Objectives|\n",
        "|:--- |:--- | :--- |\n",
        "| 1 | Hello Blockchain World | Get to know more about your classmates, the mentors, and learn about the fundamental concepts of the Blockchain, how it works, and write your first smart contract.|\n",
        "| 2 | Non-fungible Tokens (NFTs)| Learn more about Non-fungible Tokens (NFTs) and go through the protocols that make them unique and valuable. Create your own NFT collection, deploy it to a Testnet and view it on OpenSea. |\n",
        "| 3 | Decentralised Finance (DeFi)| Understand the major innovation behind DeFi, learn about the most popular DeFi protocols, and create your own cryptocurrency and DeFi project for others to interact with. |\n",
        "| 4 | GameFi & SocialFi | Discover a new field in Blockchain that has experienced explosive growth and tapped into concepts such as play-to-earn that currently push the boundaries of blockchain technology application beyond finance. Integrate your own SocialFi project with your DeFi and NFT project. |\n",
        "| **5** | **Decentralised Autonomous Orgaizations (DAOs) & Personal Project**  | **Find out why DAOs are the industries standard as the governing entity for blockchain-based organizations and how they handle voting mechanisms and tokenomics to make the entire organization function. Go through the process of building your own DAO, and pitch your own Blockchain project to the class. Successfully graduate from the Bootcamp and receive your Blockchain certification.** |"
      ]
    },
    {
      "cell_type": "markdown",
      "metadata": {
        "id": "JLVFBf37c2Z4"
      },
      "source": [
        "## DAOs - The governing entity living on the blockchain."
      ]
    },
    {
      "cell_type": "markdown",
      "metadata": {
        "id": "mxOaTohcc2Z5"
      },
      "source": [
        "### What is a DAO?"
      ]
    },
    {
      "cell_type": "markdown",
      "metadata": {
        "id": "G6XnwZj0c2Z6"
      },
      "source": [
        "DAO stands for **D**ecentralised **A**utonomous **O**rganization. In its simplest form you can imagine it as a group of people with a joint bank acccount (= treasury). Since a DAO is decentralised, there is no single stakeholders who controls it's assets, and a community voting process is required to make decisions. Individuals can become part of a DAO by investing currencies and exchanging it for the native token that governs the DAO. Their money is added to the treasury of the DAO, and the received tokens for their payment represent their stake and ownership which are necessary to participate in any votes that is posed by the community to the community. Additionally, the value of the DAOs native token can appreciatively benefitting all stakeholders. \n",
        "\n",
        ">Imagine that all of Google's users could be able to vote about what Google should do next. And all the rules were immutable, decentralized and transparent for everybody. This would solve the old problem of trust and centrality. *This is what DAOs are trying to do.*  "
      ]
    },
    {
      "cell_type": "code",
      "execution_count": null,
      "metadata": {
        "id": "8I3u3P_Nc2Z6",
        "outputId": "1120539b-01c5-44d8-e97c-2c470fd143bb"
      },
      "outputs": [
        {
          "data": {
            "text/html": [
              "\n",
              "        <iframe\n",
              "            width=\"560\"\n",
              "            height=\"315\"\n",
              "            src=\"https://www.youtube.com/embed/KHm0uUPqmVE\"\n",
              "            frameborder=\"0\"\n",
              "            allowfullscreen\n",
              "            \n",
              "        ></iframe>\n",
              "        "
            ],
            "text/plain": [
              "<IPython.lib.display.IFrame at 0x10fc70fa0>"
            ]
          },
          "execution_count": 6,
          "metadata": {},
          "output_type": "execute_result"
        }
      ],
      "source": [
        "from IPython.display import IFrame\n",
        "IFrame(src=\"https://www.youtube.com/embed/KHm0uUPqmVE\",width=\"560\", height=\"315\" )"
      ]
    },
    {
      "cell_type": "markdown",
      "metadata": {
        "id": "6PX6BaMqc2Z8"
      },
      "source": [
        "#### DAOs vs Traditional Organizations"
      ]
    },
    {
      "cell_type": "markdown",
      "metadata": {
        "id": "r3zdJ5l_c2Z8"
      },
      "source": [
        ">DAOs provide higher levels of transparency while reducing bureaucracy. They can minimize existing principal-agent dilemmas of organizations and therefore moral hazards. Tokens provide incentives to automatically align interests in the absence of third parties.\n",
        "\n",
        "![](https://www.dropbox.com/s/rrd15hnvls3jvw5/traditional_organization-vs-DAO.png?raw=1)  \n",
        "\n",
        "In traditional organizations all members have legal contracts which constitute the relationship among the members and the members toward the organization: employment contracts, constitutional law in democracies, membership contracts in clubs, etc. The motivation for the members to engage in an organization (incentives) are salary, voting outcome, benefits of joining the club, etc.\n",
        "\n",
        "DAOs on the other hand, involve a set of people interacting with each other according to a self-enforcing open-source protocol. Instead of based on legal contracts, DAOs use a majority consensus defined in smart contracts and executed with tokens. Blockchains and smart contracts reduce transaction costs of management. Individual behaviour is incentivized with a token to collectively contribute to a common goal. Members of a DAO are not bound together by a legal entity, although the legal situation differs between countries and purpose of the DAO (👉🏻 Legality).\n",
        "\n",
        "**DAOs can solve the principal-agent dilemma**\n",
        "DAOs tackle an age-old problem of governance where the agents (e.g. manager, politicians) have the power to make decisions in behalf of the principals (e.g. shareholder, citicens). In those situations *moral hazard* can occur - a situation where the agent has an incentive to increase its exposure to risk because it does not bear the full costs of that risk. (e.g.: A manager decides for a risky investment. If it is succesfull she will get a bonus payment, if it fails the shareholders have to cover the losses.)  \n",
        "\n",
        "DAOs on the other hand are open-source, thus transparent and - in theory - incorruptible. All transactions of the organization are recorded and maintained on a blockchain. Interests of the members of the organization are – if designed correctly – aligned by the incentive rules tied to the native token. Proposals take the primary way for making decisions within a DAO, which are voted for by majority consensus of involved network actors. As such, DAOs can be seen as distributed organisms, or distributed Internet tribes, that live on the Internet and exist autonomously, but also heavily rely on specialist individuals or smaller organisations to perform certain tasks that cannot be replaced with automation. \n",
        "\n",
        "As opposed to traditional companies that are structured in a top-down manner, with many layers of management and bureaucratic coordination, DAOs provide an operating system for people and institutions that do not know nor trust each other and who might live in different geographical areas, speak different languages, and therefore be subject to different jurisdictions.\n",
        "\n",
        ">*While a traditional organization requires a lot of trust in the people behind it — especially on behalf of investors — with DAOs, only the code needs to be trusted.*\n",
        "\n",
        "While this might be easy to comprehend at first, the implications of what a DAO could mean to the blockchain community are huge. To put this into perspective, let's dive into an example of \"The DAO\", which at one point controlled approximately 14% of all ether (ETH) in circulation."
      ]
    },
    {
      "cell_type": "markdown",
      "metadata": {
        "id": "f22nmaAdc2Z9"
      },
      "source": [
        "#### Use Case: The DAO"
      ]
    },
    {
      "cell_type": "markdown",
      "metadata": {
        "id": "7A3IMyvlc2Z-"
      },
      "source": [
        "In the beginning of May 2016, members of the Ethereum ecosystem announced the founding of the DAO, also known as Genesis DAO. The idea was simple. The DAO intended to operate like a venture capital fund to invest into projects in web3. During a creation period anyone was allowed to send ether to a governing ethereum wallet controlled by the DAO collective. Innovators could pitch ideas to the DAO community, upon which the community would initiate a vote whether to invest or not. If invested and the projects turns into a success, the entire community benefits.\n",
        "\n",
        "Within four weeks the DAO was able to raise 12.7 million Ether (at the time around worth over 250 USD million with a ETH price of 20 USD), one of the biggest fundraising efforts at the time. But then the worst case scenario occurred.\n",
        "\n",
        "On June 17th, 2016, a hacker was able to steal 3.6 million ETH within a few hours, exploiting a loophole in the smart contracts that governed the DAO. This hack affected the entire ethereum ecosystem and its price. The founder of ethereum, *Vitalik Buterin* reacted swiftly and initiated a hard-fork, an update to the ethereum blockchain that effectively rolled back the Ethereum network’s history to before The DAO attack and reallocated The DAO’s ether to a different smart contract so that investors could withdraw their funds. This was extremely controversial, and since the ethereum founders did not unilateral hold power of the DAO, miners, exchanges and node operators had to agree too.\n",
        "\n",
        "After a heated debate in public forums, on July 20, 2016, at block 192,000, the Ethereum hard-fork was implemented.\n",
        "\n",
        "Below you can see the fluctuation in the ethereum price during that period with a high on June 17th:\n",
        "\n",
        "<img src=\"https://www.dropbox.com/s/iwp97o9brl6x2im/EthereumPrice.png?raw=1\" alt=\"etherprice\" width=\"800\"/>\n",
        "\n",
        "This example not only shows the possible risk of DAOs but also its potential to concentrate collective wealth in a short amount of time."
      ]
    },
    {
      "cell_type": "markdown",
      "metadata": {
        "id": "VRrRjSEdc2Z_"
      },
      "source": [
        "#### Types of DAOs"
      ]
    },
    {
      "cell_type": "markdown",
      "metadata": {
        "id": "kvf10AHuc2Z_"
      },
      "source": [
        "The main types of DAOs are:  \n",
        "\n",
        "|DAO|Purpose|Examples|\n",
        "|--|--|--|\n",
        "|Protocol DAOs|designed to govern a decentralized protocol such as a borrow/lending application, DEX, or another type of dApp|MakerDAO, Uniswap, Yearn Finance|\n",
        "|Grant DAOs|to facilitate nonprofit donations, deploy capital assets throughout the web3 ecosystem. Grant DAOs are either a charitable extension of a larger project or an entirely separate entity in the DeFi space|Aave Grants DAO, Meta Cartel|\n",
        "|Philanthropy DAOs|designed to help progress social responsibility by organizing around a shared purpose to create impact in the world of Web3|[Big Green DAO](https://dao.biggreen.org), [UkraineDAO](https://www.ukrainedao.love/ukraine-dao)|\n",
        "|Social DAOs|represent self-organizing communities by bringing together like-minded individuals (e.g. artists, creatives). - often with a barrier to entry such as owning a specific number of tokens, owning an NFT, or being personally invited|[Developer DAO](https://www.developerdao.com) (a community of web3 builders with the aim to help and educate each other), [Friends with Benefits](https://www.fwb.help) (a group of cultural creators, thinkers and builders who convene to collaboratively shape Web3's future|\n",
        "|Collector DAOs|aim to pool funds together so that the collective community can invest treasury funds in blue chip NFT art projects and other collectibles, where each member owns a share corresponding to their personal investment|[FlamingoDAO](https://docs.flamingodao.xyz) (an NFT-focused DAO that aims to explore emerging investment opportunities for ownable, blockchain-based assets)|\n",
        "|Investment & Venture DAOs|aim to invest in early stage web3 startups, protocols, off-chain investments, and get access to portfolios not available in traditional finance|[MetaCartel Ventures](https://metacartel.xyz) (fund which invests in early-stage DApps) , BessemerDAO (a tool for community engagement and product development among entrepreneurs in the web3 industry)|\n",
        "|Media DAOs|reinvent traditional media platforms by creating media content driven by the community|BanklessDAO, Decrypt |\n",
        "|SubDAOs|to diversify an existing DAO. It's a new kind of DAO that is a subset of DAO members that are organized to manage specific functions of their DAO (e.g. special operations, marketing, treasury, etc. |Balancer DAO|"
      ]
    },
    {
      "cell_type": "markdown",
      "metadata": {
        "id": "iPKq1uUsc2aA"
      },
      "source": [
        "#### Other examples for DAOs"
      ]
    },
    {
      "cell_type": "markdown",
      "metadata": {
        "id": "u6Xqb4p6c2aB"
      },
      "source": [
        "Many of different DAOs exist - to give you an impressions of the variety of DAOs:  \n",
        "\n",
        "- [Compound](https://compound.finance/governance) - a decentralized, blockchain-based protocol that allows you to lend and borrow crypto\n",
        "- [BitDAO](https://www.bitdao.io/) - one of the largest DAOs that collectively invests into DeFi ecosystem\n",
        "- [Aragon](https://aragon.org/) - DAO that allows you to create your own decentralized autonomous organizations (DAOs)\n",
        "- [ConstitutionDAO](https://www.constitutiondao.com/) - a single-purpose DAO for raising funds to purchase an original copy of the United States Constitution\n",
        "- [UniSwap](https://uniswap.org/) - one of the biggest DEX transformed itself into a DAO  \n",
        "- [UkraineDAO](https://ukraine-dao.notion.site/ukraine-dao/Ukraine-DAO-Home-Page-3a0e63c6190b4796890dec5c72a94872) a DAO raising funds to help Ukraine fight the war against Russia and have already donated over 7 million USD.  \n",
        "- *... and many more*  \n",
        "\n",
        "After having a general understanding of what DAOs are and can do, lets dive a little more into the specifics."
      ]
    },
    {
      "cell_type": "markdown",
      "metadata": {
        "id": "gfDxItdoc2aB"
      },
      "source": [
        "## How do DAOs work?\n",
        "The backbone of a DAO is its smart contract. The contract defines the rules of the organization and holds the DAO's treasury. Once the contract is deployed to the blockchain, no one can change the rules except by voting. If anyone tries to do something that's not covered by the rules and logic in the code, it will fail. And because the treasury is defined by the smart contract too that means no one can spend the money without the group's approval either. This means that DAOs don't need a central authority. Instead, the group makes decisions collectively, and payments are automatically authorized when votes pass.\n",
        "\n",
        "Creating a DAO is simple:  \n",
        "1. creating the smart contract for the governance structure  \n",
        "2. issuing tokens (for voting and to raise capital) \n",
        "3. start operating (by voting)"
      ]
    },
    {
      "cell_type": "markdown",
      "metadata": {
        "id": "iND9BOGAc2aC"
      },
      "source": [
        "### Compound DAO as an example for the governance process    "
      ]
    },
    {
      "cell_type": "markdown",
      "metadata": {
        "id": "PAhj27qFc2aC"
      },
      "source": [
        "To understand how DAOs work, we dive deeper into the governance protocol of **Compound DAO**.\n",
        "Compound is beside Uniswap, MakerDao and DYP one of the biggest DeFi player. It's a borrowing and lending application and everything in this application is build in smart contracts. \n",
        "Like most DAOs Compound wants to change part of their smart contracts from time to time. For example, they want to add a new token to allow borrowing and lending or they want to change some of the API parameters, or maybe they want to block certain coins, etc. They do so by initiating proposols about what should be changed and then vote about the proposols. The whole governance process is public and everything is transparent.\n",
        "\n",
        "The voting mechanism in Compound consists of three sections:  \n",
        "\n",
        "<img src=\"https://www.dropbox.com/s/9e48y5y83vc1phn/compound_gov_diagram.png?raw=1\" width=\"600\" alt=\"Governance Process in Compound\"/>\n",
        "\n",
        "1. `COMP Token`: COMP is an ERC-20 token that empowers community governance of the Compound protocol. COMP token-holders can delegate their voting rights to themselves, or an address of their choice. COMP token-holders debate, propose, and vote on all changes to the protocol. Members can get COMP tokens by using Compound: within each market (Compound is a lending and borrowing app), half of the distribution is earned by suppliers, and the other half by borrowers. Each day, 1,200 COMP are distributed to users of the protocol. Users can also buy COMP regularly on most DEX:\n",
        "\n",
        "<center><img src=\"https://www.dropbox.com/s/76jlhfac81zvefo/COMP-token.png?raw=1\" width=\"400\" alt=\"COMP token\"/> </center>\n",
        "\n",
        "2. `Governor Bravo`: is the governor component of the DAO. Every address with more than 25k COMP tokens can propose changes to the DAO. Proposals can modify system parameters, support new markets, or add entirely new functionality to the protocol.\n",
        "\n",
        "3. `Timelock`: after a proposal has succeeded, it is moved into the Timelock waiting period using this function. The waiting period (e.g. 2 days) begins when this function is called. The queue function can be called by any Ethereum address.\n",
        "\n",
        "After the Timelock waiting period has elapsed, a proposal can be executed using the `execute()` function, which applies the proposal changes to the target contracts. This will invoke each of the actions described in the proposal.\n",
        "\n",
        "  *To better understand the governance structure, let's investigate the process of voting for a specific proposal.*"
      ]
    },
    {
      "cell_type": "markdown",
      "metadata": {
        "id": "tJwFVJt1c2aD"
      },
      "source": [
        "#### Example Proposal Voting Process  "
      ]
    },
    {
      "cell_type": "markdown",
      "metadata": {
        "id": "P7dHJ5sZc2aD"
      },
      "source": [
        "The whole voting history in Compound is public. On their website is the [Governance Overview](https://compound.finance/governance) which shows all proposals and ballots. Let's have a closer look into the proposal 112 _[Return Accidentally Sent Funds #3](https://compound.finance/governance/proposals/112)_:\n",
        "\n",
        "<img src=\"https://www.dropbox.com/s/brtkabj89st0le1/Compound_governance_proposols2.png?raw=1\" alt=\"Governance Proposals in Compound\"/> \n",
        "\n",
        "We can see that some proposals were passed and some were not. We can see who initiated the proposals. We can even click on the creator and see the transaction on Etherscan where we can study the [exact parameters for the proposal](https://etherscan.io/tx/0x437160ff46d4a708337ee9690bff57dbff4c7341d67c9c5c05b3f76e7afdc2b6):\n",
        "\n",
        "<img src=\"https://www.dropbox.com/s/bpe7gvpjnzkkhr0/compound_proposol_txn.png?raw=1\" alt=\"Transaction Details of Proposal\"/> \n",
        "\n",
        "*(Link: [https://etherscan.io/tx/0x437160ff46d4a708337ee9690bff57dbff4c7341d67c9c5c05b3f76e7afdc2b6](https://etherscan.io/tx/0x437160ff46d4a708337ee9690bff57dbff4c7341d67c9c5c05b3f76e7afdc2b6))*  \n",
        "\n",
        "\n",
        "We can see that the transaction fee was 26.40 USD and we can see the content of the proposal (👉🏻 Input Data). A proposal typically has:   \n",
        "\n",
        "- a list of addresses (👉🏻 `0 targets`): in most cases the DAO as the owner of that contract\n",
        "- a list of functions to call on those addresses (👉🏻 `2 signatures`)\n",
        "- the parameters to pass to those addresses (👉🏻 `3 calldatas`): in this contract only 0s, i.e. no ETH were send.\n",
        "\n",
        "**For example:** this particular proposal calls the function `_setPendingImplementation()` to the first addresses, the function `_become()` to the second address, etc.  \n",
        "\n",
        "If you scroll down you can also see a description about what this proposol is for and why.  \n",
        "\n",
        "If we click on the `contract address` in Etherscan, scroll down to *contract* and click on *Write as Proxy* we can see the exact functions the members called to vote for the proposal:   \n",
        "\n",
        "- `castVote(uint proposalId, uint8 support)` \n",
        "  - `proposalId`: ID of a proposal in which to cast a vote.\n",
        "  - `support`: An integer of 0 for against, 1 for in-favor, and 2 for abstain.\n",
        "\n",
        "- `castVoteBySig(uint proposalId, uint8 support, uint8 v, bytes32 r, bytes32 s)` <- *This function has the same purpose as `castVote` but it instead enables offline signatures to participate in voting.*\n",
        "  - `v`: The recovery byte of the signature.\n",
        "  - `r`: Half of the ECDSA signature pair.\n",
        "  - `s`: Half of the ECDSA signature pair.   \n",
        "\n",
        "- `castVoteWithReason (uint proposalId, uint8 support, string calldata reason)` \n",
        "  - `reason`: A string containing the voter's reason for their vote selection.\n",
        "\n",
        "After the proposol has been `created` it becomes *- after a short delay -* `active`: \n",
        "\n",
        "<img src=\"https://www.dropbox.com/s/cvdvqx50tgnw9ra/compound_roposal_history.png?raw=1\" alt=\"Steps in Voting in Compound\"/> \n",
        "\n",
        "Now the members of the DAO can start voting. They can do this either by sending a transaction or by using the [online voting app](https://compound.finance/governance) on Compounds website. \n",
        "\n",
        "If the vote passes *(which this one overwhelmly did)* it reaches `succeded` and enters the `queued` stage. There is a minimum delay between the passing and the executing of the proposal and the execute function can only be called if the proposal passed:\n",
        "\n",
        "<img src=\"https://www.dropbox.com/s/6x3v687lw4tzs0s/compound_executed_txn.png?raw=1\" alt=\"Execute Function Transaction in Compound\"/> \n",
        "\n",
        "*(Link: [https://etherscan.io/tx/0x6e71b658937ffd86f06f231f22a655d9b55b4f051c9103ffaa0bef263aa8e68c](https://etherscan.io/tx/0x6e71b658937ffd86f06f231f22a655d9b55b4f051c9103ffaa0bef263aa8e68c))*   \n"
      ]
    },
    {
      "cell_type": "markdown",
      "metadata": {
        "id": "DydqVw0oc2aE"
      },
      "source": [
        "### On-Chain vs Off-Chain Governance\n",
        "\n",
        "There are two main kinds of Governance: \n",
        "1. Off-Chain Governance\n",
        "2. On-Chain Governance\n",
        "\n",
        "||Off-Chain|On-Chain|\n",
        "|--|---|--|  \n",
        "|**PROS:** |cheaper gas|more advanced tools|\n",
        "|**CONS:** |less advanced tools|gas expensive|  \n",
        "\n",
        "As with NFTs where we could store our image on-chain or off-chain, the same basic question arises when setting up a DAO. On-chain voting means that every vote happens on the blockchain. This is the most *decentralized* way. \n",
        "The advantage of off-chain voting is obvious: instead of many transactions the whole voting procedure can be done within one transaction resulting in dramatically less gas costs.\n",
        "\n",
        "*The implementation of the voting mechanism can also be done on- or off-chain:*   \n",
        "\n",
        "### On-chain voting\n",
        "On-chain voting is what we saw in the Compound example: \n",
        "DAOs are smart contracts on the blockchain containing contract(s) or functions for voting -> the voters call the vote function of the smart contract which is for voting -> the voters get verified by their wallet (e.g. Metamask) -> they send the transaction -> voting happened.\n",
        "\n",
        "But every transaction costs gas (in our example above 26.40 USD! for initiating the proposol). And the bigger the community the more gas has to be payed for every voting, i.e. everytime the community wants to change something to their DAO they have to pay for it, i.e. for every vote. \n",
        "\n",
        " The benefits of an on-chain governance system is that it is predictable and stable. On the other side a governance structure should be flexible enough to deal with new challenges: if the structure is fully engineered in advance the organization might not be able to react quickly enough to new changes in its environment.\n",
        "\n",
        "So in summary, on-chain voting is:  \n",
        "- pro: the architecture is very easy, everything is on-chain, everything is transparent\n",
        "- contra: not so flexible, gas-expensive *(but there are a lot of approaches to solve the gas problem: Governance-as-a-Service provider like [GovernorDAO](https://governordao.org/) or random sampling of votes in combination with quadratic voting to help reduce costs while increasing civil resistance (👉🏻 quadratic voting).*\n",
        "\n",
        "\n",
        "### Off-chain voting\n",
        "In Off-chain voting the voters send their signed transaction to a decentralized database like IPFS. At the end of the voting period all votes are counted in IPFS and the result will be delivered (via oracle chainlink) to the blockchain. This reduces the whole voting process to one single transaction. \n",
        "Beside using decentralized databases a DAO can use services like **Snapshot**. Snapshot summerizes all the signed transaction in a single transaction to save gas. This can reduce the voting costs by up to 99%.  Snapshot is one of the most popular applications for off-chain voting. But snapshot has no chainlink integration so far - making it cheap but not as safe as on-chain voting. \n",
        "\n",
        "So in summary, off-chain voting is:  \n",
        "- pro: efficient, gas saving\n",
        "- contra: it needs to be implemented very carefully *(if you are running your entire DAO through a centralized oracle, you are essentially reintroducing a centralized intermediary and ruining the decentralization of your application)*\n"
      ]
    },
    {
      "cell_type": "markdown",
      "metadata": {
        "id": "rSXNY4JMc2aE"
      },
      "source": [
        "## DAO Governance"
      ]
    },
    {
      "cell_type": "markdown",
      "metadata": {
        "id": "_k9s7nvsc2aE"
      },
      "source": [
        "Governance is [defined](https://www.merriam-webster.com/dictionary/governance) as _\"the act or process of governing or overseeing the control and direction of something (such as a country or an organization.\"_     \n",
        " \n",
        "DAO's are governed by smart contracts that provide the immutable framework of rules and voting mechanisms. Let's dive into how voting can be architectured:\n",
        "\n",
        "In general, you can differentiate voting into 3 different types:\n",
        "\n",
        "1. Coin Voting Governance\n",
        "2. Non-Coin Voting Governance\n",
        "3. Hybrid Solutions\n",
        "\n",
        "Keep in mind that DAO governance is an ever-developing discussion wihin the Blockchain community. For the entire Blockchain community it is a *Work-In-Progress*."
      ]
    },
    {
      "cell_type": "markdown",
      "metadata": {
        "id": "ilEx7xElc2aF"
      },
      "source": [
        "### Coin Voting Governance"
      ]
    },
    {
      "cell_type": "markdown",
      "metadata": {
        "id": "OeZVO0Upc2aF"
      },
      "source": [
        "Coin Voting Governance is straight forward. *Tokens represent votes. The more tokens you have, the more votes you have.*\n",
        "\n",
        "Generally, when a DAO is founded, the founding members create a new governance token and distribute it to users, backers, and other stakeholders. Each token corresponds to a set amount of voting power within the organization. Each token also corresponds to a price on the secondary market, where it can be bought and sold at will.\n",
        "\n",
        "You can already see that, while DAOs exist to decentralise power, Coin Voting Governance can easily be manipulated to centralise power. Potential attackers can make use of coin voting's deep fundamental vulnerability: *vote buying*. By buying votes they are able to manipulated and influence the path of the DAO.\n",
        "\n",
        "Even if you do not consider attackers, there are other obvious flaws with Coin Voting:\n",
        "\n",
        "1. **Large groups of small-holders are less successful in carrying out decisions than small groups of rich players (referred to as \"whales\").** Small-holders suffer from the *tragedy of the commons*, which means they have no incentive to vote because each one of them has a insignificant impact on the outcome. Even if there are incentives for voting, there is little reason for people to do their study and give their vote serious consideration.\n",
        "\n",
        "2. **At the expense of other members of the community, coin vote governance only promotes the interest of coin holders.** Protocol communities are diverse and have a wide range of beliefs, visions, and objectives. Coin voting, however, only gives power to one constituency (coin holders, and especially wealthy ones), and leads to over-valuing the goal of making the coin price go up even if that involves harmful rent extraction.\n",
        "\n",
        "3. **Issues with conflicts of interest**: Giving voting power to a single constituency (coin holders), especially by wealthy one, runs the risk of exposing that elite to too many conflicts of interest (eg. investment funds or holders that also hold tokens of other DeFi platforms that interact with the platform in question).\n",
        "\n",
        "A [recent report](https://blog.chainalysis.com/reports/web3-daos-2022/) about the concentration of decision-making power in ten major DAOs found that on average, less than 1% of all holders have 90% of the voting power."
      ]
    },
    {
      "cell_type": "markdown",
      "metadata": {
        "id": "YyjnkZbhc2aG"
      },
      "source": [
        "### Non-Coin Voting Governance"
      ]
    },
    {
      "cell_type": "markdown",
      "metadata": {
        "id": "LPY75Pbrc2aH"
      },
      "source": [
        "\n",
        "Non-Coin Voting does not consider the amount of governance tokens that you own, but rely on the simple premise of *one person one vote*.\n",
        "\n",
        "The obvious problem is *how are you able to link the identity of an individual to his or her wallet?* If one individual is able to create an infinite amount of wallets, Non-Coin Voting Governance is deemed to fail, isn't it? Indeed there are a few projects working to solve exactly this.\n",
        "\n",
        "1. Proof of personhood systems: systems that verify that accounts correspond to unique individual humans, so that governance can assign one vote per human.\n",
        "\n",
        ">[ProofOfHumanity](https://app.proofofhumanity.id/) (or PoH) is a social identity verification system for humans on the Ethereum mainnet. User need to register with their wallet address and go through a few steps involving uploading a picture, video statement and going through a vouching process. After successful verification the user receives a token (*UBI token*) which identifies them as the person they are. The verficiation needs to be renewed after one year. \n",
        "\n",
        "<img src='https://www.dropbox.com/s/toxju7dcolmg1vf/proof_of_identity.jpg?raw=1' alt=\"Proof of Identity Profiles\"> \n",
        "\n",
        "2. Proof of participation systems: systems that attest to the fact that some account corresponds to a person that has participated in some event, passed some educational training, or performed some useful work in the ecosystem.\n",
        "\n",
        ">[POAP](https://poap.xyz/) is a curated ecosystem for the preservation of memories. By checking-in at different events, POAP collectors build a digital scrapbook where each POAP is an anchor to a place and space in time.\n",
        "\n",
        "3. **Soulbound NFTs**: Coined by *Vitalik Buterin* in late January 2022, Soulbound NFTs explores an alternative path, combining a few of the aspects previously mentioned. Soulbound NFTs are permanent, non-transferable NFTs, meaning that they can't be given away or taken from your private blockchain wallet. While they could represent participation in real-life events or achievements, they may also indicate your membership within a community. A collection of Soulbound NFTs make up your Soul or on-chain identity. This not only provides a fine solution for Non-Coin Voting Governance, but also makes community wallet recovery possible (various stakeholders within the community were part of confirming your identity to reaccess your wallet). Vitalik Buterin calls the greater future unlocked by Soulbound NFTs a \"Decentralized Society” (DeSoc). We heavily recommend for you to read the [entire paper](https://papers.ssrn.com/sol3/papers.cfm?abstract_id=4105763).\n",
        "\n",
        "Non-coin Voting Mechanisms still have to be developed further to get seriously be implemented."
      ]
    },
    {
      "cell_type": "markdown",
      "metadata": {
        "id": "BI4N2PQec2aH"
      },
      "source": [
        "### Hybrid Solutions"
      ]
    },
    {
      "cell_type": "markdown",
      "metadata": {
        "id": "ZPAdo0Vlc2aH"
      },
      "source": [
        "There are some voting mechanisms that incorporate both governance models. One of such is called **Quadratic voting**.\n",
        "\n",
        "Quadratic voting is a collective decision-making procedure where individuals allocate votes to express the degree of their preferences, rather than just the direction of their preferences. This all means the results of a vote reflect the intensity of people’s preferences in collective decisions. Both Gitcoin or TheDAO utilize Quadratic Voting.\n",
        "\n",
        "*How it works?*\n",
        "Voters receive budgets of “Influence Power,” which they allocate to different options on the ballot to signal the intensity of their conviction. Every “Recorded Vote” uses the number of votes, squared of influence power.\n",
        "\n",
        "So if you put 1 Vote on an option, that uses 1 Influence Power,\n",
        "2 Votes on an option, uses 4 Influence Power,\n",
        "3 Votes on an option, uses 9 Influence Power, and so on.\n",
        "\n",
        "Since the participation of a fake identity in the voting process could lead to unfair results, proof of identity is a key necessity with quadratic voting. \n",
        "\n",
        "To compare this with pure Coin and Non-Coin voting, voting power is more evenly distributed.\n",
        "\n",
        "<img src=\"https://www.dropbox.com/s/n4zo039cmu7mlf8/dao_voting_.png?raw=1\" alt=\"dao_voting\" width=\"800\"/>"
      ]
    },
    {
      "cell_type": "markdown",
      "metadata": {
        "id": "TWfmEvnhc2aI"
      },
      "source": [
        "## Useful tools to build and explore DAOs"
      ]
    },
    {
      "cell_type": "markdown",
      "metadata": {
        "id": "eqUsr5OBc2aI"
      },
      "source": [
        "### Aragon"
      ]
    },
    {
      "cell_type": "markdown",
      "metadata": {
        "id": "SYnbX7Uwc2aI"
      },
      "source": [
        ">We will also use Aragon within the Workbook.\n",
        "\n",
        "[Aragon](https://aragon.org/) is an Ethereum dApp that makes it really easy to launch a DAO. We will use it in this weeks workbooks project. Aragon works with Ethereum testnets and Metamask. Aragon is an easy to use click-thru application. It supports token-based, membership-based and a variation of skim-the-game voting.   \n",
        "1. In a first step you chose a template for your DAO (company, membership, reputation) which defines the voting mechanism and setup some basic voting parameters like minimum votes, quorum, etc.\n",
        "\n",
        "<img src='https://www.dropbox.com/s/piqjvum61e1fnax/aragon_configure-template.png?raw=1' width=\"500\" alt=\"Aragon Configuration\"> \n",
        "\n",
        "\n",
        "2. In a second step you can create your first proposal question to begin the voting process. \n",
        "\n",
        "<img src='https://www.dropbox.com/s/yomrix8m2eoxhap/aragon_voting.png?raw=1' width=\"500\" alt=\"Aragon Voting\"> \n",
        "\n",
        "3. Once the proposal is live, members can vote yes or no, and the voting window will be open for the time duration set in the earlier steps.\n",
        "  "
      ]
    },
    {
      "cell_type": "markdown",
      "metadata": {
        "id": "HG-bx4ZKc2aI"
      },
      "source": [
        "### DAO Stack"
      ]
    },
    {
      "cell_type": "markdown",
      "metadata": {
        "id": "QEggX7Xkc2aJ"
      },
      "source": [
        "[DAO Stack](https://daostack.io/) is similar to Aragon. This online tool includes a modular smart contract framework and an intuitive user interface that allows anyone to create or participate in a decentralized organization without technical knowledge. It runs on Ethereum and you connect with your Metamask wallet. Unfortunately, DAO Stack does not support testnets.\n",
        "\n",
        "An example voting interface looks like this:  \n",
        "\n",
        "<img src='https://www.dropbox.com/s/i6yah1fvfcosel4/DAO_stack_example.png?raw=1' alt=\"DAO Stack Example Voting Interface\"> "
      ]
    },
    {
      "cell_type": "markdown",
      "metadata": {
        "id": "nBUEzpDJc2aJ"
      },
      "source": [
        "### DAO Haus"
      ]
    },
    {
      "cell_type": "markdown",
      "metadata": {
        "id": "Qnp1nwPQc2aK"
      },
      "source": [
        ">_\"It’s a great way to bring people together who want to get shit done. The process of building a DAO community is an experience that you will never regret.\"_ (comment on DAO House website) \n",
        "\n",
        "DAO House is another user-friendly click-thru DAO app similar to Aragon and DAO Stack. You can connect with either Metamask or WalletConnect and like Aragon it supports Ethereum Testnets. \n",
        "You can explore DAOs without the need to setup an account: \n",
        "\n",
        "<img src='https://www.dropbox.com/s/nzql4xivy2xwlfn/DAO-Haus_explore.png?raw=1' alt=\"DAO Haus Interface\"> "
      ]
    },
    {
      "cell_type": "markdown",
      "metadata": {
        "id": "aU6393VEc2aL"
      },
      "source": [
        "### Snapshot "
      ]
    },
    {
      "cell_type": "markdown",
      "metadata": {
        "id": "N8NlALdXc2aL"
      },
      "source": [
        "[Snapshot](https://snapshot.org/#/) is one of the most popular tools out there for both getting the sentiment of a DAO and actually simulates the voting execution for the users with their actual tokens. The voting transactions get stored in IPFS but none of it actually gets executed unless the DAO chooses to so. This can be a great way to get a feel for what your DAO wants to do and optionally you can send the transactions and execute the votes as well."
      ]
    },
    {
      "cell_type": "markdown",
      "metadata": {
        "id": "7btYweowc2aL"
      },
      "source": [
        "### Colony "
      ]
    },
    {
      "cell_type": "markdown",
      "metadata": {
        "id": "YK-S1foSc2aL"
      },
      "source": [
        "\n",
        "The last DAO app we want to introduce is [Colony](https://colony.io/). It is also a click-thru user-friendly app. According to their website it only takes you 90 seconds to create a DAO (*it took us longer*). You can also add your own ERC-20 token during setup. Colony uses the `Gnosis Chain` - an Ethereum Virtual Machine blockchain designed for fast and inexpensive transactions. You need to connect with your Metamask wallet.\n",
        "\n",
        "<img src='https://www.dropbox.com/s/dyjaka1aykkx0hu/Colony_deployment_process.png?raw=1' alt=\"Steps for deploy your DAO on Colony\" width=\"400\"> "
      ]
    },
    {
      "cell_type": "markdown",
      "metadata": {
        "id": "KadZH2JXc2aM"
      },
      "source": [
        "### OpenZeppelin Contract Wizard  \n",
        "If you are looking for a more *cody* alternative to create your DAO, **OpenZeppelin** has an [interactive generator](https://docs.openzeppelin.com/contracts/4.x/wizard) to create Government Tokens. You chose the main parameters (name, voting time, qorum, etc.) and on which token template your DAO is based (e.g. `ERC20Votes`, `ERC721Votes`) and you can see immediately how the Solidity contract will look like:\n",
        "\n",
        "<img src='https://www.dropbox.com/s/ldzcjsw38hs1tea/OpenZeppelin_wizard_governor.png?raw=1' width=\"600\" alt=\"OpenZeppelin Contract Wizard\"> \n",
        "\n",
        "It's a new and helpful tool for every web3 developer: you can:  \n",
        "1. setup the basic smart contract in Solidity,  \n",
        "2. load it into to **Remix** *(to add more functions, test it, etc.)*,  \n",
        "3. download it into your _/contract_ folder in **replit** or into your local IDE and then finally   \n",
        "4. deploy it with `javascript hardhat` or `python brownie` to the blockchain. "
      ]
    },
    {
      "cell_type": "markdown",
      "metadata": {
        "id": "YBEnWA1lc2aM"
      },
      "source": [
        "## Legality"
      ]
    },
    {
      "cell_type": "markdown",
      "metadata": {
        "id": "uTBBLdbgc2aN"
      },
      "source": [
        "### Legal Situation\n",
        ">The precise legal status of DAOs are generally unclear and may vary by jurisdiction.   "
      ]
    },
    {
      "cell_type": "markdown",
      "metadata": {
        "id": "coAK52eXc2aN"
      },
      "source": [
        "Despite once described by the [New York Times](https://www.nytimes.com/interactive/2022/03/18/technology/what-are-daos.html) as a _\"group chat with a bank account\"_ DAOs become increasingly prominent by funding projects, investing in companies, and employing people or organizations. \n",
        "\n",
        "As a consequence the question arises *how is the legal situation of DAOs?* Unfortunately, we could not find a clear answere as it depends heavily on the purpose and nature of the concrete DAO as well as the jurisdiction (country, state, members nationality, etc.).\n",
        "\n",
        "The whole legal situation of DAO is still mostly undefined. But we can pose some questions to raise your awareness and give some first answers we found during our research: \n",
        "\n",
        "**Where is the registered office of a DAO?**  \n",
        "By definition, a DAO is a blockchain-based organization operating with no central location, headquarters, or centralized decision-making authority. \n",
        "DAOs are decentralized and exists solely on a blockchain with potentially thousands of members spread across the globe. \n",
        "_So if someone wants to sue a DAO, where to send the accusal documents?_ In general, the answer depends on which legal entity the DAO will be considered (see below) This can therefore be the registered office or even the private address of any member of the DAO.\n",
        "\n",
        "**How does a DAO enter a legally binding contract?**  \n",
        "_Aree members of a DAO personal liable for any action of the DAO (beside the value of the token they invested)?_    \n",
        "The problem is that some lawyers might consider a DAO as a general partnership or unincorporated association with full personal liability of its members. In some countries, like Austria for example, there are trends in the legal literature to see DAOs as a civil law partnership. Civil law partnerships are usually defined as legal entities of at least two persons with the scope of conducting a common goal. Its partners are considered entrepreneurs in the scope of their business activity and all partners are personal liable. The \"registered office\" (under austrian law) would then be any private address of the members.\n",
        "\n",
        "In General, the unclear legal situation can make it very difficult for DAOs to find business partners as businesses and investors might be discouraged to engage with the DAO. \n",
        "\n",
        "A typical workaround is to adapt an *LLC Wrapper* for the DAO. An LLC in the USA is a limited liability company which protects its members from any personal liability and losses exceeding the companies share capital. But personal liabiltiy can still exist in case of gross negligence - for all members or only for the managing directors, depending on the state. \n",
        "Most countries in the world have simular legal concepts. However, not all DAOs chose this business structure. Some worry that forming an LLC takes away the decentralization that is a key element of a DAO. \n",
        "\n",
        "**How to select the legal entity?**  \n",
        "A US venture capital recently published an \"Entity selection framework\" for DAOs<a name=\"KER\"></a>[<sup>[KER]</sup>](#KER) - describing organizational alternatives for DAOs.\n",
        "\n",
        "![DAO Entity Selection Framework Flowchart](https://www.dropbox.com/s/qhcjdzbugpqbmy5/DAO-Entity-Selection-Framework-Flowchart.png?raw=1)    \n",
        "\n",
        "**Are there any financial regulations regard the tokens a DAOs issues?**   \n",
        "In 2017, the large number of ICOs attracted the attention of the US Securities and Exchange Commission (SEC). The commission’s position was that the tokens offered in these ICOs had to be treated as securities under US law. \n",
        "As a consequence , more and more DAOs nowaday follow a **dual-token model** - seperating governance tokens (rights to a formal vote) and transactional tokens or tokens for fundraising. \n",
        "\n",
        "#### Special Case: DAOs in Wyoming\n",
        "With the purpose of making the process of a DAO becoming an LLC easier and cheaper and attracting more DAOs, the US state Wyoming enacted a statute in 2021 allowing a new legal entity — a *DAO LLC* — to be formed.  Everybody can register a DAO in Wyoming. However, a Wyoming registered agent who can receive legal mail on behalf of the DAO is needed. The inital filing fee is 100 USD and the annual filing fee is 60 USD. The name of the DAO must include \"DAO LLC\".\n",
        "\n",
        "The legal situation of DAOs is currently a hot topic and it can be expected that other US states and countries will follow Wyomings example: The US state Tennesse established a similar law recently and the US state Vermont furthermore enacted a law that allows the creation and registration of a **BBLLC**: blockchain-based limited liability company. Countries like Australia and the Marshall Islands are also considering to adapt their corporate law to DAOs."
      ]
    },
    {
      "cell_type": "markdown",
      "metadata": {
        "id": "MsrxKs5Gc2aO"
      },
      "source": [
        "## One last crititcal word about DAO  \n",
        "The biggest promise of DAO is its decentralization and therefore liberalization of voting and participation. In reality, there is no such thing as a *fully* decentralized and autonomous organization. Depending on the governance rules, there are different levels of decentralization. While the network might be geographically decentralized, and have many independent but equal network actors, the governance rules written in the smart contract or blockchain protocol will always be a point of centralization and loss of direct autonomy. DAOs can be architecturally decentralized (independent actors run different nodes), and are geographically decentralized (subject to different jurisdictions), but they are logically centralized (the protocol). The question of how to upgrade the code – when and if necessary – is very often delegated to a set of experts who understand the techno-legal intricacies of the code, and therefore represent a point of centralization."
      ]
    },
    {
      "cell_type": "markdown",
      "metadata": {
        "id": "WzYfJYJCc2aO"
      },
      "source": [
        "---   \n",
        "### Your Deliverables, your time to apply the theory in practice.\n",
        "\n",
        "Congratulations on getting to the end of this Notebook and no worries at all if you struggled with some of the theory and did not fully understand what was taught here as your actual learning starts from here.\n",
        "\n",
        "The ideal time of reading this, is right before the Review Session, so you have a bit of time to reflect about the learning material, identify the most confusing and hard elements of a reading, and bring them to the discussion during the Review Session. The Review session is there for you to close the gap in your current understanding of the material.\n",
        "\n",
        "For your deliverables you will have to work on the Workbook found [here](https://colab.research.google.com/github/unpackAI/BL101/blob/main/course_notebooks/Week_5_Decentralised_autonomous_organizations%28DAOs%29/05_Decentralised_autonomous_organizations%28DAOs%29_Workbook.ipynb)!"
      ]
    },
    {
      "cell_type": "markdown",
      "metadata": {
        "id": "NBCI0H44c2aP"
      },
      "source": [
        "---"
      ]
    },
    {
      "cell_type": "markdown",
      "metadata": {
        "id": "1ArPkxP3c2aP"
      },
      "source": [
        "# 📚 Reference\n",
        "\n",
        "**DAOs general**\n",
        "- Aragon, (2021). [What Is It Like to Join a DAO?](https://blog.aragon.org/what-is-it-like-to-join-a-dao/) 📄    \n",
        "- Bud Hennekes, (2022). [How to start a DAO](https://alchemy.com/blog/how-to-start-a-dao) 📄   \n",
        "- Linda Xie, (2021). [A beginner’s guide to DAOs](https://linda.mirror.xyz/Vh8K4leCGEO06_qSGx-vS5lvgUqhqkCz9ut81WwCP2o) 📄   \n",
        "\n",
        "**Voting** \n",
        "- Vitalik Buterin, (2021). [Moving beyond coin voting governance](https://vitalik.ca/general/2021/08/16/voting3.html) 📄    \n",
        "\n",
        "**Legal Situation**  \n",
        "- <sup>[KER]</sup> David Kerr, Miles Jennings, (2022). A Legal Framework for\n",
        "Decentralized Autonomous Organizations, [Part-1](https://a16zcrypto.com/wp-content/uploads/2022/06/dao-legal-framework-part-1.pdf), [Part-2](https://a16zcrypto.com/wp-content/uploads/2022/06/dao-legal-framework-part-2.pdf) 📄  <a name=\"KER\"></a> [🔙](#KER)     \n",
        "- Zack Smith, (2022). [The Legal Status of Decentralized Autonomous Organizations: Do DAOs Require New Business Structures? Some States Think So](https://www.heritage.org/government-regulation/commentary/the-legal-status-decentralized-autonomous-organizations-do-daos) 📄    \n",
        "- Wyoming Secretary of State, (2022). [Decentralized Autonomous Organization (DAO):\n",
        "Frequently Asked Questions](https://sos.wyo.gov/Business/Docs/DAOs_FAQs.pdf) 📄  "
      ]
    }
  ],
  "metadata": {
    "interpreter": {
      "hash": "ea271a8d55864f2db1b3c7d9182e9261e5d717f60008da9ec5479eef0acaf401"
    },
    "kernelspec": {
      "display_name": "Python 3.9.10 ('blockchain39')",
      "language": "python",
      "name": "python3"
    },
    "language_info": {
      "codemirror_mode": {
        "name": "ipython",
        "version": 3
      },
      "file_extension": ".py",
      "mimetype": "text/x-python",
      "name": "python",
      "nbconvert_exporter": "python",
      "pygments_lexer": "ipython3",
      "version": "3.9.10"
    },
    "orig_nbformat": 4,
    "colab": {
      "name": "05_Decentralised_autonomous_organizations(DAOs)_Courseboook.ipynb",
      "provenance": [],
      "include_colab_link": true
    }
  },
  "nbformat": 4,
  "nbformat_minor": 0
}