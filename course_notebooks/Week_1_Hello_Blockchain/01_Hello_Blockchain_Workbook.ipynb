{
  "cells": [
    {
      "cell_type": "markdown",
      "metadata": {
        "id": "8of7iBNx1_yJ"
      },
      "source": [
        "[![Open In Colab](https://colab.research.google.com/assets/colab-badge.svg)](https://colab.research.google.com/github/unpackAI/BL101/blob/main/course_notebooks/Week_1_Hello_Blockchain/01_Hello_Blockchain_Workbook.ipynb)"
      ]
    },
    {
      "cell_type": "markdown",
      "metadata": {
        "id": "ffG8OhwD1_yL"
      },
      "source": [
        "# 💻 Week 1 Workbook of unpackAI \"DL101 Bootcamp\""
      ]
    },
    {
      "cell_type": "markdown",
      "metadata": {
        "id": "VDJuHyx_1_yM"
      },
      "source": [
        "## 📕 Learning Objectives of the Week\n",
        "\n",
        "* Attain a fundamental understanding of the Blockchain."
      ]
    },
    {
      "cell_type": "markdown",
      "metadata": {
        "id": "1YFi5Bh-1_yN"
      },
      "source": [
        "## unpackAI Assignment Section\n",
        "\n",
        " \n",
        "*   **Assignment 1**: Watch the video \"Blockchain 101 - a visual Demo\", record your own verbal definition of the blockchain and share it in the student group."
      ]
    },
    {
      "cell_type": "markdown",
      "metadata": {
        "id": "hpTwAioF1_yO"
      },
      "source": [
        "### Assigment 1: Watch the video \"Blockchain 101 - a visual Demo\", record your own verbal definition of the blockchain and share it in the student group."
      ]
    },
    {
      "cell_type": "markdown",
      "metadata": {
        "id": "_Vo9eLFH1_yO"
      },
      "source": [
        "Below you can find the aforementioned video. Additionally to the content in the coursebook, it will provide you with a more clear and visual understanding of how a blockchains works, adds data entries, and why it is immutable."
      ]
    },
    {
      "cell_type": "code",
      "execution_count": null,
      "metadata": {
        "id": "bkqaY3l21_yP",
        "outputId": "bc9ea101-91fd-48a0-8b62-cc07502826a9"
      },
      "outputs": [
        {
          "data": {
            "text/html": [
              "\n",
              "        <iframe\n",
              "            width=\"800\"\n",
              "            height=\"600\"\n",
              "            src=\"https://www.youtube.com/embed/_160oMzblY8\"\n",
              "            frameborder=\"0\"\n",
              "            allowfullscreen\n",
              "        ></iframe>\n",
              "        "
            ],
            "text/plain": [
              "<IPython.lib.display.YouTubeVideo at 0x7f81e4681610>"
            ]
          },
          "execution_count": 1,
          "metadata": {},
          "output_type": "execute_result"
        }
      ],
      "source": [
        "from IPython.display import YouTubeVideo\n",
        "YouTubeVideo(\"_160oMzblY8\", width=800, height=600)"
      ]
    },
    {
      "cell_type": "markdown",
      "metadata": {
        "id": "DjtYU1E-1_yQ"
      },
      "source": [
        "With your combined knowledge, please record a 1 minute explanation of yourself in which you use your own way to define the blockchain. You can use WeChat's voice record function. Please share it within the student group before the next upcoming session."
      ]
    },
    {
      "cell_type": "markdown",
      "metadata": {
        "id": "rOSSgl_Q1_yR"
      },
      "source": [
        "### You have successfully finished the first week of BC101.\n",
        "\n",
        "Give yourself a clap on your shoulder. You have done an amazing job. Be ready to discuss all your learnings and questions in our joint session. This is going to be exciting!"
      ]
    },
    {
      "cell_type": "markdown",
      "metadata": {
        "id": "2ekw2CD41_yS"
      },
      "source": [
        ""
      ]
    }
  ],
  "metadata": {
    "interpreter": {
      "hash": "ea271a8d55864f2db1b3c7d9182e9261e5d717f60008da9ec5479eef0acaf401"
    },
    "kernelspec": {
      "display_name": "Python 3.9.10 ('blockchain39')",
      "language": "python",
      "name": "python3"
    },
    "language_info": {
      "codemirror_mode": {
        "name": "ipython",
        "version": 3
      },
      "file_extension": ".py",
      "mimetype": "text/x-python",
      "name": "python",
      "nbconvert_exporter": "python",
      "pygments_lexer": "ipython3",
      "version": "3.9.10"
    },
    "orig_nbformat": 4,
    "colab": {
      "name": "01_Hello_Blockchain_Workbook.ipynb",
      "provenance": []
    }
  },
  "nbformat": 4,
  "nbformat_minor": 0
}