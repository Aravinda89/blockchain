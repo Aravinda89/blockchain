{
  "cells": [
    {
      "cell_type": "markdown",
      "metadata": {
        "id": "llepkmlCI7-5"
      },
      "source": [
        "[![Open In Colab](https://colab.research.google.com/assets/colab-badge.svg)](https://colab.research.google.com/github/unpackAI/BL101/blob/main/course_notebooks/Week_2_Non-fungible_Tokens%28NFTs%29/02_Non-fungible_Tokens%28NFTs%29_Coursebook.ipynb)"
      ]
    },
    {
      "cell_type": "markdown",
      "metadata": {
        "id": "zBX7FWesI7-6"
      },
      "source": [
        "# 💻 Welcome to Week 2 of the BC101 Bootcamp \n",
        "\n",
        "You have successfully finished the first coursebook! This is a great achievement as the first dive into Blockchain can be overwhelming. This week we will focus on developing and building your own NFT project.\n",
        "\n",
        "## 📕 Learning Objectives\n",
        "\n",
        "* Go through the theory of NFTs and what makes them unique.\n",
        "* Learn about the importance of NFT metdata and IPFS, and dive into the questionable decentralisation of NFTs.\n",
        "* Build your own unique NFT project and deploy it to the web.\n",
        "\n",
        "## 📅 Weekly Progress\n",
        "\n",
        "|Week | Content | Learning Objectives|\n",
        "|:--- |:--- | :--- |\n",
        "| 1 | Hello Blockchain World | Get to know more about your classmates, the mentors, and learn about the fundamental concepts of the Blockchain, how it works, and write your first smart contract.|\n",
        "| **2** | **Non-fungible Tokens (NFTs)**| **Learn more about Non-fungible Tokens (NFTs) and go through the protocols that make them unique and valuable. Create your own NFT collection, deploy it to a Testnet and view it on OpenSea.** |\n",
        "| 3 | Decentralised Finance (DeFi)| Understand the major innovation behind DeFi, learn about the most popular DeFi protocols, and create your own cryptocurrency and DeFi project for others to interact with. |\n",
        "| 4 | GameFi & SocialFi | Discover a new field in Blockchain that has experienced explosive growth and tapped into concepts such as play-to-earn that currently push the boundaries of blockchain technology application beyond finance. Integrate your own SocialFi project with your DeFi and NFT project. |\n",
        "| 5 | Decentralised Autonomous Orgaizations (DAOs) & Personal Project  | Find out why DAOs are the industries standard as the governing entity for blockchain-based organizations and how they handle voting mechanisms and tokenomics to make the entire organization function. Go through the process of building your own DAO, and pitch your own Blockchain project to the class. Successfully graduate from the Bootcamp and receive your Blockchain certification. |"
      ]
    },
    {
      "cell_type": "markdown",
      "metadata": {
        "id": "a2BfLblDI7-8"
      },
      "source": [
        "## What are NFTs?\n",
        "NFT stands for *Non-fungible Tokens*. \n",
        "\n",
        "NFTs are smart contracts deployed on a blockchain that represent something *unique*. As we learned in **week 1** smart contracts are pre-specified agreements on the blockchain that evaluate data and execute automatically when certain conditions are met. Unlike our `helloworld` contract which is fungible (i.e. replaceable, interchangable), NFTs are unique.  Technically NFTs follow a different standard, the so called `ERC721` standard. Fungible tokens in contrast follow the `ERC20` standard.\n",
        "\n",
        "*For example: the dollar bill in your wallet is **fungible**: it has a serial number and a print date but every bill is interchangeable. You can use it for buying goods, give it as pocket money to your kid or put it into a safe (for future use). But whatever you do, you are only interested in the value - not in this particular bill. In other words: nobody keeps record about who used this bill and for what. \n",
        "The picture you took on your smart phone is **non-fungible**: although you can send it to other people, post it on social media, sell it, etc. you will always remain the creator of that image and the blockchain stores your address (and any future owner).*\n",
        "\n",
        "### What are NFTs made of?\n",
        "1. Each NFT has a **unique id** that distinguishes it form other NFTs. This is in contrast to a fungible token like `ETH`. All ETH are the same and you only care about *how many* ETHs you have.   \n",
        "2. NFTs can link to data stored outside of a smart-contract (called **off-chain**)."
      ]
    },
    {
      "cell_type": "markdown",
      "metadata": {
        "id": "33n2giZiI7-9"
      },
      "source": [
        "### The problem with on-chain stored data\n",
        "Data that is stored **on-chain** needs to be processed, verified, and replicated across the entire blockchain network. It can be very expensive to store large amounts of data. This is a problem for many NFT use cases, especially tokens that represent digital collectibles or artwork, where storing the entire work could cost the equivalent of millions of US Dollars.\n",
        "\n",
        "### The problem with off-chain stored data\n",
        "When an NFT is created and linked to a digital file that lives on some other system, how the data is linked is very important. There are a few reasons why traditional HTTP links aren't a great fit.   \n",
        "\n",
        "With an HTTP address like `https://cloud-bucket.provider.com/my-nft.jpg`, anyone can fetch the contents of `my-nft.jpg`, as long as the owner of the server pays their bills. However, there's no way to guarantee that the contents of `my-nft.jpg` are the same as they were when the NFT was created. The server owner can easily replace `my-nft.jpg` with something completely different at any time, causing the NFT to change its meaning.    \n",
        "\n",
        "This problem was demonstrated by an artist who [pulled the rug](https://cointelegraph.com/news/opensea-collector-pulls-the-rug-on-nfts-to-highlight-arbitrary-value) on NFTs he created by changing their images after they were minted and sold to others.\n",
        "\n",
        "### IPFS as solution\n",
        "IPFS (InterPlanetary File System) is a protocol and peer-to-peer network for storing and sharing data in a distributed file system.  \n",
        "IPFS solves the problem of *off-chain stored data* thanks to **Content Addressing**. Adding data to IPFS produces a **content identifier (CID)** which is directly derived from the data itself and links to the data in the IPFS network. Because a CID can only ever refer to one piece of content, we know that nobody can replace or alter the content without breaking the link.\n",
        "\n",
        "Using the CID, anyone can fetch a copy of the data from the IPFS network as long as at least one copy exists on the network, even if the original provider has disappeared. This makes CIDs perfect for NFT storage. All we need to do is put the CID into an `ipfs://` URI like `ipfs://bafybeidlkqhddsjrdue7y3dy27pu5d7ydyemcls4z24szlyik3we7vqvam/nft-image.png`, and we have an immutable link from the blockchain to the data for our token."
      ]
    },
    {
      "cell_type": "markdown",
      "metadata": {
        "id": "cECycrKmI7--"
      },
      "source": [
        "### What do you actually get when you buy an NFT?   \n",
        "You own a unique token on a blockchain that references some off-chain data. The token is **non-fungible** (unique) and **immutable** (being on a blockchain). That’s all that an NFT guarantees: you own a unique and unchangeable reference to some data.\n",
        "Focusing on this core NFT definition, two main challenges arise.\n",
        "\n",
        "1. An NFT is only as good as the link to its data. The reference is just a line of code. But for an NFT to have value, others have to agree, it refers to valuable data.   \n",
        "\n",
        "2. The off-chain data itself has to exist, it has to be stored somewhere and it has to be accessible. There are many instances where NFT links return 404 errors later on – making those NFTs worthless.  "
      ]
    },
    {
      "cell_type": "markdown",
      "metadata": {
        "id": "SM2eOOcWI7--"
      },
      "source": [
        "## What are NFTs used for?\n",
        "Because NFTs are non-fungible they provide proof of ownership or coypright to the owner: everybody can see who created that NFT, where did it come from, who owned it and who is the current owner. Most NFTs are used for arts, video games, music, films, etc.\n",
        "\n",
        "Beside this, NFTs are still smart contracts, i.e. they can have additional functionality. \n",
        "Think for example about a piece of art that pays the artist a small fraction of the selling price whenever it changes ownership. You can insert a function in your NFT contract which exactly does this.\n",
        "\n",
        "Legally, the ownership of an NFT does not inherently grant copyright or intellectual property rights to the digital asset the NFT is linked to, but it provides evidence of ownership of that token."
      ]
    },
    {
      "cell_type": "markdown",
      "metadata": {
        "id": "_RRR4A83I7-_"
      },
      "source": [
        "### Other use cases of NFT\n",
        "Even if the NFT art market might *crash* in the future and we come to the conclusion that it all was a big *Ponzi scheme*, the hype about NFTs made them popular and famous. \n",
        "\n",
        "But NFTs can have many other possible use cases: <a name=\"cite_ref-2\"></a>[<sup>[1]</sup>](#cite_note-2)\n",
        "- **\"Soulbound NFTs\"**. Driver’s licenses, diplomas, certifications, proof of attendance, etc. Soulbound can not be sold.  \n",
        "- **Retail**. Brands use NFTs to incentivize IRL transactions, leveraging creators to drive traffic to storefronts. For example, Yeezy NFTs that airdrop with purchases from Gap stores, or NFTs that unlock exclusive features for Tesla vehicles.  \n",
        "- **Rewards**. Brands will drop unique quests within communities, rewarding completion with NFTs. This could be anything from completing a questionnaire to referring members into the community and attending events.\n",
        "- **Legal**. Real estate, proof of ownership, royalties are all good use-cases for NFTs here.  \n",
        "- **Content Submission**. Users will submit content like short-form videos, reviews, and tutorials in exchange for NFTs. It’s a marketing flywheel. Rights can be programmed into contracts so that the use of the contributor’s content in advertising could yield their future profits.  \n",
        "- **Gaming**. Avatars as well as unique in-game inventory items could be NFTs. NFTs could create hive activity by incentivizing group behavior. MMORPGs that unlock levels once 10k users have aped in. Airdrops of rare NFTs to collector cohorts that have signed contracts to merge their base-layer NFTs.\n",
        "- **Collateralization**. To date, lenders have been averse to NFT holders borrowing against their assets. But as institutional $$$ flows in, and assets become better stores of value, collateral markets will promise flexibility and liquidity for all NFT holders, not just whales.  \n",
        "- **Fractionalization.** Splitting up NFTs into individual shares gives more people exposure to blue-chip assets, like owning a piece of a crypto punk. The result? More liquidity for holders and more appreciation of blue-chip assets as money enters the markets.  \n",
        "- **R&D.** Brands and creators will exchange NFTs for insights on product development: pain points, marketing claims, roadmap, and more. The NFTs will unlock early access to product releases and potential profit sharing. Brands will track and maintain these key relationships.  \n",
        "- **Education and Customer Support**. Upon demonstrating exceptional knowledge of a brand’s product, users can receive NFTs in exchange for onboarding newbies into the community, or providing support. This can be exponentially more impactful than a brand employee doing the same."
      ]
    },
    {
      "cell_type": "markdown",
      "metadata": {
        "id": "u8hNn0YEI7_A"
      },
      "source": [
        "### NFTs and the future of the internet\n",
        "You might heard about `web1`, `web2` and `web3`? \n",
        "- `Web1` was the beginning of the internet: we had blogs, homepages, company websites, wikipedia, e-commerce, etc. -  using the internet meant for most people *consuming content*. **The internet was mostly static.**  \n",
        "- `Web2` added social media, involving the user into the creating-of-content process - internet then meant *prosuming* (consuming and producing at the same time). However, most user of social platformd did not benefit from their content (beside the fun of sharing and interacting most users did not got compensated for posting on Instagram or tweeting on Twitter) and platforms like Facebook and Google became the most-valuable companies in the world during that time. **The internet became interactive.**   \n",
        "- `Web3` which technically started with the first introduction of blockchain in 2008 but in fact is about to shift the nature of the internet and is for many experts the future of the internet. Besides decentralicing content and therefore putting content into the hand of the *crowd* rather than in the hand of big companies and/or governments (at this point is funny if you think about what the original purpose of the internet was: a decentraliced network owned by all of us - the people), it also gives the user the possility to own and monetize his/her content. Although smart contracts based on ERC20 standard (which we learn about in the next week) also belong to `Web3`, the idea of non-fungibality and NFTs is so central to this new internet world that we mention it here during our NFT-week. **The internet becomes \"ownable\".**\n",
        "\n",
        "*In plain simple terms:*   \n",
        "- `Web1`: read  \n",
        "- `Web2`: read-write  \n",
        "- `Web3`: read-write-own  \n",
        "\t\t\n",
        ">📝   *Web3 let you own and monetize your content - it's said to be the future of the internet.*   "
      ]
    },
    {
      "cell_type": "markdown",
      "metadata": {
        "id": "DopAZbbWI7_A"
      },
      "source": [
        "## The nature of NFTs\n",
        "Although you could technically store your *digital art* directly on the blockchain (i.e. `onchain`) it would cost too much `gas` (👉🏻 *`gas` is the transaction fee for uploading/changing contracts on the blockchain*). Based on this [yellow paper](http://gavwood.com/paper.pdf), the gas fee to store one kilobyte of data is 640k gas. At the time of this writing (June 2022) one gas costs around 0.00000003 ETH (Source: https://ethgasstation.info/). This would mean that storing one kilobyte of data directly on the blockchain costs 0.0192ETH (22,7 US Dollars).\n",
        "\n",
        "I.e. when *NFTizing* data, instead of the actual picture, the blockchains simply stores a record of the wallet address, the tokenID, and the `TokenURI` (\"Universal Resource Identifier\"). The TokenURI points to the metadata of the NFT which describes its properties and traits. An NFT marketplace then uses this metadata to visualise and show the NFT.\n",
        "\n",
        "The simplest metadata might look like this:   \n",
        "``` \n",
        "\"name\": \"Name\",\n",
        "\"description\": \"Description\",\n",
        "\"image\": \"URI\",\n",
        "\"attributes\": []\n",
        "```\n",
        "The `\"Image\"` attribute refers to a seperate URI that further points to an image.\n",
        "\n",
        "Metadata can be stored on-chain or off-chain. The problem with on-chain metadata is that many NFT marketplaces don't know how to read the metadata from the contract. *(But if you want your token to interact with other tokens you need to store it on-chain.)*"
      ]
    },
    {
      "cell_type": "markdown",
      "metadata": {
        "id": "rCcO_itLI7_B"
      },
      "source": [
        "### Exploring an NFT project\n",
        "To understand the above is crucial, as the creative power of NFT projects is presented by its metadata. Let's take a look at the Azuki NFT collection. Its a collection of 10,000 unique NFTs of which one Azuki NFT recently sold for over 420.7 ETH on March 30th (at that time worth $1.4 million).\n",
        "\n",
        "<img src=\"https://www.dropbox.com/s/vn3wvgu1go9w6ow/Azuki_Collection.png?raw=1\" alt=\"etherscan_week1\" width=\"1000\"/>\n",
        "\n",
        "Every single NFT is differentiated by its metadata, which defines the way it looks. The aforemention NFT that sold for 420.7 ETH has the tokenID of #9605 and can be found here on OpenSea: https://opensea.io/assets/ethereum/0xed5af388653567af2f388e6224dc7c4b3241c544/9605.\n",
        "\n",
        "If you want to further observe its metadata you will simply have to:\n",
        "1. Find its contract address on OpenSea (use the link above) inside the details area and search for the contract address on etherscan.\n",
        "2. Find and open the `Contract` Tab.\n",
        "3. `Read Contract`\n",
        "4. Scroll down and search for the `tokenURI` and query for the `tokenID` 9605.\n",
        "5. Copy paste the `tokenURI` into your browser.\n",
        "\n",
        "Follow the picture below for guidance:\n",
        "\n",
        "\n",
        "<img src=\"https://www.dropbox.com/s/vgiz3hlbggsxrs3/find_metadata.png?raw=1\" alt=\"etherscan_week1\" width=\"1000\"/>\n",
        "\n",
        "\n",
        "At last, you will find the following `tokenURI`: https://ikzttp.mypinata.cloud/ipfs/QmQFkLSQysj94s5GvTHPyzTxrawwtjgiiYS2TBLgrvw8CW/9605 (which is hosted off-chain on [Pinata](https://www.pinata.cloud/)) that points to the metadata of an NFT worth $1.4 million. The metadata contains it's name,a link to it's visual image, and it's attributes which correspond exactly to the visual trait of the Azuki as shown in the image.\n",
        "\n",
        "```\n",
        "{\n",
        "  \"name\": \"Azuki #9605\",\n",
        "  \"image\": \"https://ikzttp.mypinata.cloud/ipfs/QmYDvPAXtiJg7s8JdRBSLWdgSphQdac8j1YuQNNxcGE1hg/9605.png\",\n",
        "  \"attributes\": [\n",
        "    {\n",
        "      \"trait_type\": \"Type\",\n",
        "      \"value\": \"Spirit\"\n",
        "    },\n",
        "    {\n",
        "      \"trait_type\": \"Hair\",\n",
        "      \"value\": \"Spirit Fluffy\"\n",
        "    },\n",
        "    {\n",
        "      \"trait_type\": \"Special\",\n",
        "      \"value\": \"Fireflies\"\n",
        "    },\n",
        "    {\n",
        "      \"trait_type\": \"Ear\",\n",
        "      \"value\": \"Small Hoop\"\n",
        "    },\n",
        "    {\n",
        "      \"trait_type\": \"Neck\",\n",
        "      \"value\": \"Golden Headphones\"\n",
        "    },\n",
        "    {\n",
        "      \"trait_type\": \"Eyes\",\n",
        "      \"value\": \"Chill\"\n",
        "    },\n",
        "    {\n",
        "      \"trait_type\": \"Mouth\",\n",
        "      \"value\": \"Pout\"\n",
        "    },\n",
        "    {\n",
        "      \"trait_type\": \"Offhand\",\n",
        "      \"value\": \"Golden Shuriken\"\n",
        "    },\n",
        "    {\n",
        "      \"trait_type\": \"Background\",\n",
        "      \"value\": \"Cool Gray\"\n",
        "    }\n",
        "  ]\n",
        "}\n",
        "```\n",
        "\n",
        "Some metadata is created using random functions to create a feel of excitement whenever you mint your own NFT.\n",
        "\n",
        "If you want to find out who owns each individual NFT, you can go through a similar process using Etherscan:\n",
        "1. Find its contract address on OpenSea (use the link above) inside the details area and search for the contract address on etherscan.\n",
        "2. Find and open the `Contract` Tab.\n",
        "3. `Read Contract`\n",
        "4. Scroll down and search for the `ownerOf` and query for any `tokenID`.\n",
        "5. This will return the owner of the NFT of the respective `tokenID`.\n",
        "\n",
        "*We hope through this example, you understood how an NFT is stored on the blockchain, and how crucial its metadata is to represent the core of an NFT.*"
      ]
    },
    {
      "cell_type": "markdown",
      "metadata": {
        "id": "zzarehFQI7_C"
      },
      "source": [
        "### ERC-721\n",
        "An NFT is an asset traded on the blockchain. And just like we have standards for products traded in the real world, digital assets on the blockchain also follow a certain standard. For NFTs this standard is called the `ERC721` standard.\n",
        "\n",
        ">Cryptocurrencies traded on the Ethereum Blockchain follow the `ERC20` standard.\n",
        "\n",
        "**ERC-721** is a standard for smart contracts which was introduced in 2018. It provides functionalities like to transfer tokens from one account to another, to get the current token balance of an account, to get the owner of a specific token and also the total supply of the token available on the network.\n",
        "\n",
        "If a Smart Contract implements the following methods and events it can be called an ERC-721 Non-Fungible Token Contract and, once deployed, it will be responsible to keep track of the created tokens on Ethereum."
      ]
    },
    {
      "cell_type": "markdown",
      "metadata": {
        "id": "y43EmrtFI7_D"
      },
      "source": [
        "#### ERC721 Methods\n",
        "|NAME:|PURPOSE:|INPUT:|TYPE:|RETURNS:|\n",
        "|--|--|--|--|--|\n",
        "| **balanceOf** | *returns the number of NFTs owned by `_owner`*| `_owner` (address) | external view | (uint256)|\n",
        "| **ownerOf** | *returns the owner of NFT*|`_tokenID` (uint256) | public view | (address) |\n",
        "| **safeTransferFrom** |*transfers the ownership of an NFT from one address to another*| `_from` (address), `_to` (address), `_tokenID` (uint256), `data` (bytes) | external payable | - |\n",
        "| **approve** |*change or reaffirm the approved address for an NFT*| `_approved` (address), `_tokenID` (uint256)| external payable | - |\n",
        "| **setApprovalForAll** |*enable or disable approval for a third party (`_operator`) to manage all of `msg.sender`'s assets*| `_operator` (address), `_approved` (bool)| external | - |\n",
        "| **getApproved** |*returns the approved address for this NFT*| `_owner` (address), `_operator` (address)| external view | (address) |"
      ]
    },
    {
      "cell_type": "markdown",
      "metadata": {
        "id": "3mwD_gT1I7_D"
      },
      "source": [
        "#### ERC721 Events\n",
        "|NAME:|TRIGGERS:|INPUT:|\n",
        "|--|--|--|\n",
        "|**Transfer**|*... when NFTs are created (`from` == 0) and destroyed*| `_from` (address), `_to` (addreess), `_tokenId` (uint256)|\n",
        "|**Approval**|*... when the approved address for an NFT is changed or reaffirmed.*| `_owner` (address), `_approved`(address), `_tokenId` (uint256)| \n",
        "|**ApprovalForAll**|*... when an operator is enabled or disabled for an owner*| `_owner` (address), `_operator_`(address), `_approved` (bool)|"
      ]
    },
    {
      "cell_type": "markdown",
      "metadata": {
        "id": "O88k_BbDI7_D"
      },
      "source": [
        "*If you want to find out more about the `ERC721` standard, check out this page: https://erc721.org/ or refer to the literature at the end of this coursebook.*"
      ]
    },
    {
      "cell_type": "markdown",
      "metadata": {
        "id": "JWUucBEnI7_E"
      },
      "source": [
        "## Example of NFTs\n",
        "Probably the most famous NFT is the [Nyan cat](https://en.wikipedia.org/wiki/Nyan_Cat): a simple but popular animation uploaded on [Youtube](https://youtu.be/QH2-TGUlwu4) in 2011. Ten years later the creator sold it as a non-fungible token (NFT) for 300 ether, the equivalent of US$587,000 at the time of sale.   \n",
        "\n",
        "![Nyan cat](https://www.dropbox.com/s/bs4vi1u2pu3o7qh/nyan_cat.png?raw=1)\n",
        "\n",
        "But NFTs can also be physical objects as you can link the token literally to anything. Some real estate companies already sell houses where the buyer of the house gets an NFT linked to the ownership of an LLC that owns the physical asset, not the housing deed itself.<a name=\"cite_ref-1\"></a>[<sup>[2]</sup>](#cite_note-1) \n",
        "\n",
        "An example for NFTs used as collectible and as a membership is the famous [Bored Apes](https://www.gemini.com/cryptopedia/what-is-bored-ape-yacht-club-nft-bored-apes#section-how-to-buy-a-bored-ape): a collection of 10,000 Ethereum-based NFTs that were launched in 2021. These Ape NFT caricatures feature various facial expressions, clothes, and unique elements and provide membership to the *Bored Ape Yacht Club* with private online spaces, exclusive merch, and members-only live events.   \n",
        "\n",
        "![Bored Apes](https://www.dropbox.com/s/0yvcb5bx9bdulxb/Various_Bored_Ape.jpg?raw=1)"
      ]
    },
    {
      "cell_type": "markdown",
      "metadata": {
        "id": "Y94YGRXFI7_E"
      },
      "source": [
        "### IPFS\n",
        "As already mentioned, if you link your peace of art to an http address like `https://my-precious_nft.com/my-nft.png`, than everyone can fetch `my-nft.png`. Also the server can go down or the host can change the image. This [was exactly happening]((https://cointelegraph.com/news/opensea-collector-pulls-the-rug-on-nfts-to-highlight-arbitrary-value)) by an crypto-artist who changed the images associated with the NFTs he sold on Opensea.  \n",
        "\n",
        "*This is where IPFS come into play ...*   \n",
        "\n",
        "[IPFS](https://ipfs.io) stands for InterPlanetary File System: *\"a peer-to-peer hypermedia protocol designed to preserve and grow humanity's knowledge by making the web upgradeable, resilient, and more open\"* (according to their website). It allows anyone to upload a file (e.g. image) which then will be hashed so that if the file change, the hash will change - allowing to track any changes to your file.\n",
        "\n",
        "The process to link your NFTs metadata to IPFS:\n",
        "1. Get IPFS\n",
        "2. AddTokenURI json file to IPFS\n",
        "3. Add IPFS URI to your NFT URI"
      ]
    },
    {
      "cell_type": "markdown",
      "metadata": {
        "id": "Q9yHswt5I7_E"
      },
      "source": [
        "# NFT Marketplaces\n",
        "The easiest way to buy, sell, and even create an NFT is to use a platform like [Opensea](https://opensea.io/), [Rarible](https://rarible.com/), or [Mintible](https://mintable.app/). We highly recommend you to explore the Opensea marketplace. It will give you valuable insights about how the NFT market works. You can also open an account and connect your Metamask wallet and start trading NFTs:    \n",
        "\n",
        "![Opensea](https://www.dropbox.com/s/25q9eod4vbzrwvf/opensea.png?raw=1)\n",
        "\n",
        "*(⬆ `PhantaBear` NFTs on [Opensea](https://opensea.io/collection/phantabear) connected to `Metamask` wallet)*\n",
        "\n",
        "But of course by using a platform you are bound to their functionality (and prices). In this weeks **workbook** we will show you the basics of minting an NFT completely by yourself. "
      ]
    },
    {
      "cell_type": "markdown",
      "metadata": {
        "id": "B9lZbU3KI7_F"
      },
      "source": [
        "## Does NFT popularity reached its peak?\n",
        "\n",
        "After peaking in 2021, the market for those NFTs which can be used to acquire digital works of art, slowed down at the beginning of 2022 and remains highly volatile:"
      ]
    },
    {
      "cell_type": "markdown",
      "metadata": {
        "id": "8cEXtVR-I7_F"
      },
      "source": [
        "<iframe width=\"100%\" height=\"420\" frameborder=\"0\" src=\"https://embed.theblockcrypto.com/data/nft-non-fungible-tokens/nft-overview/weekly-trade-volume-of-nfts/embed\" title=\"Weekly Trade Volume of NFTs by Category\"></iframe>"
      ]
    },
    {
      "cell_type": "markdown",
      "metadata": {
        "id": "gYd0IIL8I7_F"
      },
      "source": [
        "It looks indeed like that NFT had its last peak in April this year. Analyzing the frequency of the search term **buying NFT** on Google shows a similar picture *(✏️ feel free to enter different terms)*:"
      ]
    },
    {
      "cell_type": "code",
      "execution_count": null,
      "metadata": {
        "id": "vOpaF42RI7_G",
        "outputId": "6932efeb-9af1-47f8-985b-30b687f389f0"
      },
      "outputs": [
        {
          "data": {
            "image/png": "[encoded data removed]",
            "text/plain": [
              "<Figure size 1296x432 with 1 Axes>"
            ]
          },
          "metadata": {
            "needs_background": "light"
          },
          "output_type": "display_data"
        }
      ],
      "source": [
        "# Run this once to install unpackAI's library\n",
        "#!pip install bl101\n",
        "\n",
        "# Import our library\n",
        "import bl101\n",
        "from bl101.helpers import google_trends\n",
        "\n",
        "# Show Google Trend Graph for last 12 month\n",
        "google_trends(\"Buying NFT\") #<-👨‍💻 try different search terms"
      ]
    },
    {
      "cell_type": "markdown",
      "metadata": {
        "id": "AaQNwQkhI7_H"
      },
      "source": [
        "### Your Deliverables, your time to apply the theory in practice.\n",
        "\n",
        "Congratulations on getting to the end of this Notebook and no worries at all if you struggled with some of the theory and did not fully understand what was taught here as your actual learning starts from here.\n",
        "\n",
        "The ideal time of reading this, is right before the Review Session, so you have a bit of time to reflect about the learning material, identify the most confusing and hard elements of a reading, and bring them to the discussion during the Review Session. The Review session is there for you to close the gap in your current understanding of the material.\n",
        "\n",
        "For your deliverables you will have to work on the Workbook found [here](https://colab.research.google.com/github/unpackAI/BL101/blob/main/course_notebooks/Week_2_Non-fungible_Tokens%28NFTs%29/02_Non-fungible_Tokens%28NFTs%29_Workbook.ipynb)!"
      ]
    },
    {
      "cell_type": "markdown",
      "metadata": {
        "id": "UCW3MDssI7_H"
      },
      "source": [
        "---\n",
        "# 📚 References\n",
        "\n",
        "**NFTs**  \n",
        "- Jolene Creighton & Scott Summers, (2022). [NFTs Explained: A Must-Read Guide to Everything Non-Fungible](https://nftnow.com/guides/what-is-nft-meaning/) 📄  \n",
        "- <sup>[2]</sup> CoinDesk, (2022). [NFT-Linked House Sells for $650K in Propy’s First US Sale](https://www.coindesk.com/business/2022/02/11/nft-linked-house-sells-for-650k-in-propys-first-us-sale/)<a name=\"cite_note-1\"></a> [⏎](#cite_ref-1)  📄      \n",
        "- NFT Labs, (2022). [The social value of NFT](https://nftlabs.medium.com/the-social-value-of-nft-c1d47fa71074) 📄   \n",
        "\n",
        "**Token Standard**   \n",
        "- OpenZeppelin. [ERC 721](https://docs.openzeppelin.com/contracts/4.x/api/token/erc721#IERC721Metadata) 📄  \n",
        "- William Entriken et. al., (2018). [EIP-721: Non-Fungible Token Standard](https://eips.ethereum.org/EIPS/eip-721) 📄     \n",
        "\n",
        "**Future of NFTs**    \n",
        "- <sup>[1]</sup> Max Petrusenko, (2022). [The future of NFTs - Is NFT the future of everything or just a craze?](https://medium.com/dare-to-be-better/the-future-of-nfts-bcfcd4e3eaf9)<a name=\"cite_note-2\"></a>[⏎](#cite_ref-2) 📄💲\n",
        "\n",
        "**Solidity**\n",
        "- GeeksforGeeks,(2022). [Introduction to Solidity](https://www.geeksforgeeks.org/introduction-to-solidity/?ref=lbp) 🌏🏋️‍♂️    \n",
        "- Solidity, (2016-2021). [Official Soliditiy Documentation](https://docs.soliditylang.org/en/develop/) 📄  \n",
        "\n",
        "**Tutorials**   \n",
        "- Tutorials Point. [Solidity Tutorial](https://www.tutorialspoint.com/solidity/index.htm)  🌍🏋️‍♂️ \n",
        "- Patrick Collins, (2021). [Solidity, Blockchain, and Smart Contract Course – Beginner to Expert Python Tutorial, Chapter 11: NFTs](https://youtu.be/M576WGiDBdQ?t=35421) 📺 🏋️‍♂️ \n",
        "- Patrick Collins, (2022). [Learn Blockchain, Solidity, and Full Stack Web3 Development with JavaScript, Chapter 14: NFT](https://youtu.be/gyMwXuJrbJQ?t=73733) 📺 🏋️‍♂️ \n",
        "\n",
        "**Apps we use this week**  \n",
        "- [replit](https://replit.com) 👈🏻 *Online IDE* \n",
        "- [imgbb](https://imgbb.com/) 👈🏻 *to store images online (no signup)*  \n",
        "- [jsonkeeper](https://jsonkeeper.com/) 👈🏻 *to store json data online (no signup)*  \n",
        "- [svgviewer](https://www.svgviewer.dev/)👈🏻 *to watch svg images online (no signup)*  \n",
        "- [base64 encoder](https://www.utilities-online.info/base64)👈🏻 *to convert text into base64 format (no signup)*  \n",
        "- [opensea](https://testnets.opensea.io/) 👈🏻 *testnet version of NFT marketplace OpenSea*   "
      ]
    },
    {
      "cell_type": "markdown",
      "metadata": {
        "id": "5OneM238I7_I"
      },
      "source": [
        ""
      ]
    }
  ],
  "metadata": {
    "interpreter": {
      "hash": "ea271a8d55864f2db1b3c7d9182e9261e5d717f60008da9ec5479eef0acaf401"
    },
    "kernelspec": {
      "display_name": "Python 3.9.10 ('blockchain39')",
      "language": "python",
      "name": "python3"
    },
    "language_info": {
      "codemirror_mode": {
        "name": "ipython",
        "version": 3
      },
      "file_extension": ".py",
      "mimetype": "text/x-python",
      "name": "python",
      "nbconvert_exporter": "python",
      "pygments_lexer": "ipython3",
      "version": "3.9.10"
    },
    "orig_nbformat": 4,
    "colab": {
      "name": "02_Non-fungible_Tokens(NFTs)_Coursebook.ipynb",
      "provenance": []
    }
  },
  "nbformat": 4,
  "nbformat_minor": 0
}