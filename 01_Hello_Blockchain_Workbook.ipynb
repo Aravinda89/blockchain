{
  "cells": [
    {
      "cell_type": "markdown",
      "metadata": {
        "id": "view-in-github",
        "colab_type": "text"
      },
      "source": [
        "<a href=\"https://colab.research.google.com/github/Aravinda89/blockchain/blob/main/01_Hello_Blockchain_Workbook.ipynb\" target=\"_parent\"><img src=\"https://colab.research.google.com/assets/colab-badge.svg\" alt=\"Open In Colab\"/></a>"
      ]
    },
    {
      "cell_type": "markdown",
      "metadata": {
        "id": "QipNsuQW6UKs"
      },
      "source": [
        "[![Open In Colab](https://colab.research.google.com/assets/colab-badge.svg)](https://colab.research.google.com/github/unpackAI/BL101/blob/main/course_notebooks/Week_1_Hello_Blockchain/01_Hello_Blockchain_Workbook.ipynb)"
      ]
    },
    {
      "cell_type": "markdown",
      "metadata": {
        "id": "YZutsTnw6UKw"
      },
      "source": [
        "# 💻 Week 1 Workbook of unpackAI \"DL101 Bootcamp\""
      ]
    },
    {
      "cell_type": "markdown",
      "metadata": {
        "id": "c7Y9Bj1P6UK0"
      },
      "source": [
        "## 📕 Learning Objectives of the Week\n",
        "\n",
        "* Attain a fundamental understanding of the Blockchain."
      ]
    },
    {
      "cell_type": "markdown",
      "metadata": {
        "id": "iesv9AHd6UK3"
      },
      "source": [
        "## unpackAI Assignment Section\n",
        "\n",
        " \n",
        "*   **Assignment 1**: Watch the video \"Blockchain 101 - a visual Demo\", record your own verbal definition of the blockchain and share it in the student group."
      ]
    },
    {
      "cell_type": "markdown",
      "metadata": {
        "id": "h3vUiAav6UK5"
      },
      "source": [
        "### Assigment 1: Watch the video \"Blockchain 101 - a visual Demo\", record your own verbal definition of the blockchain and share it in the student group."
      ]
    },
    {
      "cell_type": "markdown",
      "metadata": {
        "id": "k9swmhVv6UK7"
      },
      "source": [
        "Below you can find the aforementioned video. Additionally to the content in the coursebook, it will provide you with a more clear and visual understanding of how a blockchains works, adds data entries, and why it is immutable."
      ]
    },
    {
      "cell_type": "code",
      "execution_count": null,
      "metadata": {
        "id": "TzMen8Bz6UK8",
        "outputId": "eca78118-b28f-47b0-ae42-7812d55d4870"
      },
      "outputs": [
        {
          "data": {
            "text/html": [
              "\n",
              "        <iframe\n",
              "            width=\"800\"\n",
              "            height=\"600\"\n",
              "            src=\"https://www.youtube.com/embed/_160oMzblY8\"\n",
              "            frameborder=\"0\"\n",
              "            allowfullscreen\n",
              "        ></iframe>\n",
              "        "
            ],
            "text/plain": [
              "<IPython.lib.display.YouTubeVideo at 0x7f81e4681610>"
            ]
          },
          "execution_count": 1,
          "metadata": {},
          "output_type": "execute_result"
        }
      ],
      "source": [
        "from IPython.display import YouTubeVideo\n",
        "YouTubeVideo(\"_160oMzblY8\", width=800, height=600)"
      ]
    },
    {
      "cell_type": "markdown",
      "metadata": {
        "id": "VRAw5Me-6UK_"
      },
      "source": [
        "With your combined knowledge, please record a 1 minute explanation of yourself in which you use your own way to define the blockchain. You can use WeChat's voice record function. Please share it within the student group before the next upcoming session."
      ]
    },
    {
      "cell_type": "markdown",
      "metadata": {
        "id": "LIf5Qmqw6ULB"
      },
      "source": [
        "### You have successfully finished the first week of BC101.\n",
        "\n",
        "Give yourself a clap on your shoulder. You have done an amazing job. Be ready to discuss all your learnings and questions in our joint session. This is going to be exciting!"
      ]
    },
    {
      "cell_type": "markdown",
      "metadata": {
        "id": "A_D6K-BU6ULD"
      },
      "source": [
        ""
      ]
    }
  ],
  "metadata": {
    "interpreter": {
      "hash": "ea271a8d55864f2db1b3c7d9182e9261e5d717f60008da9ec5479eef0acaf401"
    },
    "kernelspec": {
      "display_name": "Python 3.9.10 ('blockchain39')",
      "language": "python",
      "name": "python3"
    },
    "language_info": {
      "codemirror_mode": {
        "name": "ipython",
        "version": 3
      },
      "file_extension": ".py",
      "mimetype": "text/x-python",
      "name": "python",
      "nbconvert_exporter": "python",
      "pygments_lexer": "ipython3",
      "version": "3.9.10"
    },
    "orig_nbformat": 4,
    "colab": {
      "name": "01_Hello_Blockchain_Workbook.ipynb",
      "provenance": [],
      "include_colab_link": true
    }
  },
  "nbformat": 4,
  "nbformat_minor": 0
}