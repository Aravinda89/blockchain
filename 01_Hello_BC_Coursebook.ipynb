{
  "cells": [
    {
      "cell_type": "markdown",
      "metadata": {
        "id": "view-in-github",
        "colab_type": "text"
      },
      "source": [
        "<a href=\"https://colab.research.google.com/github/Aravinda89/blockchain/blob/main/01_Hello_BC_Coursebook.ipynb\" target=\"_parent\"><img src=\"https://colab.research.google.com/assets/colab-badge.svg\" alt=\"Open In Colab\"/></a>"
      ]
    },
    {
      "cell_type": "markdown",
      "metadata": {
        "id": "xamxJ60OFiyf"
      },
      "source": [
        "[![Open In Colab](https://colab.research.google.com/assets/colab-badge.svg)](https://colab.research.google.com/github/unpackAI/BL101/blob/main/course_notebooks/Week_1_Hello_Blockchain/01_Hello_Blockchain_Coursebook.ipynb)"
      ]
    },
    {
      "cell_type": "markdown",
      "metadata": {
        "id": "IFZyefv-Fiyh"
      },
      "source": [
        "# Welcome to Week 1 of the unpackBC Bootcamp!\n",
        "\n",
        "**Congratulations** on being part of the unpackBC Bootcamp. We are super excited to learn and progress with you throughout the upcoming weeks. This course will put you ahead of the curve and kick-off your understanding in Blockchain. In the next 5 weeks we will dive into the main areas of Blockchain applications (Cryptocurrencies, NFTs, DeFi and more). In each area you will build your own little project and understand what potentials and limitations come along with each."
      ]
    },
    {
      "cell_type": "markdown",
      "metadata": {
        "id": "4SZ7aMrsFiyi"
      },
      "source": [
        "### 📕 Learning Objectives of this Notebook\n",
        "\n",
        "* Understand the context of the Bootcamp (i.e. organizer, requirements structure, etc.)\n",
        "* Learn how to interact with and use Google Collab.\n",
        "* Dive into a brief introduction of the foundation of the Blockchain.\n",
        "* Interact with a blockchain."
      ]
    },
    {
      "cell_type": "markdown",
      "metadata": {
        "id": "EnSwFTDjFiyj"
      },
      "source": [
        "## Who is unpack?\n",
        "\n",
        "unpackAI is an educational platform for learning and applying AI and Blockchain in life and work in order to stay relevant in this ever-changing world. unpackAI explores new forms of community engagement and is determined to build a decentralized platform for life-long learners, educators, and contributors. You can find out more about us via our [Website](https://unpackai.com/) or [LinkedIn](https://www.linkedin.com/company/14590931/admin/)."
      ]
    },
    {
      "cell_type": "markdown",
      "metadata": {
        "id": "5nbhcLykFiyk"
      },
      "source": [
        "## Bootcamp Code of Conduct\n",
        "\n",
        "1. **Be a Student** - We are here to learn so do not hold back any questions or problems that you are facing. We can help.\n",
        "2. **Be persistent** - In order to achieve your learning goals you will have to persistently invest enough time to complete all learning materials and deliverables.\n",
        "3. **Be respectful** - Everyone who is part of this Bootcamp is here to help you. We ask you to be respectful to your fellow students and mentors, and to stick to the class timings."
      ]
    },
    {
      "cell_type": "markdown",
      "metadata": {
        "id": "CH1bOUl1Fiyl"
      },
      "source": [
        "## The unpackAI Teaching Philosophy\n",
        "\n",
        "Over the next 5 weeks you will dive into a field that will be partially or completely new to you. Some code and content that we will utilize might not be very intuitive right away, this, however, is normal.\n",
        "\n",
        "At unpack, we have adopted, a top-down teaching philosophy, that challenges you to dive into the application of Blockchain, before you might fully understand how the entire process works.\n",
        "\n",
        "We will provide you with the instructions, background, and high-level explanations. Your youself will tests your newfound knowledge through application, building greater understanding and clarifying confusion along the way.\n",
        "\n",
        "Even though this is very effective, you might feel uncomfortable, and feel the need to deep dive into a particular topic. We ask you to stick along the content provided make yourself comfortable to learn by doing. For that, our mentors will also help you along the way try to simplify complex concepts to focus and understand the core and not the messy details."
      ]
    },
    {
      "cell_type": "markdown",
      "metadata": {
        "id": "ErMFCVWEFiym"
      },
      "source": [
        "## Bootcamp Structure\n",
        "\n",
        "Below you can find out more about the entire Bootcamp structure divided into weeks. For every week we have a clear learning objective, paired with a class coursebook, and workbook. In total you will have to invest around 10 hours per week.\n",
        "\n",
        "\n",
        "|Week | Content | Learning Objectives|\n",
        "|:--- |:--- | :--- |\n",
        "| **1** | **Hello Blockchain World** | **Get to know more about your classmates, the mentors, and learn about the fundamental concepts of the Blockchain, how it works, and write your first smart contract.**|\n",
        "| 2 | Non-fungible Tokens (NFTs)| Learn more about Non-fungible Tokens (NFTs) and go through the protocols that make them unique and valuable. Create your own NFT collection, deploy it to a Testnet and view it on OpenSea. |\n",
        "| 3 | Decentralised Finance (DeFi)| Understand the major innovation behind DeFi, learn about the most popular DeFi protocols, and create your own cryptocurrency and DeFi project for others to interact with. |\n",
        "| 4 | GameFi & SocialFi | Discover a new field in Blockchain that has experienced explosive growth and tapped into concepts such as play-to-earn that currently push the boundaries of blockchain technology application beyond finance. Integrate your own SocialFi project with your DeFi and NFT project. |\n",
        "| 5 | Decentralised Autonomous Orgaizations (DAOs) & Personal Project  | Find out why DAOs are the industries standard as the governing entity for blockchain-based organizations and how they handle voting mechanisms and tokenomics to make the entire organization function. Go through the process of building your own DAO, and pitch your own Blockchain project to the class. Successfully graduate from the Bootcamp and receive your Blockchain certification. |"
      ]
    },
    {
      "cell_type": "markdown",
      "metadata": {
        "id": "bMnVALlwFiyn"
      },
      "source": [
        "## Weekly Structure\n",
        "\n",
        "Below you can find out more about the weekly structure that is being initiated during the warm-up session. Every week we will have two sessions with their own specific purpose. These sessions will be conducted on Zoom.\n",
        "\n",
        "|  |Monday| Tuesday | Wednesday | Thursday | Friday | Saturday | Sunday |\n",
        "| --- |:--- | :--- | :--- | :--- | :--- | :--- | :--- |\n",
        "|**Type**|Individual study| **Presentation Session** | Individual study | Individual study | Individual study | Individual study|**Review Session**|\n",
        "|**Time**|Self-paced | **7:30pm - 9:30pm**| Self-paced | Self-paced|  Self-paced |**9:00 am - 11:00am**|Self-paced|\n",
        "|**Content** ||**Discuss lesson content & workbook** | | | |**Discuss questions and problems encountered during the week & review notebook content** | |"
      ]
    },
    {
      "cell_type": "markdown",
      "metadata": {
        "id": "4FY9QiuUFiyo"
      },
      "source": [
        "## Software Requirements for the Bootcamp\n",
        "\n",
        "In order to ensure a good learning experience, you will need to use the software listed out below. All of them except the VPN are for free.\n",
        "\n",
        "1. **Zoom**. In order to join live sessions with mentors and fellow students you have to install Zoom on your laptop. You can download it [here](https://zoom.us/download).\n",
        "\n",
        "> *We don't recommend to use your phone to join live sessions as your phone doesn't provide a proper online session environment, and will compromise the quality of live group interactions.*\n",
        "\n",
        "2. **VPN**. Unfortunately, many available resources that we will be utilizing require a VPN. A VPN can cost money if you want to have a reliable connection. We do not advertise any particular one, though many foreigners in China have had a good experience with Astrill.\n",
        "\n",
        "3. **WeChat**. It's our main communication tool for every day communication. You will receive instructions, announcements, ask all sorts of questions related to the content, Bootcamp, and recieve answers on a timely manner in the WeChat group. \n",
        "\n",
        "4. **Google Colab**. You will be able to access all the class content within Google Collab as well as execute and write your own code. It is the main tool for building your AI models, freely provides GPU resources and has other benefits that will be described below.\n",
        "\n",
        "5. **Replit**: At week 2 we will utilise a tool called Replit. It will make it easier for us to work with the Blockchain. You simply have to register a free account."
      ]
    },
    {
      "cell_type": "markdown",
      "metadata": {
        "id": "32RMgVZdFiyp"
      },
      "source": [
        "# Your Bootcamp learning journey starts here!\n",
        "\n",
        "The page you are currently seeing and interacting is created within an environment called Google Colaboratory. Over the next 5 weeks, we will be working within Google Colab and get more familiar with its functions, as its a great tool for learning. Carefully go through the next steps below."
      ]
    },
    {
      "cell_type": "markdown",
      "metadata": {
        "id": "VoA2_dptFiyq"
      },
      "source": [
        "## Introduction to Google Colab\n",
        "\n",
        "Colaboratory, or \"Colab\" for short, allows you to write and execute Python in your browser, with \n",
        "- Zero configuration required\n",
        "- Text, Code, Images and Videos all in one\n",
        "- Easy sharing"
      ]
    },
    {
      "cell_type": "markdown",
      "metadata": {
        "id": "bYbytlnYFiyr"
      },
      "source": [
        "### Getting started\n",
        "\n",
        "The document you are reading is not a static web page, but an interactive environment called a **Colab notebook** that lets you write and execute code.\n",
        "\n",
        "For example, here is a **code cell** with a short Python script that computes a value, stores it in a variable, and prints the result:"
      ]
    },
    {
      "cell_type": "code",
      "execution_count": null,
      "metadata": {
        "id": "ArvSiEWMFiyr",
        "outputId": "5dc022b6-d6fb-4300-f348-c5391b5e3af9"
      },
      "outputs": [
        {
          "data": {
            "text/plain": [
              "2"
            ]
          },
          "execution_count": 11,
          "metadata": {},
          "output_type": "execute_result"
        }
      ],
      "source": [
        " 1+1"
      ]
    },
    {
      "cell_type": "markdown",
      "metadata": {
        "id": "YNZdVTQxFiys"
      },
      "source": [
        "To execute the code in the above cell, select it with a click and then either:\n",
        "\n",
        "* press the play button to the left of the code (the little triangle ▶️)\n",
        "* Use the keyboard shortcut <kbd>Ctrl</kbd> + <kbd>Enter</kbd> (for Windows) or <kbd>Command</kbd> + <kbd>Enter</kbd> (for Mac).\n",
        "* Use the keyboard shortcut <kbd>Shift</kbd> + <kbd>Enter</kbd> to execute and move to the next cell\n",
        "\n",
        "To edit the code, just click the cell and start editing.\n",
        "\n",
        "Variables that you define in one cell can later be used in other cells:"
      ]
    },
    {
      "cell_type": "code",
      "execution_count": null,
      "metadata": {
        "id": "r3rD3mmfFiyt"
      },
      "outputs": [],
      "source": [
        "seconds_in_a_day = 86400\n",
        "seconds_in_a_week = 7 * seconds_in_a_day"
      ]
    },
    {
      "cell_type": "code",
      "execution_count": null,
      "metadata": {
        "id": "LpTc22c-Fiyt",
        "outputId": "eb90b94c-afae-48b1-ee67-6c2e3473677c"
      },
      "outputs": [
        {
          "data": {
            "text/plain": [
              "604800"
            ]
          },
          "execution_count": 13,
          "metadata": {},
          "output_type": "execute_result"
        }
      ],
      "source": [
        "seconds_in_a_week"
      ]
    },
    {
      "cell_type": "markdown",
      "metadata": {
        "id": "hZHtliVVFiyu"
      },
      "source": [
        "Colab notebooks allow you to combine **executable code** and **rich text** in a single document, along with **images**, **HTML**, **LaTeX** and more. When you create your own Colab notebooks, they are stored in your Google Drive account. You can easily share your Colab notebooks with co-workers or friends, allowing them to comment on your notebooks or even edit them. To learn more, see [Overview of Colab](/notebooks/basic_features_overview.ipynb). To create a new Colab notebook you can use the File menu above, or use the following link: [create a new Colab notebook](http://colab.research.google.com#create=true).\n",
        "\n",
        "Colab notebooks are Jupyter notebooks that are hosted by Colab on Google Cloud. To learn more about the Jupyter project, see [jupyter.org](https://www.jupyter.org)."
      ]
    },
    {
      "cell_type": "markdown",
      "metadata": {
        "id": "iQZst5WxFiyu"
      },
      "source": [
        "#### Some useful tricks that are absolutely important for a better Google Colab experience"
      ]
    },
    {
      "cell_type": "markdown",
      "metadata": {
        "id": "O1YOXx3hFiyv"
      },
      "source": [
        "##### **1. Save time with keyboard shortcuts**\n",
        "\n",
        "You can access all the shortcuts selecting ***“Tools” → “Keyboard Shortcuts”***.\n",
        "\n",
        "![image.png](data:image/png;base64,iVBORw0KGgoAAAANSUhEUgAAAnEAAACuCAYAAABZelvrAAAgAElEQVR4Ae2d/XNc1XnH+Vf2B6p22pJpJ55OU6dMI5IQMbSISVJDXjSBoIQEQ0K9BEdViBQqsFPEi4gc4ihVWk0xaJQgBZOYgCIUapE4lQJGIAcBIsaAZRuQbMuy7PrpfM+9z91zz967urvalfbufu/M6u7ee+45z/mes+d89jkvukh4UAEqQAXWSYELFy7I//3f/8m5c+dkeXlZTp8+LX/4wx/WKfWNTwZ5RZ6Rd2gALaAJDypABahAKQpcVMpDfIYKUAEqUIoCCnErKyuytLQkCwsLdQdxyDPyDg0IcaXUIj5DBaiAKkCIUyV4pgJUoOIKAOLOnz8vZ8+elVOnTsm7775bdxCHPCPv0ABa0BNX8WrHBKhAzSpAiKvZomXGqED1KaAQh+HEkydPyvHjx+sO4pBn5B0aEOKqr47SIiqQJgUIcWkqLdpKBVKuACAOc8HOnDkji4uLcuzYsbqDOOQZeYcG0IKeuJRXappPBTZQAULcBorPpKlAvSmgixoAMJgbNj8/X3cQhzwj7wpx0IQHFaACVKAUBdYOcQtj0rmlSbaOzPvpz8tgS0YyLYOiV0oxbEOemeyUTCYjnZN+6rMD0tq0RXonlzfEnEKJzg60StOWXqlC0wqZzXsbrcAG1+nUQZzbJqyx/LA6dWMhLn3t88H+rGSz/XJQtT/YL9lsVvqDC3qjmPNB6c9mJbu2SIpJkGGLUODo6E7JZnfK6NEiHqrToAUhbrIzY6AGYJP/apFBUNrCPtna0CBbBg/7Em5sI1HYZgvQogrcbbCne6Uxc4l0TlQa4pZlbBs0bpOx2KSmpXdzRjLNAwKlp3sbJXNJp1TctCidSro2KZ2oRwEhlxRJCh/y8+18hxo2NUlr54hML6xzltatTkfnqzSIi9Ywr02qxA9Ht02Izlbiq8VA3Pxgi2QyfjsblUJJtm1s+xyVjSPDXZLNtsuemai7IoS4aF1q+SohLnnpJoC4VumbmJCJvNekHI4Ejo1tJDyIi7N5QmYLdZoJGkUv/k5RZ11yqQuHXJ5ok4ZMRrbuizFwulc2ZzLSYsi5cFzVebeaIa6SddbPd2tf6Ds00rdVmhoykmnsrJg3tVJ1dS31qzSIW5DZUPvTJ62AYkfTicnDEtkkrcXgBG1CMdET4ly1ZmVPOzxt8V4xQpyrWe1/JsQlL+MEEFcssFSyQ1w9Y2vquBI02GuKv6D5k9KJTn3rPonCuOnezZLJtMpI1M2C8VbLzTqHuCgPZIXBvHJ1tfQ6VRrEuemtY11K0Ca41hX6TIhz1JnZI+3ZDunv75ZsdrdMrTj3hZ64fEVq/wohLnkZrx3i5gelJeQhioG4hWkZbGuWTQCVzCXS2NorExWYNJe845qXid6WsD0jzpw4qwH3hjacYeWojjm59nkhPVDbKvnOOB/wWkcCwIvO54JMD7ZJ86YGM/x9SWOr9AYie8OxDTvCPsTZgab8YVwMkYfKNM/UEi64HW+unszODkpb8ybjicxc0ixtg7Nhj0qo7jTIpuat0hfkK2fK/ESvtDZeYvLesMmNR9Mfk+k+v9w7J8XTMVyu5fV2arph3T2rw/fihs/CZa3PTEg4vy1BWResq1adNjbo57FZ5/vZJ5P4wTA/Ib2tjXIJPF8Nm6S5bVBmXXdXkjB+Ma0PxM3LRN/W4Hvg1YXp4Ltj1ZjVw6k+dvElrI+5dHLv1gPiwvXC/R7kvnde8+t/3jois6HvT64+5awv97sVmdqdlWzXsBxZHJfubFZ69i/mJVKqJ25xdlR2d233vHzZ7dLVMywzQfQ6J25KTkztke52P9z2nbJn6kTYhpUTMjXUI13bfY/h9i7ZPTonS0GoozK6MyvZnaMyN2elub3DCec9gPR2+nFtb++WPVMzshfPh+bnrTh2uWkirkWZHd0dsqtnaEoc6wMr9c3KiSnZ090u2+H9zG6X9u5+GZ/L5caEW5yV8f5uaQ/Z6ce8MiW7s1lpzxv/9r2quw9IwOKLszK6u8tKa4+48srSnIzu7gjCdO0elQNDnBOn5bXaeX0gbnlSOhsz0tDcKYNjGJodkR3NDZJpiAKW1UwufD/c4cWFXZbJzkYDk1t6R8ww10hfqzT685YCNrMb8OUFs6JsrM2fu7awIAtuZxaXXNLrvmcmb0h1stMATps1YS4/n36eGpqlc3DMy9OOZmnINARDtBOY49g0ILOBPX4DnmnILebAvQnAbJMM5AIGT5T+RuFDe0M/7c2N0rhpi/SOePWirxXlslk6gxUb09LbiGHHbTJg6s6YDGxDmFy+YNPhwRZpyDRKa59XnmMD20x5NvZO+yb76Tc0yCWbWqRtxw7Zse+wiCnXaRnYkpHMlgGZLnu5uvm2FFwYMcOCm30bi4K4xkZpavI1GRuUTnyfdP5Uobpq12mY4n9uaNgked+F5mZpbshpqt+RzZ2TOcg+PCgtDRlpbO2TEQx5jg3INlNevaLKWzkO/uXW2lanFtBU5mWkBW1Lk2wb8L8H/ne70bY7aThXL0lWH+082+8rDXGrfw9iIA7fi7z61CB2m2PnoyzvfRjYaWavr8gBAF33uASc5SdSCsQtHeyXdoDGrmE5MDUlUweGZReGbdv75aDhFR/i2tulo2OXDB9AmFHp7wLY2BPqj8pod1aygLvxKZmampLxAczhy0p3MOveh7j2dmkPwo3LUHe7mevXfzBAGlG7tu/cI+Owa3xIuiOGk4+OwjPZLt1D4ybNA8O7vPzsyTXKs3u8+HcNHwiFyfbsz9MwKK/F/dIDeOsa8NKfGpcBk+d2CaJeOij9sEl1mTogw7u8tAZmvLyYMmnfY/UlIjI3LB3ZrOw+4OdX4+nql1HoG6TVIzlW9/XNdoiXjwMy2u/pGy6HIAd84yiwDhAHuNgsmc3OJPzlMWlryIh2YI5dJX/Mh5uIqGb7TAff7FDK8tg248WJhDg/mkTxRySZ7NKsDDTlD6lOdqJTagstYnDtWJ7slM2An9BKh2UZa2uQzGavQ13Yt9V09MFCYgMRjdIIwA4yjUUTKK/oTjhZPqJCuR2v35k0tEiwJgaPoV5kMhJ4DCd3GIDtnLDjnJU+6NQy4q2ADrzBurjGCzs70CyZjP5Q8NOPnIPmdmx2Wmt97+bbi295floGABsAL9/s4iDOmUs3OyBN8J4GhQs+ww8OZzqECyX+5xY1ws/ubB88tJiDaWuK+gSP3A5/TmhONzuUzA5Ic8z8zkp74ry5pe73QCF/syjTJw2nkBt8PZLUxwJVpqIQl+h7kCuzkCfObZ8VVv2FVAWyVPKtxf09ks12y7hPbStTuyWb7ZLhI+Eoi4e4IzIMMNk5KqHFjb63z4NGhTiFOj9NH0S6R32v0+yQdHV0OIsuFmUcYNcxLHPmMR/ist3h1ZQrB4zHKjugKzZ8u7r0OT/NJT+ceuKOjsrObFZ27g1ZL3NmAYgC0IwMmHmEUyGx5oY6jKZqfuimiJwwcNgloaiXDsguxOXbeWL/buno6JHxUPIz3txF9bKZFcIW+ImIt0BFh8RX5GB/u4HmKdvJ5+e13SfGxf27DBDvPmAHEvHyYcO0mxN+VgUSQFx4qElXhAWNWtBw6Nio20h4Q4H5sLYg+7aWfysSr+OKtlmHyQ4Pbsl5LVQJnGM6uCCvJkhEx2jHscb3hw142HPfPP0a2iZy3o8IOwzoRYCXgptZD+GXlf66NveaBmQScBc865WfDXVrzJL/uAszbj3RVA7LILxiKvphDwha+qKGw7xnPPhRWNN4zBJesxjEi8pN3woncbbYYUp976frrE7F96hhU4v0TefcuUVBnOoTmDVhVv9qHcflYiDOjc6zZUsAmJqMd90HQ78+5XmOAQBYSe1GKlJhT5wPmUFdVqtzPw68dihpuIg2IUF9tFLNe1s8xEW3ZdoO46wyJ/seuHXd/ZwzWdtJ63dB7uaa3/kgFPIaeWDV5VBc0RDng1j+0OyKHJ2Zkqk5UKMOp7r7lEyZrUc80IvPZNim3HBqiHvkqOwFTDpw1hUiKKThP++H8+aDKaxZNsxi/qBuraKgOiSzruvSesR964Fyu+zefyI35OkGivzs5tGDuo5hD2ODPOye8uP19FVYy0W5KPt7coA95W4f4wfknLicYqu9SwBx0Ss9g1Weq0Gcf99udELvy7wtgNdxRds86S+njezcoFQVQJz4nUSrv4JBPQbqQdACDefBb4gjQMHTWrcp8Dx9npfL68hMp2bKyB8+9T1hCnqa3trPLkTFdR7+de2ZZFmwJ14wJ2trpwyMzYbmN3laxHd2XlRu+naO4myxw5T63k/XXkk52Ba50nhtEOelU16I03qTy3sI4vzvS+j7bNfBoAxzz1fWE1eoHP17ZuFQ0nARbUKC+pjLbf674iGuSTrNVIOIHQL6WkMjB8m+B27e3c+WzaZ8c95L687a3x4Zli4MvTkrGWYwROgM04WByax0MN4bZaM8YxLtIxcHcd71EMT588M6dE6cmUuGYVfdu84FHLUoDGcSa1c4nJdff/5dkFbus+Z7aW5YunXOWleP9A8fkLnF3NCtWhE+n5AD/fDWYYi4Xbp3D8nowaN5QId5c0M9O4M5cSY8nrG8m6as1BvpezmD8vS9icFzbj5MPHG6iRDiwqVW6FMCiHOGY9zYEkJcU6c3Vylvq5IybwsQhhvXWO9zbJhqgDhZkJFWbJ+ARQzLMmENh9q5CefBb4ibOr15SaHtGND457aDMUOlmBe3PCFtDdpAe883YXjZDBdFeLXsxEt670JUXOfhX3cBYPmwTI8MSOdWf3HMJVsCL5anRTS4o755Pzjc9O1MxNlihyn1fVS6fhlvDg+JphXiWvsiAAN1MPill9Nu4yDO9/CuCnF2uCiI8/NSoD7mcpv/rniIywfpIFanvUr2PXDruvs5iN3/UatthHW9DG+9obccmIQ7+/CecRsKcUtTshughDlks0fMv0vDv0wz8/cqCnE9MoQ5cxEv40jUMlhZkiOz4zLcrwsvtsvO4dk8KNPgel45MSdTo0OyWxc4dOyS/epGnPMAG/MJp+ZO+HmezR+iNiuLveFvb2hch1LhXPSGhDv6vTl9efmYATgS4rQ81nKuPMT5np384dS1mB3/bBhuosPFDhM4jWKeZ8606ZUdToXFCyP4hd0qI4cBWtHzBsP5LDA85EpgFkm0yOBIpzQ05ADdDOO2DMoYVquW2TvqmeDCTFzn4V9XiDOT9HNDjiauhQnpxHCdPyfOW2FrD0G7mcZnN307TJwtdphS38ekG7G9SOogzp+Hp17jJApVFuIKfA9C7VDScBEQl6A+FtKhkhCX7Hvg1nX3c8762HYyF6TEd/78qp7hCEgZl/6OrGSDYbkSthg5utfz8ukEe8vKlaVFWVyCtyqZJ86bQ5Y/NysMlnEwEvawyYlRswI35OUztoXDzQ1789p0rqBlfu7typKBK5OV4OqiTGEeGubmxSxRzeU/eEhWjuw1c/B0TtzMgO1l1HBRefTKcefonAe1VpmJPx8wfwWrxuedveHUAdFZg3qXnjhVYvVz5SFOFmTfNm8lqju3Ynl6wtvGYHU7E4cIw03MYzqvJTRpW+EpN8dkoyDO/BcMTCpvwYrLZhkIzRr38uTmc2HfNm8lar7IMmH2ivC10M5s82bJtI3l5tmZDrlZmpszYjxyMdKVftmFmbjOw7/uQ1z0/nh+J6yw6S9Uya1EVSsPy8SEiuemr2FwjrPFDlPq+7h0fW+cvWDFrAp2VgqrZzZYoBAXn3d9XYdTZVb6YlaiHp6YMP9ZxFWtshAnotMPwgt8yrewIVF9dDNtfa4kxEmi74Fb1/3PeQsbZmWgOfcfYqwsrP2t8eDo3K786DyIyXl1wsCUYDhV5mQIqyvdla7+pHpvzl0yiPNgwlkIgLlu2BKkWE+cJFzYMDfkr0SdcTxqR2Vq6oh3zZ8f1+2Q3soBLA7Jh05PZX8+WvseB5rmZBjg7I/Tqt6hJRNLU96KVWs4FXGaFbJdXQaadZg3SGsXNOqRcQcol2amgq1edI5ef2j1g4gZqo3NR36dqecr6wBxZv8Hsw1BprFV+vz5Hd52BQ1m9ZvjZ1lTeXhwEz+05s2Li9lipKHBWwmpu2C4njlkxSw8aJS2wQmpyA7xJvf+MCrmF8WsDnMhTuSwDJrVjrktISZG+qQVK09bBq3/ruEvKMlknO0D/MnomcoMn+R7wtzORIvdv66euPkRU3cadPuDiQkZ6d1i5sg1B3Sr5dkgzZ2DMma2uvC33WjslAmzQXIc/CBdX++GFunFNiYRw4BqXfHnAun63rggH2aI29pOBVuHbLlEGhqwilW9pnHx5UNcZF1167T72c9gnFcwNCcOyk12mpXeue2DxmSwE1vbNEqnJ3xIskpDHIC8oluMJKqPoSyHPlQU4iTJ98D93vmfsdDG2gKqdwv2W2y0tvoJZWMNH/y94QIAiohKV4j6gKJQESxBiJ1blotLt/IIbTECUHG3GAmTR+ChC7xl/ty9bEePDI1PyYHRAelBPGaOV5Fz4kQSbjGy5K3szGalq3/U3yLF3/6kvV+mzEIGd2sObFfi7z+HffdyUoTercwMGEAMtjgx24d4c+R0PpsHVlnZvtPbGmR8eHewr509J85E7MNkDmit5I56nsdse7fRzmzPMtRt0u/e68MohlSx0tfZYsTbwy4ORq00+FbWB+Ig9PyE9Ol8pkz8hq1rLRMPbuInuec8FRGb/U56GxcrP0R54mR5WvpavI1pG1r9LS7WanTE855HIf7fbOVDnBE5b/PSrX0T3jYcVhpeR5w/7814GawhVuuRMrx14cPtTDQJB+JwOVR3MoJNjDtHnA2BMeF8pDPY7DdzSaPzv0nd9DU9/3x4n7Q1exsFX9KrFO+EKeljoXRz3jjdAnDZbHzs2WHy0Dshk+Z/aBYPcZF11YU297Ofx6QQh+DLsyPSqRsCm428O2Uk5p/CVh7iYFGFN/tNVB+jK0tlIc6UxirfA/d7p58HZHI9Nvt1t9OIlMn3DPmetFIgDtHmbfa7e9RayZnME4d4lrCBb4duBuxtuju7F3uZqYcuaqgRT4aHSTWryTb7XZK58X5rE+J26e4ft+xHbO4mxF4Yd99eTVfPS3Pj0q9z4bJZ2d6F+Xdhd1m+jSdEV5KGPHTib/CbB8N+amaBhG72m0srtPwiYrPfuQP9BTyKmhOeoUBBiKNEVIAKUIFyKlAeiCunResbVzEQtz6WKcQN5v3YW5/0mYqI7vkW+BopChVIrAAhLrFUDEgFqMBaFSDE/UHm5+fNf3/Bf604d+6c2TtvrbqW/vz6QtwTTzzhD0XqkGR9nLV8lqb2yB7vX0boJUwAM0OMuq9deKVufehTKM/4nvCIV4AQF68N71ABKlBmBQhx9Q1xZa5OqYvO+68LuX+nFcxjax8Q/z9apS5PNHhjFSDEbaz+TJ0K1JUChDhCXF1V+LzM4h/bD0lPl86xSzaPLS8aXqACvgKEOFYFKkAF1k0BQly1Qdy6FT0TogJUoAIKEOIqICqjpAJUIFoBQhwhLrpm8CoVoAKlKECIK0U1PkMFqEBJChDiCHElVRw+RAWoQKQChLhIWXiRClCBSihAiCPEVaJeMU4qUK8KEOLqteSZbyqwAQpcuHDBbKuBbQPwj8SPHTsm2DutXg7kFXlG3nWLEWjCgwpQASpQigKEuFJU4zNUgAqUpACA5fz587K8vCwnT56U48eP1xXEHTp0KA/i4J2ELnxRA9aB+qwDJTWm/kOEuLWox2epABUoSgGFuLNnz8qpU6fkxIkT8s477xQVR5oDv/322wZc1RO3srJioBYgxxc1YB2o7zqgEF9MG0eIK0YthqUCVGBNCqCRQkcFiDt9+rS89957deWJw3AqX9SAdYB1IK4OoH0sBuYIcWvqkvgwFaACxSignjh4oABxCwsLdQVxxWjFsFSACtSXAgA7/Cs+TDlJCnIXxdEgr/OXAusA60Al6gDmhb388ssyPT0tL774IiGuvvop5pYKUIEYBdDeok1E24g2Em3lam0wPXExYvIyFaAC5VdAh1PxaxOLG+CNQyPFgwpQASpQ7wqgLUSbiLYRbaQOrRbShRBXSB3eowJUoKwKKMRhOHVpaYnDqWVVl5FRASqQZgUAcZhigrYRbSQhLs2lSdupQA0qoHPidHXqu+++S09cDZYzs0QFqEDxCgDi0CZi5T7aSJ0bVygmeuIKqcN7VIAKlFUBhbh63SeurGIyMipABWpKAUAc9s7EHppoIwlxNVW8zAwVSL8CgDjM9ajX/9iQ/hJkDqgAFaiUAoC4Yv+jCz1xlSoNxksFqECeApjjoRCHuR/z8/McTs1TiReoABWoRwUAcWgT0Tbqv+VDm1noIMQVUof3qAAVKKsChLiyysnIqAAVqCEFCHE1VJjMChWoRQUIcbVYqswTFaAC5VCAEFcOFRkHFaACFVOAEFcxaRkxFaACKVeAEJfyAqT5VKDWFSDE1XoJM39UgAqUqgAhrlTl+BwVoALrogAhbl1kZiJUgAqkUAFCXAoLjSZTgXpSgBBXT6XNvFIBKlCMAoS4YtRiWCpABdZdAULcukvOBKkAFUiJAoS4lBQUzaQC9aoAIa5eS575pgJUYDUFCHGrKcT7VIAKbKgChLgNlZ+JUwEqUMUK1AzE4R/AtrS0yL333lvFctM0KkAFilWAEFesYgxPBahAvSiwLhB3+vRp+fGPfyzXXnutfOQjH5FPfOITcvvtt8vhw4fLpnM9QBwAFfoVel111VUyOztbNl0ZERXYaAXSBHH4tzd9fX3mO5rJZGTTpk3S29sraAPr+XjllVcEbRPOlTweeeQRk86JEycqmQzjjlEA/+f4ueeek2984xty3XXXmdedd94pf/zjH2OeKHz5wIED8pWvfEVeffXVwgGdu2fPnpWf//zn8vWvf12+8IUvyJe+9CXp6ekx/yhegw4PD8u//Mu/CNgh7pienpZHH3009P09evSodHV1mbz927/9mywtLcU9vup15Av5g436gm7QDzpCz9WOikMc/qcXjLzyyivlwQcflF//+tfy+OOPG68ZYG7//v2r2Zjofhog7uWXXzYFhXMpBwoLeukLBf2pT31KnnzyyeDab37zGzl58mQp0ec9gw4JsI0X3vOgAhuhQFog7tSpU3LrrbcaiBgbGxM09jgDXnAd9+v1qGaIQ2eJMrLBD+9xDfd4JFMAwAEwam1tFcD0kSNHZGZmRr773e/KTTfdFAJ4hEsCQKVA3Pnz580PKXAHQA4M8tJLL8m3v/1tA0f4jCMJxD399NMGBN98803zDOIGDGazWXnxxRdNncE12LkaEEapqBCHdgIMg9cbb7wh3//+9+WLX/yi4aWo5+xrFYU4ZO6BBx4wXwYXXBYXF+VrX/uaAbz333/ftqmk9/UAca4w8MxhCBl5r8RBiKuEqoyzWAXSAnEjIyPGA3fo0KFQFg8ePCgf+tCHDNCFbtTRB0Jc7Rc24OPmm282cGR7kNDXA6AAP2ACHOWAOMALXu6BET7YAYCzj/fee884JB5++GFzOQnE2c/jPbxugM9du3aFbhWCOOQZwBc18qgQh+ft49y5c4adOjo6Ql5AO4y+ryjEweh//ud/NlRpF6omvnfvXvn4xz8uzz//vF4SwB6I9qMf/ah5wdvkZh5xPfvss3LNNdeYRvOzn/2sqRSf//zn8+bE4VnEgfjg+duxY0fFoCfIRMybtXri3GgLQRzcyT/96U+Npw7Dr9AImkE7VBDosGXLlpCb+/e//73R6KGHHjI6usO2Q0NDrgn8TAUqrkAaIA6N+y233CJ33HGH+X7ZouAeOrEf/vCHwWV8B/F9wncMw64YqXjmmWeC4RON7wc/+IEZuvnABz4geGFodmFhwXgaMFTb0NBgfgwfO3YsiBteEHg+9uzZY+K/+OKL5cYbbzTtKDz1SEvT/O1vfxs8hzfwOGzdutXEi/QwbIROWI+7777b3EcHefnllwvixvCPO1z2wgsvmOkzSAfTaDAkVWg4FR6vf/zHf5Sf/OQnJl59DvHYx2r2RQ2n2s9AMwx3o31UjZGWvpA/xKGfcba9dPjB3NnZacoiSh/b1np7DyiCY+add97JyzrqC+AHoIf+XYcOccZzKAvc7+/vN33TV7/6VTOEWsgTB5ByYQoJKxiNj4+H7FCYUvBTiMPoIEabYMu2bdsEP7r00DAod43Xth19Kuy2r7k2ad4Ql3tonC7EIZydtvuc/bmiEIcGAo3UxMSEnWbwfmVlxQAVzjjQwAC0UBHgXvzlL39pPHUYMlThEQ7DiXY4DM9+5jOfMWnZCxvwDJ795je/aeLbt2+fAPTgZi2H9y/ISMI36wVx6CAwdI3GBw059Lr//vvlYx/7mPziF78w1qLRBcTdd999ptNRrxvmDhw/ftwM/bz99tvmC4cvHd5zSDVhQTNYWRVIA8Tp8BsAYLUDP6QAY5s3b5annnpKAGD4nuIzOgUcChiADnj4MDT72GOPGXgAPHV3dxvgQht7xRVXCOYd4XuPAzYArtC5AGDwI/mTn/ykif/LX/6y6aTw/UfHBXDSThfDX4gL4Ib09Dk7bkDOn/3Zn5k2+rXXXgvC3HbbbQaMkD7m5KLdB+wg/d/97nemLUL+4ubEAeIATPCgIF6EAxzCHtiFI4l9LsQhH3AktLW1GdBEHwPbAAuoVwBilAHAFuliKgq0x3tcwz14cBBWh8thF+zDUCF0hbdEtTeG1ukfwAvqHPSLO6Aj+l6UE3RDv4LweOHZG264QfDDBfUaZVEKxGH+KeLGkOfrr78e/DBybQIkoSzBB/CUISzqLL4XKHMcNkihjGEv4kZ/CrBbXl42P3LAK5h/hzjcaROat2IgDm3Ef/zHf8j27dtNHXVttz+XBHFJJ+nqL033155tgL7XLwi8ZrYIGL9GwX7rW98yjQR+FYLSAXr2L1snuCwAACAASURBVMS33nrLeOYU4hRK3PgwURFfToUZTb8SZ0Abvuj6wtw1EDvOek3PpaQf54kDNCOP2iEgblRAeN/wixwNFw50Cmgk4YFDJQQY28+ohpwTV0rp8JlyKVBrEDc3NyeXXXaZYL6NHmi0Mdz0uc99znw/0fDDswfvHe7hgPcI30W0h/a81x/96EfBcwiHDvL6668Pvue4hlGPD37wg6azMpGJmPcAq6mpKXPpV7/6lWlb7blhGHqyPVGAOHjWtJPTuO0w+AGJeVF2+6xe/kIQ19TUZDpJtU+hDfnBkcQ+F+IwquDaCyi++uqrg0nuSefEoc9AuaH89ACgNjY2xsKphquHcxKIUx0ANDbwKegAXLS+I2wpEIfnAO8AMvS3gCuMSrnTjmADPNbwDuoBzy880fCQ4bAhDp/VTtfbBjvh7HDTsJ9JCnFo7yYnJ41tWBBq62GMcv6UBHGAkyRHMRCHiYcAiii4+q//+i/zawpDo2gE0GC4Q3sQz95iBL8GEc6NDwADkFHYS5KPUsPYLtbV3peSRhTEocDhXbNhTeOGFtBEV68ClgG5mEAJTyYgz/5FSYhT5XjeSAVqDeLwQwkw4A5BAqYUCBTiFGBUf0AU4A739XDBBZ/dMAAV1xOGthTXcC/ucOOOSt+GILX7nnvuCUWp7XYhiLNBEA8rtCLNuMO1z/4cZwu8LvjBqrbY9ms66lm1tYEdWKAC74se8MwAPu1weq/ezuWAOBd0bIhDeQL84vpSGwqhPdoNOEnw4wgjTPC6gRu0j3MBDc8A3gBja4U48Ig7bGzbrRCow6n2PbyHrfAWJxn9KgniKuGJ06HXKK8druncubhwLsRpOLjOo17rAXGAXfuF4VwUEM729aRQ7DYKURCn4BWVZ1yzIQ7xqWfSnR+HexoXPXGu8vy8ngrUGsTZoGHraIOOAgjC2kcURLnx4XMpEAedMY8Ic40xHKvzwmy4ikrfhqA4u+282fnR93Yceg1npIfhK8xnSmKfrQU8gfhhr/mwz8if9jVRabsQhyk///qv/xoZF+LFXL56PyoNcTqnDSNNeGGYHy/9DDhHmKgDPwgw8gQPMUbCcFQS4pAevGmwDXNd4Sz53ve+F9gK8MKhEGevTgXL4PmkR0kQlzRyBSlkJOqw58RpWP1i2eHxfKkQB3ekbslhn1VEO51KvwesAeJKhTbXvkIQh8qKimHnGe/dLUh0HqI77xBpEeJcxfl5IxRIA8QpvOzcuTNv+AP37IUN8MS5Q4fQFW3fpZdeajxEGt96QhzaC3gC0eloJ+ICTlKIw5CqfZQCcfB4wfOFNHEksc+GONUQQ9KAMvcVl0ek5UIcrsEOTOvBnGE3LqRV7wegCAsDoI176MIGncqDsLbnDPrhM67bh+2Js6/jPaBRPVr2PYzYAaC0fPUe0vjOd74TPFNJiNM0cY7LG+4pxCGfpR4VhTiImXR1arHDqW5hu544jQ9zQarlWA+Iwy+Ru+66y7iP7XkrURpggikWeWAOAKAPvzRt9y0hLko1XltvBdIAcdBEtxjR6Qqqk7vFSDFz4tYT4qIADV6LYjxxyHOl5sQlsc+GOEwtwVAa2jd7njWG0xQmYC9AFQs87BW+CnH2HGGULxYy6EIQPIs00M6uNm9J60Itn3WLkZ/97GehbMIjGrXFCIBK4TcOdEqBOJQZphOBAewDdQCrx7FwAke5IQ4/OAD47hGXN4SreogDUOg+ca7nCwVr7xMHgSGCuxDBXdgQFw4VCN4kHSZF/FgAgcIE4OmBLxvmntgTg/Vepc/rAXHIA1b1YiUqANZuXFDBYAOu4TUwMGAWQGBIFd5OzBOx5xAS4ipdIxh/EgXSAnHaNgF60JEACuA9wme0bbiPA9+9qNWpWIk6OjpqwqDhx5DoekIcIAXbZgwODprJ+xjFgE3FQpy7OhVaIA53Tp5d9gApDEti6gZWhuKF9ttenZrEPhviEL/aoqtTsVoWK3sxIqL9AvoD5BPtpnbCgDwsMsEPYkAbwA/liUUSujoVk+cxXxt5sxc72Pmqp/eo1wAjOARQh9B3Y05a1Ga/uvMEFhJA6zjQKQXiMN0L5Qa+QDpqB+Zpwjbd0qycEId8YN4dvu+uJzIub6gbVQ9xMFIhDKslQcAY0tP/2IBr9lCrDu2VssUI9kEDuCjEIW2kBTCBtwmFif1gUKHQMOD9eh/rBXHoLNBoIe9YnaWaY/ECliwDcAHVaHx2795tOhU0UljYgDCYrIsDEA69AMdPPPFEaJuX9daO6dWvAmmBOJQQOhAAGqAAUIJ5qBjOc+cR4/umC78QDm1h1D5x6wlxGH7CHmqwHfvPYS4a2uoPf/jDohsYR3nD3CFX6IBODcCDvOFc6j5xmi7iTGKfC3F4zt4nDvmCowDX9EAni7lVmCdnL8jAj2BoAe+bjmoA/HSfOIQHFOBHMA9PAXxX0bfqv7vCSmr0Ie4iHugITxxgGnUsDnQKQVwhzVFXMIRr24H00AfrUU6Ig/3w+gLw1dOn6RQ6pwLikAE0YPhVBxhAo4YGCw0EhlvdAyJjVUexm/3C7Y8vpw1xiNuND3FjAiR+NaT9iJoTp3mCF83WHNrjM8pCIc8GNjyHX60AO3uVKn4R4xcGyg0TM3lQgfVWIE0Qt97a1Ep6USBYK3ljPqhAJRWo6Jy4ShrOuKkAFagPBQhxtV/OhLjaL2PmsDIKEOIqoytjpQJUoEwKEOLKJGQVR0OIq+LCoWlVrQAhrqqLh8ZRASpAiGMdoAJUgApEK0CIi9aFV6kAFagSBQhxVVIQNIMKUIGqU4AQV3VFQoOoABWwFSDE2WrwPRWgAlQgpwAhLqcF31EBKlCFChDiqrBQaBIVoAJVoQAhriqKgUZQASoQpwAhLk4ZXqcCVKDeFSDE1XsNYP6pQJUrQIir8gKieVSACmyYAoS4DZOeCVMBKpBEAUJcEpUYhgpQgXpUgBBXj6XOPFOBFClAiEtRYdFUKkAF1lUBQty6ys3EqAAVKFYBQlyxijE8FaAC9aIAIa5eSpr5pAIpVYAQl9KCo9lUgApUXAFCXMUlZgJUgAqsRQFC3FrU47NUgArUsgKEuFouXeaNCtSAAoS4GihEZoEKUIGKKECIq4isjJQKUIFyKUCIK5eSjIcKUIFaU6AkiMNDfFED1gHWgfWoAzMzM/LSSy/JwYMHZXJyUp577jnT/tRaY8z8UAEqQAWKVQBtMNpEtI1oI9FWos0s1DZfdOHCBeGLGrAOsA6sRx04f/68rKysyNLSkrz//vty9OhRQlyxLT3DUwEqUJMKANbQJqJtRBuJthJtZqG2+aKaVIKZogJUoCoV4HBqVRYLjaICVKAKFADEzc/Py8LCgpw5c0bOnTsnaDMLHYS4QurwHhWgAmVVIA7ijh07JnxRA9YB1oF6rgOEuLJ2N4yMClCBcisQB3HlTofxUQEqQAXSpgAhLm0lRnupQJ0pQIirswJndqkAFUisACEusVQMSAWowEYoQIjbCNWZJhWgAmlQgBCXhlKijVSgjhUgxNVx4TPrVIAKFFSAEFdQHt6kAlRgoxUgxG10CTB9KkAFqlUBQly1lgztogJUwChAiGNFoAJUgApEK0CIi9aFV6kAFagSBQhxVVIQNIMKUIGqU4AQV3VFQoOoABWwFSDE2WrwPRWgAlQgpwAhLqcF31EBKlCFChDiqrBQaBIVoAJVoQAhriqKgUZQASoQpwAhLk4ZXqcCVKDeFSDE1XsNYP6pQJUrQIir8gKieVSACmyYAoS4DZOeCVMBKpBEAUJcEpUYhgpQgXpUgBBXj6XOPFOBFClAiEtRYdFUKkAF1lUBQty6ys3EqAAVKFYBQlyxijE8FaAC9aIAIa5eSpr5pAIpVYAQl9KCo9lUgApUXAFCXMUlZgJUgAqsRQFC3FrU47NUgArUsgKEuFouXeaNCtSAAoS4GihEZoEKUIGKKECIq4isjJQKUIFyKUCIK5eSjIcKUIFaU4AQV2slyvxQgRpTIC0QBzvHx8flmmuukYsvvlg+8IEPyM033yxvvPFGRUrk3Llz8thjj8nTTz8tFy5cqEgajJQKUIHqVoAQV93lQ+uoQN0rkBaIGxoakg9+8IPS398vb775prz22mvS1tYmjY2NcujQocTleOLECbnqqqvkueeeCz3zyCOPyC233CJLS0vm+tmzZ6W9vd288J4HFaAC9acAIa7+ypw5pgKpUiANELewsCCf+9znpKenJ+QVA1zddtttcscddwg8Z0mOpBCXJC6GoQJUoLYVIMTVdvkyd1Qg9QqkAeIUvH70ox/l6T0zMyPPP/98AHGAOXjtPvKRj5hhV8CfeurgbctkMsELHrnZ2VnjmbOvIxw8cvDM3X333SZNtQGewN7eXjOciyHde+65R86cORPYtbi4KF1dXcF9hIVHT+NBQIS59957TRgMDcPGF154IYiDb6gAFagOBQhx1VEOtIIKUIEYBdIAcQCzO++804DZb3/7W4HNUQfmrj366KPy4Q9/WJ566ik5evSoAaorrrhCjhw5YsAMw7BXXnmluf/ee+8Z+MMZcHbjjTcG4eIg7q/+6q+kr69P3nrrLTNnDiA3MjJizIGdO3fuNHY+88wzJv0HHnjAwKRCnOblk5/8pABAMTTc2dkpH/vYx2Rubi4qW7xGBajABilAiNsg4ZksFaACyRRIA8QhJ/BedXR0GCCClw0eLoCZfRw+fFg+8YlPBFCFewC0a6+9VuBdw6EetdXmxMVBnD2ki+Hc22+/PfCyvfLKK3LppZeaxRBqF6DN9sRp+mqP2vTQQw/Jq6++qo/xTAWoQBUoQIirgkKgCVSACsQrkBaIQw7gacNq1Pvuuy8YLoXnS4czAWaAKHjb9ABEYc6cesIUokqFOBu+kAbi1bij0nfDqCeuqalJnnzyScF8Px5UgApUpwKEuOosF1pFBaiAr0CaIM4uNNg9OjoqmzdvNl45AN6+ffuC+W72HDe8v/XWW2V5eXnNnrhCEDc2Nmbm1wEU7cMGPVwHdGJIFh5F2PbpT39aMEzMrUxs1fieCmy8AoS4jS8DWkAFqEABBdIAccePH5eJiQkzpGpnBdCDRQS6NQg8YfBwYbECQMp+weOF8JX2xF122WXyxz/+0TYz5K0L3fCHe3/wgx+Y7VOwQIMHFaAC1aMAIa56yoKWUAEqEKFAGiDu5Zdflg996EOhuWbIig6VqpcNCwMwJw6LCuwD8+l0rzeFuGeffdYOYubM3XTTTXL69GlzPW5OXCFPHOANCxSwQbAe7pw4zJu7/vrrgxWzCKc2uXFrHDxTASqwMQoQ4jZGd6ZKBahAQgXSAHEAoe7ubjN0+vDDD5sVnQA2bO/xF3/xF7J3716TW4S7//77TTisTgUcAdauvvpqefzxx00Y3XPurrvuknfeeSfYmgRxYGh2ampK3n///dgtRlzQsodKNX0MkwIksfIUdmMbEZ03B6BsbW2V6667TgB0WEELTxwgFbDKgwpQgepRgBBXPWVBS6gAFYhQIA0QB7Nhp/1vtxoaGsz+aoA0ey4ZQEr3icN8s8svv9ysVsV1PQBsmzZtEmzzgdWrOAB8X/3qV80ctZ/85CclQRziOXXq1Kr7xL377rtmWxFsTwLAw78S45w4LR2eqUD1KECIq56yoCVUgApEKJAWiIswvSovQU8bKk+ePCk33HCDPPjgg1VpL42iAlQgXgFCXLw2vEMFqEAVKECIK18hYPXr9u3bzZAuhlJ1OBX/3xWLLXhQASqQLgUIcekqL1pLBepOAUJceYsc4IYNgHWolP9Sq7z6MjYqsJ4KEOLWU22mRQWoQNEKEOKKlowPUAEqUCcKEOLqpKCZTSqQVgUIcWktOdpNBahApRUgxFVaYcZPBajAmhQgxK1JPj5MBahADStAiKvhwmXWqEAtKECIq4VSZB6oABWohAKEuEqoyjipABUomwKEuLJJyYioABWoMQUIcTVWoMwOFag1BQhxtVaizA8VoALlUoAQVy4lGQ8VoAIVUYAQVxFZGSkVoAI1oAAhrgYKkVmgArWsACGulkuXeaMCVGAtChDi1qIen6UCVKDiChDiKi4xE6ACVCClChDiUlpwNJsK1IsCq0Hc3NyckYJn6oCKwHrAelBP9YAQVy89IfNJBVKqQBzEobPmixqwDrAO1HMdIMSltGOj2VSgXhQgxLGTrudOmnln/S9UBwhx9dITMp9UIKUKEOLYiRXqxHiP9aOe6wAhLqUdG82mAvWiACGOnXQ9d9LMO+t/oTpAiKuXnpD5pAIpVYAQx06sUCfGe6wf9VwHCHEp7dhoNhWoFwUIceyk67mTZt5Z/wvVAUJcvfSEzCcVSKkChDh2YoU6Md5j/ajnOkCIS2nHRrOpQL0oQIhjJ13PnTTzzvpfqA4Q4uqlJ2Q+qUBKFSDEsRMr1InxHutHPdcBQlxKOzaaTQXqRYG0QNw3v/lN+eIXvygzMzPBJsSvv/667Nq1S/76r/9ahoaGgutr6XR6e3vz0llLfOV6FvnHq9T4kK+mpib5/e9/X3IcpabN59IBgmNjY9LW1ibXXXedeWWzWXnqqacE37Niy/CFF16Qr33ta/LjH/+4qGfvuece+cIXviD//d//Hfsc7iEMwsbZhXvf+ta3Qu2FhoVNsA026rW4MyGuXnpC5pMKpFSBNEMcwA0AB5ArpaOJargJcaUBB+AakA39onRdyzWAJwD0scceK3vca7Grlp59/PHH5YYbbjBg9NxzzwleACFcwz3N6xNPPJEIgNYKcXEAhnoG0CTEpbTDodlUgAqUV4G0QtyvfvUr+fu///uyAhw6KkIcIU6BpV7OBw8elG3btsl9990ns7OzAbDh/Y4dOww0qQe8HBD3/PPPyy9+8Qt55ZVXgrRUa4Bja2ur3HjjjfLMM8/k3Ye38KabbpKtW7fSE1feroCxUQEqkEYF0ghx//u//ytXXXWV3HHHHaFOBx0BPHKPPvqofPzjH5dMJmPOw8PD5vr//M//GPB7+OGHg85BPUi33XabiQsQh+Gk733veybsxRdfLC0tLcYzoR0NzvBUINyf/MmfyF/+5V+aThCdkx3m0KFD0tXVZbyFiOdTn/qUAD41DDxLl19+uUnrb/7mb4LhUn0O8eKFODD8U2g49cUXX5Rvf/vbJrymtW/fviAt5AverEceeUSuvvpqo80VV1whP//5z4MwSfIVZTOuQWt9/e3f/m3QASMv//7v/y7IX5RdUcPkiE+HfmG3xouzXkc5j4yMyD/90z+Z+/DIQiekp/rynAzIAWYAJwCSqxlg6xvf+IaMj4+b4Ul4wPSlw5kYnoR37Pvf/77x3OFzIU9cIRBEnHfeeaeJ78EHHwzZgzLv6emR9vZ2Y4um79qMz7gX583jcGoaeyraTAWoQKQCaYO4yclJ+dKXvmReL730UqiRR+ONIVZABCAMsNfd3W0A4sknnxTMb/nKV74it956awB/ALtLL73UgB+eV2jAr/1f//rXgueuueYaA2A6hwbP/MM//IPcfPPNMjExYYAFYWCX2gQvBrwbV155pYyOjhrow2dA2+9+9ztjN2AFYNPc3GzmDiEcnuvo6DAACRhFHjo7O024OIjDM4BQNy3YCFs1XwpR6JiRN3TGALpi8hVlM3T9zW9+Y2AXeiM+2IQXQBvghSE5zQs8qIAC2LUaxAGyYSugHHOhEPdrr70mTz/9tClXpIc6Aa0QL0CuXEPrsK8eXkmgBppOT0+b7xfq/f79++Xll182+uD566+/3oDXT3/6U1MXUE5xc+JWg7jvfve7pqzxfYGXUMsAP5K+/vWvy3/+538S4iJbc16kAlSg7hRIE8R9/vOfN2D0p3/6pwF0aQOPM7xRn/70p+U73/lO0JEruMFTgI6ov79fLrvsMjlw4IDpHPDZBitAnA02iFeBAQCDOBD/Zz/7WZOepq9ePsSHa4Caz3zmM/Kzn/0s6ITghYNHCvEgDM4ADwUtXAMUAr5sbyFgqJAnTueMwXa1B9fuvvvuAJZwz00LnSmuYdgqab6ibEaa6tG0bUC8iN+eU6Xh4G3Bc6tBHMJo/lQ3XEM66pXDZ7wAcvAGocz1Gs+rg2gSiFMdowAMz7vAtRaIgwdNh03tMsd7fA/wHUEYeuLqrrtihqkAFXAVSBPEYTgN3i403gAxG37QyQAa/u7v/s4Ms2mngzOG83RlK+ANzwKSAEfwyingISzgQMNqHPBAANpwD94HDKMqhGgYgAO8d3HeMoSDffASaseEswsiuIY8wPukceOMeOPiRj7giUO+BgYGQnCpcURBD+xB+jgnzVeUzUhD4QzpaJrQGIAMT5lec8+lQpyCNfINraCBGzc/rw5w0KgcEOcOXboQhzR0GNY9Y/7bs88+a8pPh0FRHzEfD69XX33VzJ/DjyfcR11LAnFuOvZnwCBsXK2O4Hs9Pz8vCwsLcubMGTl37pygzSx0XFToJu9RASpABcqpQJogDsOFGIpEI/7lL385NHyJxhjDhJhDZs+h0vd4Fo22Ag/gDfPaPvrRjwZQhTiiIE4BBcChXiEbVrQjcEELQ04AO9em1SDOBTvE78ataepZ557B84U8Y64Y5ozBw4Ywq0Fc0nwVA3FRaaq9ei4V4vA8tr/AfEWdl4g5gfDGatw8Vw/EwTMNrzRe8JZiWgM8p/i8d+/eYBqCQhy+c/D64fujq2XxHvM8k0IcfpyhvcD33n7t3r3bePQIceXsSRgXFaACG6JAmiDO9pBhThWAxd5eBB4lQBngBVBiv9BgYy4VOnZ0Hgh3//33h+a64V4UxKknDhOt1WMF754NCfjFDi8hoATX0XkAxuBJ0M5CQWk1iMMcPQwZ2fGvBnF2WKSHdDHZH2CLe1FAFeWJWy1fxUBcJT1xdn4B5ujcAerwsHA4NRm8qYaAJdsbptdx1oUNACl8jhtOXc0TZ8cZFYfetyFOV81iLuQPf/hD4zEHwCWFONcmTaMYzyM9cRvSLTFRKkAFkiqQVohDg4z5Z5hjhsUH+Ax4wXw2LGpQDxSuA7zsVYtTU1OClZl//ud/Hpo/h7CAnXLMiQPs2Ks0ETe8EY2NjYHnLwqISpkTBxi79tprQytfFRiRH82X6+GzIa6YOXFuPIgfHSsg215RiPjdOXHoFG+//XZ54IEHjF2ARgxVA5QRD14YErbT0Lzohs6AcQytwfNmD6NGgarGyXM82Cks4UcNhi5VK2iLHwPwaKF8cR0Adsstt5gfSBoOUOQCE76LAGrc03B6TgpxCA94Qzx44T2uEeKStu4MRwWoQM0rkGaIAxBgpRy2G8HKRzTwDz30kPFAAeQwF0tXl2LVonriFFgAcfakezwPEMBwJIZuMNdKn7cXMmAuXtTqVMy50eE8XeiAYVvEA++fbodRyBOHjtNenQoPCFZ4YmWpevlgp/1CmrAPK2QBTtACnS8AF3PHNF82GOGaDXH4nCRfUeCJZ1EW0AzzBQGrgGbkxV2dCrsAdrrVCvTHcDNWmcJudPqAX9tW5A/bs2zfvt14OBEvvHzwNGo5w2MET5xuFQOb+EquAcoBG/tirzjMG0W9g1fM3ewXQ9jYjgRArVvqVBLiMFcOXkIMv6o3kBBX890SM0gFqEBSBdIMcTZ46J5xADQAk+4TB5CBt8f2xOG5wcHBPI8brgPi3H3i8Fm3BVEwQIeC6zofC6vztFNDGNiB/enUDnj3AB7wAKq3Kg6IYCugE3CDF97DExEHcUgPacMGhNdtS4qZE5c0X3E243l4WDZv3hxamKF5AXDBLsAmQEDTA5ABvFFOuI85blEeNXhdEYfObXTLGfc4Jy45tKn+eoaeKBf8qy3Ua7zggcO2N7in4QBQAHHcv/fee831YiFO44o628OpuI8NgfGj5q677gq8hIS4pK07w1EBKlDzCqQF4qIa/FKvARzgsXFXmJYaH58rHR6oHbWr5jrAOXE13wUyg1Qg3QrUE8TBo4D5cFgdhyE9HWqs5k6EthFyWAc2rg4Q4tLdv9F6KlDzCtQTxKFBxgpSDN1hxZs9TMSOcuM6SmpP7au1DhDiar4LZAapQLoVqCeIq9aOgnYRYlgHqrMOEOLS3b/ReipQ8woQ4qqz82CnznJhHdj4OkCIq/kukBmkAulWgBC38R0FO2uWAetAddYBQly6+zdaTwVqXgFCXHV2HuzUWS6sAxtfBwhxNd8FMoNUIN0KEOI2vqNgZ80yYB2ozjpAiEt3/0brqUDNK0CIq87Og506y4V1YOPrACGu5rtAZpAKpFsBQtzGdxTsrFkGrAPVWQcIcenu32g9Fah5BQhx1dl5sFNnubAObHwdIMTVfBfIDFKBdCsQB3GaK3QkOHimDqwH/B7UWztAiNOegGcqQAWqUoHVIK4qjaZRVIAKUIF1UIAQtw4iMwkqQAVKV4AQV7p2fJIKUIHaVoAQV9vly9xRgdQrQIhLfREyA1SAClRIAUJchYRltFSACpRHAUJceXRkLFSACtSeAoS42itT5ogK1JQChLiaKk5mhgpQgTIqQIgro5iMigpQgfIrQIgrv6aMkQpQgdpQgBBXG+XIXFCBmlXgwoULcu7cOTlz5owsLi7KsWPHBA0XDypABahAvSuAthBtItpGtJFoK9FmFjouKnST96gAFaAC5VQADdL58+dleXlZTp48KcePHzcQh8aLL2rAOsA6UO91AG0i2ka0kWgrCXHl7IEYFxWgAmtSQCHu7NmzcurUKXn33Xfl6NGjcvjwYXnttdfklVdekUOHDsnMzAxf1IB1gHWgpusA2jq0eWj70AaiLUSbiLYRbSQhbk3dDR+mAlSg3AoA4jAvbmVlRZaWlmRhYcF449555x1588035Y033jD/reH11183DRsaN76oAesA60Ct1QG0cfiPFGjz0PahDYQXDm0i2ka0kWgr6Ykrdy/E+KgAFShZAYU4zPXAcMHp06dNo3XixAmZZjdSVQAAARNJREFUn583Ddnbb78tb731Fl/UgHWAdaCm6wDaOsAb2j60gQA4tIloG9FGEuJK7mr4IBWgApVSQIdU8UtTQQ5zQNCAvffee2Y4AUMKfFED1gHWgVqvA2jz0PahDVSAQ9uYZCgVbTQXNlSqp2K8VIAKRCoAiFOQw69NzP3ASiwMIaARwwtzQviiBqwDrAO1XAe0vUPbhzYQbSHaRAU4tJOrHYS41RTifSpABcqugIIchgvQYKHhwq9PfaEx44sasA6wDtRyHdD2DmeFNx1CTQJwaJgJcWXvnhghFaACSRWwYQ6NF1/UgHWAdaBe64C2h0nbT4QjxBWjFsNSASpQUQW0EePZG3KmDtSBdaD268BaGtX/ByqzdchZYY+tAAAAAElFTkSuQmCC)"
      ]
    },
    {
      "cell_type": "markdown",
      "metadata": {
        "id": "UYP6xkn2Fiyw"
      },
      "source": [
        "##### **2. Open the table of contents**\n",
        "\n",
        "Click on the **Table of contents** indicated by the three-lines symbol on the left to see the entire Content. "
      ]
    },
    {
      "cell_type": "markdown",
      "metadata": {
        "id": "y388PvlqFiyx"
      },
      "source": [
        "##### **3. Light or Dark**\n",
        "\n",
        "If you prefer, you can change Google Colab to dark theme.\n",
        "\n",
        "Go to ***Tools → Settings → Site*** and under **Theme**, pick **dark**."
      ]
    },
    {
      "cell_type": "markdown",
      "metadata": {
        "id": "YAeIrkqfFiyx"
      },
      "source": [
        "## The Blockchain - The theory everyone needs to know."
      ]
    },
    {
      "cell_type": "markdown",
      "metadata": {
        "id": "5laznh0rFiyx"
      },
      "source": [
        "### What is a Blockchain?"
      ]
    },
    {
      "cell_type": "markdown",
      "metadata": {
        "id": "e8fMtx7NFiyy"
      },
      "source": [
        "Before jumping into the ecosystem, learning more about its stakeholders, main players, and generally understanding into what the Blockchain has developed into, a foundational understanding of the Blockchain is, is required. \n",
        "\n",
        "<font color='red'> **A blockchain is a digitally distributed, peer-to-peer, and decentralized, public ledger that exists across a network.**</font>\n",
        "\n",
        "I am sure you have heard some kind of version of the sentence above in various articles or online videos. Let's break it down, and define what makes up a blockchain."
      ]
    },
    {
      "cell_type": "markdown",
      "metadata": {
        "id": "Nwnn-PCJFiyy"
      },
      "source": [
        "#### Key Element 1: A database open to anyone.\n",
        "\n",
        "<font color='red'> **A blockchain is an open database that is able to store data that can be accessed by anyone.** </font>\n",
        "\n",
        "Data can come in form of transactions, code, or any other kind of digital information. You can imagine it as a globally available Google Drive Document, with thousand of contributors that are constantly adding information. Anyone can see these changes, and the history of edits. This database is by many also described as a public ledger, a public list of entries."
      ]
    },
    {
      "cell_type": "markdown",
      "metadata": {
        "id": "PTa_Yf89Fiyy"
      },
      "source": [
        "#### Key Element 2: Decentralisation through distribution.\n",
        "\n",
        "<font color='red'> **A blockchain is decentralised.** </font>\n",
        "That means that no one owns the blockchain. There is a copy of the blockchain distributed in thousands location all around the world that ensure that <font color='red'> **not one single entity is able control or endanger the security of the network** </font>. Each copy is called a node and has functionality beyond being a verified copy, into which we will dive into more specifically later. For example, the **Bitcoin Blockchain has 15.425 nodes** all around the world (at the time of this writing). Check out [bitnodes](https://bitnodes.io/), to see the current total amount of nodes and their location ."
      ]
    },
    {
      "cell_type": "markdown",
      "metadata": {
        "id": "Bvt4VoiPFiyz"
      },
      "source": [
        "#### Key Element 3: Immutability through consensus.\n",
        "\n",
        "<font color='red'> **Through a consensus mechanism it is guaranteed that all nodes agree on a new data entry before it is added to the blockchain . Such entries are recorded only once, and no one can change or tamper with an entry after it’s been recorded**</font>. This makes a blockchain immutable.Such mechanism is essential to make the blockchain secure and reliable. To motivate node operators to process data and go through a vigorous consensus process, they are compensated via a fee paid by users of the blockchain (to be explained further)."
      ]
    },
    {
      "cell_type": "markdown",
      "metadata": {
        "id": "rn86b2q7Fiyz"
      },
      "source": [
        "### The Blockchain Stakeholders\n"
      ]
    },
    {
      "cell_type": "markdown",
      "metadata": {
        "id": "mDUiL9wyFiyz"
      },
      "source": [
        "#### Nodes - The infrastructure of the blockchain\n",
        "\n",
        "As previously stated, a node maintains a copy of the blockchain. However, more significantly, <font color='red'> **nodes exist to run the blockchain** </font>. They are a network of computers that make up the infrastructure of the blockchain and constantly  <font color='red'> exchanging information on new transactions and blocks </font>. Nodes can be seperated into <font color='red'>**full nodes and light nodes**</font>, where only <font color='red'> **full nodes maintain a copy of the blockchain**</font>, while a <font color='red'> **light node has to connect to a full node before it can interact with the blockchain**</font>.\n",
        "\n",
        "A full node is like a cell phone tower that your phone - the light node - is connecting to. All the antenna stations (full nodes) are connected to each other and make up the communication network infrastructure. If you want to make a call with your phone, you need to connect to a cell phone tower first, before you can interact with any other mobile phone.\n",
        "\n",
        "<font color='red'>**An entire blockchain can theoretically run on a single node**</font>, but since <font color='red'> **it would be stored on only a single device, it would be extremely vulnerable**</font> to things like power outages, hackers or systemic crashes. The more full nodes a blockchain is running on, the better its resilience against such catastrophes is. When the blockchain data is spread across so many devices, it will be very hard for a corrupt entity to wipe out all this data at once. Even if a large number of nodes suddenly goes offline and becomes inaccessible because of a global crisis, a single node can theoretically keep an entire blockchain operational. And even if all nodes go offline, <font color='red'> **it only takes one node with the full blockchain history to come back online to make all the data accessible again**</font>.\n",
        "\n",
        "<img src=\"https://www.dropbox.com/s/36l0qwiaixcajyb/node_comparison.png?raw=1\" alt=\"classification\" width=\"800\"/>"
      ]
    },
    {
      "cell_type": "markdown",
      "source": [
        ""
      ],
      "metadata": {
        "id": "Pk1Y9QqOYst9"
      }
    },
    {
      "cell_type": "markdown",
      "metadata": {
        "id": "D2siH7sqFiyz"
      },
      "source": [
        "#### Miners - The operators\n",
        "\n",
        "<font color='red'> **A Miner is responsible to add new blocks to the existing chain, and ensures that these additions are accurate.**</font> In fact, the <font color='red'> **miners compete against each other and the first to solve the computational puzzle of the block of data to be added and announces it receives to compensation**</font>. The block is then verified by the majority of miners in this network, trying to reach consensus. After the propagated block reaches the consensus, it is successfully added to the distributed database. It is important to mention however, that <font color='blue'>while miners work on the same block number, each block is different from another.</font>\n",
        "\n",
        "Q\n",
        "* All minors are Full nodes, but not all nodes are minors\n",
        "* blockchain wallets are Light nodes\n",
        "* what if minors cant reach consensus after one minor solved puzzle and accounces recevied compensation?\n",
        "\n",
        "<font color='red'> **Miners are rewarded when they solve the puzzle first.**</font>This creates an incentive for individuals to purchase and run the hardware needed to solve the **cryptographic puzzle**. The **first miner to <font color='blue'>solve a block</font> receives a reward** in the currency that it is mining. <font color='red'> **The reward is accumulated through a so-called gas fee that every individual is paying when interacting with the blockchain.**</font>\n",
        "\n",
        "A miner always needs to run a full node in order to select valid transactions to form a new block. Without a full node it cannot determine what proposed transactions are valid according to the current **blockchain’s transaction history**, because it does not have access to the full blockchain history. Therefore, <font color='red'> **a miner is always also a full node. A node however, is not necessarily simultaneously a miner.**</font>\n",
        "\n",
        "<img src=\"https://www.dropbox.com/s/rbxce49eqr9yio6/miner_visualization.png?raw=1\" alt=\"miners_visualization\" width=\"700\"/>\n"
      ]
    },
    {
      "cell_type": "markdown",
      "metadata": {
        "id": "xcOY6g9wFiy0"
      },
      "source": [
        "#### Users - The users\n",
        "\n",
        "User adoption is what drove blockchain innovation forward. <font color='red'>**In order to interact with the blockchain a user generally owns a blockchain wallet.**</font> \n",
        "With <font color='red'>**a blockchain wallet you can store and manage your cryptocurrencies**</font> and <font color='red'>**it also acts as a light node for you to send and receive transactions.**</font> By registering a wallet you will received your own:\n",
        "1. **Public Key & Private Key:** While <font color='red'>**anyone can send transactions to the public key**</font>, you need the <font color='red'>**private key to “unlock” them and prove that you are the owner of the cryptocurrency received in the transaction.**</font>\n",
        "2. **Seed Phrase:** <font color='red'>**A recovery phrase in form of a series of words generated by your cryptocurrency wallet**</font> that gives you access to the crypto associated with that wallet.\n",
        "\n",
        "As of 2022 there are **82.22 million blockchain wallets**. In this chapter we will be utilising an organization wallet, however, you are very much advised to register your own. You can find a guide how to do that [here](https://github.com/unpackAI/BL101/blob/9e56c17e32e1ec3515e1fb47b194af2d63a31a1d/%F0%9F%8F%9D%20Sandbox/setup-wallet.md).\n",
        "\n",
        "**In oder to interact with the blockchain as a user, we need a wallet and a cryptocurrency.**"
      ]
    },
    {
      "cell_type": "markdown",
      "metadata": {
        "id": "UYDRXK0PFiy0"
      },
      "source": [
        "#### Developers - The builders\n",
        "\n",
        "Developers that build applications that are based on the blockchain technology are the ones to lead the so-called <font color='red'> **web3 revolution. Web3 is an idea for a new iteration of the World Wide Web based on blockchain technology**,</font> which incorporates concepts such as **decentralization and token-based economics**. Web3 developers utilise an entirely new techstack that allows them to build  **Dapps (Decentralised applications), shared economy solutions, virtual identities, NFTs (Non-fungible Tokens), DAOs (Decentralised autonomous organizations)**, and much more.\n",
        "\n",
        "<img src=\"https://www.dropbox.com/s/abj5j3x6ho8m3xk/web3stack.png?raw=1\" alt=\"web3stack\" width=\"700\"/>"
      ]
    },
    {
      "cell_type": "markdown",
      "metadata": {
        "id": "IAdc0BLQFiy0"
      },
      "source": [
        "### How does a Blockchain work?\n",
        "\n",
        "There are many different blockchains, that provide different functionalities. For the following example however, we will further observe one of the most popular blockchains. \n",
        "\n",
        "While the <font color='red'> **Bitcoin Blockchain disrupted the way money and currency can be transacted peer-to-peer**</font> , the **Ethereum Blockchain** not only allowed for peer-to-peer transactions, but also allowed developers to <font color='red'> **store code on the blockchain in form of smart contracts**.</font> This was a breakthrough innovation and initated a new wave of blockchain development in form of blockchain-based application (Dapps - Decentralised applications, or simply programs written in <font color='red'> **ethereum code and stored on the ethereum blockchain**</font>). Additionally, the **Ethereum Blockchain is powering the cryptocurrency ether (ETH)** which is used for any transactions and deployments happening.\n",
        "\n",
        "For a detailed description you can read the updated version of the [Ethereum Whitepaper](https://ethereum.org/en/whitepaper/) originally published in 2014."
      ]
    },
    {
      "cell_type": "markdown",
      "metadata": {
        "id": "Q8_t41ZiFiy1"
      },
      "source": [
        "#### What are smart contracts and how do they work?\n",
        "\n",
        "In essence, <font color='red'> **smart contracts are immutable contracts written in code that execute based on the pre-coded conditions. Once deployed such smart contracts the conditions cannot be changed**</font> and thus function as the perfect decentralised mediator between parties.\n",
        "\n",
        "Let's go through an example.\n",
        "1. Bob wants to sell a house and finds a suitable seller in John. \n",
        "2. They discuss and agree on the total price, monthly payments (both in ETH - ether) and other conditions which are turned into a smart contract.\n",
        "3. Once both enter the agreement, the **house asset is digitised and transferred to the the smart contract** as the now official owner.\n",
        "4. Only once all previously agreed conditions are met, the ownership is transferred to John.\n",
        "5. In case of a breach of contract the ownership is transferred back to Bob.\n",
        "\n",
        "> Every single transaction, including the contract creation, the ownersip transfer, the monthly payments are recorded on the blockchain, thus transparent to anyone.\n",
        "\n",
        "<img src=\"https://www.dropbox.com/s/cvsqqz2sww6apg5/smart_contract.png?raw=1\" alt=\"web3stack\" width=\"700\"/>"
      ]
    },
    {
      "cell_type": "markdown",
      "metadata": {
        "id": "LW9rXwUJFiy1"
      },
      "source": [
        "#### Deploying a smart contract to the Ethereum Blockchain\n",
        "\n",
        "After having covered essential theory about the Blockchain ecosystem, let's dive into a practical aspects of it.\n",
        "\n",
        "We will try something simple. We will start by deploying a very simple smart contract that only has 2 functions.\n",
        "1. Store a string of text on the blockchain.\n",
        "2. Allow an outside caller to update the string of text stored."
      ]
    },
    {
      "cell_type": "markdown",
      "metadata": {
        "id": "sTXrOt3CFiy2"
      },
      "source": [
        "Before we go ahead, we will have to import all the many libraries required."
      ]
    },
    {
      "cell_type": "code",
      "execution_count": 2,
      "metadata": {
        "id": "3W1OujY0Fiy2"
      },
      "outputs": [],
      "source": [
        "%%capture [--no-stdout]\n",
        "# SETUP LIBRARIERS (ONLY ONCE)\n",
        "%pip install bl101"
      ]
    },
    {
      "cell_type": "code",
      "execution_count": 4,
      "metadata": {
        "id": "HPBXMGWkFiy2",
        "outputId": "fcbeb513-cd68-4d38-db1f-6fdc83a516ee",
        "colab": {
          "base_uri": "https://localhost:8080/"
        }
      },
      "outputs": [
        {
          "output_type": "execute_result",
          "data": {
            "text/plain": [
              "True"
            ]
          },
          "metadata": {},
          "execution_count": 4
        }
      ],
      "source": [
        "# IMPORT LIBRARIES\n",
        "\n",
        "# Standard library imports\n",
        "import os\n",
        "import pkg_resources\n",
        "import time as time\n",
        "\n",
        "# Third party imports\n",
        "import solcx\n",
        "from web3 import Web3 \n",
        "from web3.auto.gethdev import w3\n",
        "from web3 import EthereumTesterProvider\n",
        "import hashlib\n",
        "from Crypto.Hash import keccak\n",
        "from dotenv import load_dotenv\n",
        "\n",
        "# UnpackAI Trainings Module\n",
        "import bl101\n",
        "\n",
        "# Constants\n",
        "ENVIRONMENT = pkg_resources.resource_filename('bl101', '.env')\n",
        "CONTRACT_DIR = pkg_resources.resource_filename(\"bl101\", \"contracts\")\n",
        "\n",
        "# Load environment variables from .env in bl101\n",
        "load_dotenv(ENVIRONMENT)"
      ]
    },
    {
      "cell_type": "code",
      "source": [
        "ENVIRONMENT"
      ],
      "metadata": {
        "colab": {
          "base_uri": "https://localhost:8080/",
          "height": 35
        },
        "id": "-9P8qdG4k9Tp",
        "outputId": "3a1d735c-8ba0-48b9-b8f0-09b68e7db05b"
      },
      "execution_count": 5,
      "outputs": [
        {
          "output_type": "execute_result",
          "data": {
            "text/plain": [
              "'/usr/local/lib/python3.7/dist-packages/bl101/.env'"
            ],
            "application/vnd.google.colaboratory.intrinsic+json": {
              "type": "string"
            }
          },
          "metadata": {},
          "execution_count": 5
        }
      ]
    },
    {
      "cell_type": "code",
      "source": [
        "CONTRACT_DIR"
      ],
      "metadata": {
        "colab": {
          "base_uri": "https://localhost:8080/",
          "height": 35
        },
        "id": "pZkXf_dUlAV6",
        "outputId": "8680e7b4-91d2-4cb0-966b-46c86810a35a"
      },
      "execution_count": 6,
      "outputs": [
        {
          "output_type": "execute_result",
          "data": {
            "text/plain": [
              "'/usr/local/lib/python3.7/dist-packages/bl101/contracts'"
            ],
            "application/vnd.google.colaboratory.intrinsic+json": {
              "type": "string"
            }
          },
          "metadata": {},
          "execution_count": 6
        }
      ]
    },
    {
      "cell_type": "markdown",
      "metadata": {
        "id": "01LzIRkWFiy3"
      },
      "source": [
        "##### General Workflow\n",
        "\n",
        "The below is a general workflow in regards to how a smart contract is deployed and interacted with on the blockchain.\n",
        "\n",
        ">1️⃣ Create a smart contract `helloworld.sol` --> 2️⃣ Compile our smart contract --> 3️⃣ Deploy contract --> 4️⃣  Interact with contract on the blockchain"
      ]
    },
    {
      "cell_type": "markdown",
      "metadata": {
        "id": "gF9wa75FFiy3"
      },
      "source": [
        "##### 1️⃣. Create `helloworld.sol`\n",
        "\n",
        "The `.sol` stands for solidity which is the programming language used to deploy smart contracts on the ethereum blockchain. We have pre-written the solidity code, however lets check it out!"
      ]
    },
    {
      "cell_type": "code",
      "execution_count": 7,
      "metadata": {
        "id": "TERnuR59Fiy3",
        "outputId": "388e4136-c3d1-4aaa-a7b9-db9ead25939d",
        "colab": {
          "base_uri": "https://localhost:8080/"
        }
      },
      "outputs": [
        {
          "output_type": "stream",
          "name": "stdout",
          "text": [
            "pragma solidity ^0.8.12;\n",
            "\n",
            "contract HelloWorld {\n",
            "\n",
            "string message = \"Hello World from Shanghai\";\n",
            "\n",
            "    function read_message() public view returns (string memory) {\n",
            "        return message;\n",
            "    }\n",
            "\n",
            "    function write_message(string calldata updated_message) public {\n",
            "        message = updated_message;\n",
            "    }\n",
            "\n",
            "}\n"
          ]
        }
      ],
      "source": [
        "# Load Helloworld.sol contract from bl101 package\n",
        "contract_file = os.path.join(CONTRACT_DIR, 'helloworld.sol')\n",
        "\n",
        "with open(contract_file, \"r\") as file:\n",
        "    contract = file.read()\n",
        "print(contract)"
      ]
    },
    {
      "cell_type": "markdown",
      "metadata": {
        "id": "0F-s7_D4Fiy4"
      },
      "source": [
        "Pragma is generally the first line of code within any Solidity file. <font color='red'> **pragma is a directive that specifies the compiler version to be used for current Solidity file.**</font> Solidity is a new language and is subject to continuous improvement on an on-going basis. In this case, we utilise any compiler version above version 0.8.12.\n",
        "\n",
        "Right after that we declare the contract, its variables (`string message`) and the two functions. As mentioned we intend our smart contract to `read_message` and `write_message` to change the `message` variable into `updated_message`."
      ]
    },
    {
      "cell_type": "markdown",
      "metadata": {
        "id": "4frNtYu6Fiy4"
      },
      "source": [
        "##### 2️⃣. Compile `helloworld.sol`\n",
        "\n",
        "<font color='red'> Contracts need to be compiled so that the **Ethereum Virtual Machine (EVM)**, a computation engine which uses a decentralized network of nodes, can execute our project</font>. The EVM is the bedrock of smart contract development on the ethereum blockchain\n",
        "\n",
        "Our <font color='red'> compiler generates the **bytecode** required by the EVM and the **Application Binary Interface (ABI)** which you need in order for any application to understand the contract and call the contract's functions. The ABI functions as the documentation for your contract so that other machines can understand it.</font>\n",
        "\n",
        "Using the Web3 library, we are able to interact with the smart contract. More to that later.\n",
        "\n",
        "<img src=\"https://www.dropbox.com/s/s344hr4x87rg5rg/EVM.jpeg?raw=1\" alt=\"EVM\" width=\"700\"/>"
      ]
    },
    {
      "cell_type": "code",
      "source": [
        "contract"
      ],
      "metadata": {
        "colab": {
          "base_uri": "https://localhost:8080/",
          "height": 70
        },
        "id": "WcFf8DQOvJR8",
        "outputId": "a51457b2-2b8b-4952-9cad-f95054579639"
      },
      "execution_count": 8,
      "outputs": [
        {
          "output_type": "execute_result",
          "data": {
            "text/plain": [
              "'pragma solidity ^0.8.12;\\n\\ncontract HelloWorld {\\n\\nstring message = \"Hello World from Shanghai\";\\n\\n    function read_message() public view returns (string memory) {\\n        return message;\\n    }\\n\\n    function write_message(string calldata updated_message) public {\\n        message = updated_message;\\n    }\\n\\n}'"
            ],
            "application/vnd.google.colaboratory.intrinsic+json": {
              "type": "string"
            }
          },
          "metadata": {},
          "execution_count": 8
        }
      ]
    },
    {
      "cell_type": "code",
      "execution_count": 9,
      "metadata": {
        "id": "DW9_n3PuFiy4"
      },
      "outputs": [],
      "source": [
        "solcx.install_solc('0.8.12') # <-installd the right solidity version\n",
        "\n",
        "compiled_contract = solcx.compile_standard(\n",
        "    {\n",
        "    \"language\": \"Solidity\",\n",
        "    \"sources\": {\"helloworld.sol\": {\"content\": contract}},\n",
        "    \"settings\": {\"outputSelection\": {\"*\": {\"*\": [\"abi\", \"metadata\", \"evm.bytecode\", \"evm.bytecode.sourceMap\"] }}},\n",
        "    \n",
        "    },\n",
        "    solc_version = \"0.8.12\"\n",
        ")"
      ]
    },
    {
      "cell_type": "code",
      "source": [
        "#compiled_contract"
      ],
      "metadata": {
        "id": "X2UPs_UuvW6w"
      },
      "execution_count": null,
      "outputs": []
    },
    {
      "cell_type": "markdown",
      "metadata": {
        "id": "aXktwsVNFiy5"
      },
      "source": [
        "We have readily compiled the contract. Lets have a look at the bytecode and ABI."
      ]
    },
    {
      "cell_type": "code",
      "execution_count": 10,
      "metadata": {
        "id": "MtBgrbHQFiy5"
      },
      "outputs": [],
      "source": [
        "# ABI\n",
        "abi = compiled_contract[\"contracts\"]['helloworld.sol'][\"HelloWorld\"][\"abi\"]\n",
        "\n",
        "# BYTECODE\n",
        "bytecode = compiled_contract[\"contracts\"]['helloworld.sol'][\"HelloWorld\"][\"evm\"][\"bytecode\"][\"object\"]"
      ]
    },
    {
      "cell_type": "code",
      "execution_count": 11,
      "metadata": {
        "id": "g-zFM0csFiy5",
        "outputId": "7860f2e2-e45b-479b-9ce2-c0e251eaa695",
        "colab": {
          "base_uri": "https://localhost:8080/",
          "height": 106
        }
      },
      "outputs": [
        {
          "output_type": "stream",
          "name": "stdout",
          "text": [
            "2694\n"
          ]
        },
        {
          "output_type": "execute_result",
          "data": {
            "text/plain": [
              "'60806040526040518060400160405280601981526020017f48656c6c6f20576f726c642066726f6d205368616e67686169000000000000008152506000908051906020019061004f929190610062565b5034801561005c57600080fd5b50610166565b82805461006e90610134565b90600052602060002090601f01602090048101928261009057600085556100d7565b82601f106100a957805160ff19168380011785556100d7565b828001600101855582156100d7579182015b828111156100d65782518255916020019190600101906100bb565b5b5090506100e491906100e8565b5090565b5b80821115610101576000816000905550'"
            ],
            "application/vnd.google.colaboratory.intrinsic+json": {
              "type": "string"
            }
          },
          "metadata": {},
          "execution_count": 11
        }
      ],
      "source": [
        "print(len(bytecode)) # <-- this prints the length of the bytecode\n",
        "bytecode[:500]"
      ]
    },
    {
      "cell_type": "code",
      "execution_count": 12,
      "metadata": {
        "id": "VoFGgJUMFiy6",
        "outputId": "7eac8416-8d80-4699-96f3-67ac29eca8ba",
        "colab": {
          "base_uri": "https://localhost:8080/"
        }
      },
      "outputs": [
        {
          "output_type": "execute_result",
          "data": {
            "text/plain": [
              "[{'inputs': [],\n",
              "  'name': 'read_message',\n",
              "  'outputs': [{'internalType': 'string', 'name': '', 'type': 'string'}],\n",
              "  'stateMutability': 'view',\n",
              "  'type': 'function'},\n",
              " {'inputs': [{'internalType': 'string',\n",
              "    'name': 'updated_message',\n",
              "    'type': 'string'}],\n",
              "  'name': 'write_message',\n",
              "  'outputs': [],\n",
              "  'stateMutability': 'nonpayable',\n",
              "  'type': 'function'}]"
            ]
          },
          "metadata": {},
          "execution_count": 12
        }
      ],
      "source": [
        "abi"
      ]
    },
    {
      "cell_type": "markdown",
      "metadata": {
        "id": "PwmTShkxFiy6"
      },
      "source": [
        "##### 3️⃣. Deploy Contract 📜\n",
        "\n",
        "Now that we have all information we need lets, finally deploy it.\n",
        "\n",
        "However, remember what we have learned about the blockchain. In order to develop on the blockchain, we need three things:\n",
        "1. **Connect to a blockchain node**.\n",
        "2. **Connect to a blockchain wallet**.\n",
        "2. <font color='red'>**Ethereum to pay a gas fee**</font> and <font color='red'>**compensate the miners for their work.**</font> Clearly, we do no intend to pay real money for our testing. Thus, we work with testnets and test ETH to deploy our contract.\n",
        "\n",
        "> Testnet: <font color='red'> **A testnet is a test blockchain network that works to run and test blockchains or blockchain projects before they are ready to be launched.**</font> It is a simple way for programmers and developers to create, modify, and test the functionalities of their project, as well as monitor its performance before making it accessible to the public. Here, developers can troubleshoot any issues and fix any bugs. By running independently to the mainnet, testnets allow for the full testing of a blockchain project without interfering with the transactions on the mainnet. A testnet should never be used to transfer anything of value, and thus testnets use fake money, or tokens without value, to run their protocols.\n",
        "\n",
        "> Mainnet: <font color='red'>**A mainnet is the “main” “net,” or network, that a blockchain or blockchain project is run on.**</font> This is the stage that logically comes after the completion of all the necessary trials on the testnet. A mainnet consists of a fully launched net where cryptocurrency transactions can be processed efficiently, verified accurately, and recorded securely. By deploying a mainnet, its developers are stating that they have full trust in their blockchain’s capacity. <font color='red'>**As a fully functioning blockchain, mainnets can be used to send and receive any transaction, in the form of cryptocurrency or non-fungible tokens (NFTs), among others, or transfer information.**</font> Additionally, a mainnet can run a project that requires that specific blockchain’s protocol, for example <font color='red'>DApps on the Ethereum mainnet.</font>"
      ]
    },
    {
      "cell_type": "markdown",
      "metadata": {
        "id": "MiJUmH2iFiy7"
      },
      "source": [
        "##### 3️⃣.1️⃣ Connect to a blockchain node"
      ]
    },
    {
      "cell_type": "markdown",
      "metadata": {
        "id": "7FM6mDufFiy7"
      },
      "source": [
        "For this, we will be utilising<font color='red'>**[Infura](https://infura.io/) as a node provider.**</font> We will simply be using our organization account for this, however in order to follow along during the next few weeks, you will have to register an account yourself. Do not worry, for now you will only require the free version. You can follow this [guide](https://github.com/unpackAI/BL101/blob/main/%F0%9F%8F%9D%20Sandbox/connect_ethereum_node.md) to register your own Infura account and connect to it.\n",
        "\n",
        "If you want to connect to your own infura nore, add your own **https endpoint:** `infura_url_rinkeby = \"ADD_HTTPS_ENDPOINT_HERE\"` in the code below, and add a # in front of `infura_url_rinkeby = \"https://rinkeby.infura.io/v3/\"+os.getenv(\"INFURA\")`.\n"
      ]
    },
    {
      "cell_type": "code",
      "execution_count": 23,
      "metadata": {
        "id": "_J47xYXJFiy7"
      },
      "outputs": [],
      "source": [
        "#infura_url_rinkeby = \"ADD_HTTPS_ENDPOINT_HERE\"\n",
        "infura_url_rinkeby = \"https://rinkeby.infura.io/v3/\"+os.getenv(\"INFURA\")\n",
        "\n",
        "w3 = Web3(Web3.HTTPProvider(infura_url_rinkeby))\n",
        "helloworld = w3.eth.contract(abi=abi, bytecode=bytecode)"
      ]
    },
    {
      "cell_type": "code",
      "source": [
        "helloworld"
      ],
      "metadata": {
        "colab": {
          "base_uri": "https://localhost:8080/"
        },
        "id": "YNcQKb1vELa9",
        "outputId": "eb4e7512-8b9c-4d32-aa3c-45946f09aa6c"
      },
      "execution_count": 24,
      "outputs": [
        {
          "output_type": "execute_result",
          "data": {
            "text/plain": [
              "web3._utils.datatypes.Contract"
            ]
          },
          "metadata": {},
          "execution_count": 24
        }
      ]
    },
    {
      "cell_type": "markdown",
      "metadata": {
        "id": "l4a0WT8eFiy8"
      },
      "source": [
        "##### 3️⃣.2️⃣ Connect to a blockchain wallet"
      ]
    },
    {
      "cell_type": "markdown",
      "metadata": {
        "id": "rjLmPaNXFiy8"
      },
      "source": [
        "In the below we are connecting to the blockchain wallet provided by us. If you want to connect to your own wallet instead of ours simply copy paste your public key: `wallet_address = \"ADD_PUBLIC_KEY_HERE\"` in the code below, and add a # in front of `wallet_address = os.getenv(\"WALLETADDRESS\")`."
      ]
    },
    {
      "cell_type": "code",
      "execution_count": 25,
      "metadata": {
        "id": "wf1EpTFNFiy8",
        "outputId": "cb3469cd-9b45-492c-c73a-b679fe653bad",
        "colab": {
          "base_uri": "https://localhost:8080/"
        }
      },
      "outputs": [
        {
          "output_type": "stream",
          "name": "stdout",
          "text": [
            "0x2Cac45ad8A2D04c8a7660Ac512Be094A0149e797\n"
          ]
        }
      ],
      "source": [
        "#wallet_address = \"ADD_PUBLIC_KEY_HERE\"\n",
        "wallet_address = os.getenv(\"WALLETADDRESS\")\n",
        "\n",
        "nonce = w3.eth.get_transaction_count(wallet_address)\n",
        "print(wallet_address)"
      ]
    },
    {
      "cell_type": "code",
      "source": [
        "nonce"
      ],
      "metadata": {
        "colab": {
          "base_uri": "https://localhost:8080/"
        },
        "id": "mKb5TW0ZGF2_",
        "outputId": "2770c6c7-d28a-4488-e85f-7649b650578f"
      },
      "execution_count": 26,
      "outputs": [
        {
          "output_type": "execute_result",
          "data": {
            "text/plain": [
              "136"
            ]
          },
          "metadata": {},
          "execution_count": 26
        }
      ]
    },
    {
      "cell_type": "markdown",
      "metadata": {
        "id": "w4_PX-XYFiy9"
      },
      "source": [
        "##### 3️⃣.3️⃣ Add Test Ethereum to our wallet"
      ]
    },
    {
      "cell_type": "markdown",
      "metadata": {
        "id": "_8JCWrxoFiy9"
      },
      "source": [
        "Luckily **Test Ethereum is free, and it allows us to interact and pay a gas fee**, just like we would have to on a mainnet. You can attain via a so-called **faucet**. [Follow this link](https://faucet.metamask.io/) in order to get Test ETH for the testnet you are connected to. In our case, we choose Rinkeby."
      ]
    },
    {
      "cell_type": "markdown",
      "metadata": {
        "id": "TQm2yWNWFiy9"
      },
      "source": [
        "##### 3️⃣.4️⃣ Create a transaction\n",
        "\n",
        "Now we simply have to <font color='red'>**combine all the previous information into one single transaction.**</font> This <font color='red'>**communicates with the blockchain what you want to do, on what network, with what wallet and how much you are willing to pay (the higher the gas fee the quicker it gets processed).**</font>"
      ]
    },
    {
      "cell_type": "code",
      "execution_count": 27,
      "metadata": {
        "id": "ja63PqmsFiy9"
      },
      "outputs": [],
      "source": [
        "rinkeby_chain = 4\n",
        "\n",
        "transaction = helloworld.constructor().buildTransaction(\n",
        "    {\n",
        "        \"chainId\": rinkeby_chain, \n",
        "        \"from\": wallet_address,\n",
        "        \"nonce\": nonce, \n",
        "        \"gasPrice\": w3.eth.gas_price})"
      ]
    },
    {
      "cell_type": "code",
      "source": [
        "nonce"
      ],
      "metadata": {
        "colab": {
          "base_uri": "https://localhost:8080/"
        },
        "id": "HmbpLUw5J959",
        "outputId": "988c5ebe-5ee7-43c3-c653-0d9deec5d1ee"
      },
      "execution_count": 30,
      "outputs": [
        {
          "output_type": "execute_result",
          "data": {
            "text/plain": [
              "136"
            ]
          },
          "metadata": {},
          "execution_count": 30
        }
      ]
    },
    {
      "cell_type": "code",
      "source": [
        "w3.eth.gas_price"
      ],
      "metadata": {
        "colab": {
          "base_uri": "https://localhost:8080/"
        },
        "id": "fQ9L5WrGJ8aO",
        "outputId": "b96970aa-b9ec-4d27-e205-b83bae40b5ef"
      },
      "execution_count": 31,
      "outputs": [
        {
          "output_type": "execute_result",
          "data": {
            "text/plain": [
              "1290000462"
            ]
          },
          "metadata": {},
          "execution_count": 31
        }
      ]
    },
    {
      "cell_type": "markdown",
      "metadata": {
        "id": "hvuEWb0PFiy9"
      },
      "source": [
        "We can also further observe what the transaction looks like to the network."
      ]
    },
    {
      "cell_type": "code",
      "execution_count": 32,
      "metadata": {
        "id": "oTKRKoJcFiy-",
        "outputId": "54308e0c-19b6-4a39-ad18-18b2e93544bb",
        "colab": {
          "base_uri": "https://localhost:8080/"
        }
      },
      "outputs": [
        {
          "output_type": "execute_result",
          "data": {
            "text/plain": [
              "{'chainId': 4,\n",
              " 'data': '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',\n",
              " 'from': '0x2Cac45ad8A2D04c8a7660Ac512Be094A0149e797',\n",
              " 'gas': 290512,\n",
              " 'gasPrice': 1290000456,\n",
              " 'nonce': 136,\n",
              " 'to': b'',\n",
              " 'value': 0}"
            ]
          },
          "metadata": {},
          "execution_count": 32
        }
      ],
      "source": [
        "transaction"
      ]
    },
    {
      "cell_type": "markdown",
      "metadata": {
        "id": "Ope9QspSFiy-"
      },
      "source": [
        "##### 3️⃣.5️⃣ Sign the transaction\n",
        "\n",
        "<font color='red'>**To verify it is really us who intends to send this transaction, we need to sign it with our private key.**</font> Here we are again using our companies private key. Since we only utilise it for education purposes, we can add it in here, as there is nothing of value inside our wallet.\n",
        "\n",
        "If you want to connect to your own wallet instead of ours simply copy paste your private key: `private_key = \"ADD_PRIVATE_KEY_HERE\"` in the code below, and add a # in front of `private_key = os.getenv(\"PRIVATEKEY\")`.\n",
        "\n",
        "<font color='red'>**You must use an account that does not contain any value. Also make sure that the private key you provide is of the same wallet as the one you provided the public key off above.**</font>"
      ]
    },
    {
      "cell_type": "code",
      "execution_count": 33,
      "metadata": {
        "id": "YOsy8Ty3Fiy-"
      },
      "outputs": [],
      "source": [
        "private_key = os.getenv(\"PRIVATEKEY\")\n",
        "\n",
        "signed_transaction = w3.eth.account.sign_transaction(transaction, private_key=private_key)"
      ]
    },
    {
      "cell_type": "code",
      "source": [
        "signed_transaction"
      ],
      "metadata": {
        "colab": {
          "base_uri": "https://localhost:8080/"
        },
        "id": "8YHR8ew6OAd-",
        "outputId": "1c030c9e-e3c1-4894-d24f-bcbc799e21af"
      },
      "execution_count": 35,
      "outputs": [
        {
          "output_type": "execute_result",
          "data": {
            "text/plain": [
              "SignedTransaction(rawTransaction=HexBytes('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'), hash=HexBytes('0x5b43f2c94b113e961e9b9871b60b215d112a44edef76eb19d2ea234dff8ce41c'), r=49700514491245310833569729502593923988763414171608445150504760501158787292156, s=2998155960013995354444014529572576455291904191802860998379924237167031824338, v=43)"
            ]
          },
          "metadata": {},
          "execution_count": 35
        }
      ]
    },
    {
      "cell_type": "markdown",
      "metadata": {
        "id": "zNQtfRcOFiy_"
      },
      "source": [
        "##### 3️⃣.6️⃣ Send the transaction"
      ]
    },
    {
      "cell_type": "code",
      "execution_count": 34,
      "metadata": {
        "id": "GwnRRZk6Fiy_"
      },
      "outputs": [],
      "source": [
        "transaction_hash = w3.eth.send_raw_transaction(signed_transaction.rawTransaction)"
      ]
    },
    {
      "cell_type": "code",
      "source": [
        "transaction_hash"
      ],
      "metadata": {
        "colab": {
          "base_uri": "https://localhost:8080/"
        },
        "id": "UMymovOnPXvW",
        "outputId": "ce04a92d-dd98-4f4c-ceb0-95f1baf29fb9"
      },
      "execution_count": 36,
      "outputs": [
        {
          "output_type": "execute_result",
          "data": {
            "text/plain": [
              "HexBytes('0x5b43f2c94b113e961e9b9871b60b215d112a44edef76eb19d2ea234dff8ce41c')"
            ]
          },
          "metadata": {},
          "execution_count": 36
        }
      ]
    },
    {
      "cell_type": "markdown",
      "metadata": {
        "id": "bRyl_UaWFiy_"
      },
      "source": [
        "We have now <font color='red'>**successfully deployed our smart contract to the blockchain.**</font> Let's finally start to interact with it."
      ]
    },
    {
      "cell_type": "markdown",
      "metadata": {
        "id": "BnLfXbegFiy_"
      },
      "source": [
        "##### 4️⃣. Interacting with our contract on the blockchain 👩‍❤️‍👨  "
      ]
    },
    {
      "cell_type": "markdown",
      "metadata": {
        "id": "a4R9vqDSFizA"
      },
      "source": [
        "As you have previously seen, <font color='red'>**we are using the w3 (Web3) library to interact with the blockchain. It is a collection of libraries which allow you to interact with a local or remote ethereum node, using a HTTP or IPC connection.**</font>\n",
        "\n",
        "Let's <font color='red'>**utilise the transaction receipt and abi to call the first function of our contract: ``read_message``.**</font>"
      ]
    },
    {
      "cell_type": "code",
      "execution_count": 39,
      "metadata": {
        "id": "lio1MfItFizA",
        "outputId": "abbeedf8-17ed-4d31-9cf9-875bfaefbb09",
        "colab": {
          "base_uri": "https://localhost:8080/",
          "height": 35
        }
      },
      "outputs": [
        {
          "output_type": "execute_result",
          "data": {
            "text/plain": [
              "'Hello World from Shanghai'"
            ],
            "application/vnd.google.colaboratory.intrinsic+json": {
              "type": "string"
            }
          },
          "metadata": {},
          "execution_count": 39
        }
      ],
      "source": [
        "transaction_receipt = w3.eth.wait_for_transaction_receipt(transaction_hash)\n",
        "contract_instance = w3.eth.contract(address = transaction_receipt.contractAddress, abi = abi)\n",
        "contract_instance.functions.read_message().call()"
      ]
    },
    {
      "cell_type": "markdown",
      "metadata": {
        "id": "OVXz20bhFizA"
      },
      "source": [
        "Great! You just made your <font color='red'>**first function call to a deployed smart contract on the blockchain.**</font> For further reference, lets also print out the transaction_receipt. This will become more interesting to us later on."
      ]
    },
    {
      "cell_type": "code",
      "execution_count": 42,
      "metadata": {
        "id": "1xbv2Y8kFizB",
        "outputId": "f872d97f-9aca-4075-bd9e-fe38269e62a6",
        "colab": {
          "base_uri": "https://localhost:8080/"
        }
      },
      "outputs": [
        {
          "output_type": "execute_result",
          "data": {
            "text/plain": [
              "AttributeDict({'blockHash': HexBytes('0xe5b39dcbf3054ffdae52d43e77bf9b2c10bcb6ef7722793a338e979e02185580'),\n",
              " 'blockNumber': 10928579,\n",
              " 'contractAddress': '0x82BA62275851BCB4EF8ec15E42D1b28A95E6c51d',\n",
              " 'cumulativeGasUsed': 3914800,\n",
              " 'effectiveGasPrice': 1290000456,\n",
              " 'from': '0x2Cac45ad8A2D04c8a7660Ac512Be094A0149e797',\n",
              " 'gasUsed': 290512,\n",
              " 'logs': [],\n",
              " 'logsBloom': HexBytes('0x00000000000000000000000000000000000000000000000000000000000000000000000000000000000000000000000000000000000000000000000000000000000000000000000000000000000000000000000000000000000000000000000000000000000000000000000000000000000000000000000000000000000000000000000000000000000000000000000000000000000000000000000000000000000000000000000000000000000000000000000000000000000000000000000000000000000000000000000000000000000000000000000000000000000000000000000000000000000000000000000000000000000000000000000000000000'),\n",
              " 'status': 1,\n",
              " 'to': None,\n",
              " 'transactionHash': HexBytes('0x5b43f2c94b113e961e9b9871b60b215d112a44edef76eb19d2ea234dff8ce41c'),\n",
              " 'transactionIndex': 22,\n",
              " 'type': '0x0'})"
            ]
          },
          "metadata": {},
          "execution_count": 42
        }
      ],
      "source": [
        "transaction_receipt"
      ]
    },
    {
      "cell_type": "markdown",
      "metadata": {
        "id": "lW48tMWEFizB"
      },
      "source": [
        "##### 4️⃣.1️⃣ Changing the text stored in our contract."
      ]
    },
    {
      "cell_type": "markdown",
      "metadata": {
        "id": "ikxnz81cFizC"
      },
      "source": [
        "We are able to read our contract.\n",
        "\n",
        "But what if we want to change our *HelloWorld.sol* message?\n",
        "\n",
        "Remember, we have the `write_message` function in our contract to change the greeting text. For this we need to change the state of our contract on the blockchain.  \n",
        "So instead of `Hello from Shanghai!`, we want to store `Hello from Hamburg!` in our contract on the blockchain.   \n",
        "\n",
        "To do so, we need to send the new message to our `write_message` function by updating our contract:"
      ]
    },
    {
      "cell_type": "markdown",
      "metadata": {
        "id": "thxs9MZ4FizC"
      },
      "source": [
        "Just like before, we will have to go through the following steps whenever we want to interact and change the state of the blockchain. We have to:\n",
        "1. Create transaction\n",
        "2. Sign transaction\n",
        "3. Send Transaction\n",
        "4. Interact with our contract"
      ]
    },
    {
      "cell_type": "code",
      "execution_count": null,
      "metadata": {
        "id": "tad9qKoUFizC"
      },
      "outputs": [],
      "source": [
        "# 1. \n",
        "nonce = w3.eth.get_transaction_count(wallet_address)\n",
        "update_helloworld_transaction = contract_instance.functions.write_message(\"Hello from Hamburg!\").buildTransaction(\n",
        "    {\n",
        "        \"gasPrice\": w3.eth.gas_price,\n",
        "        \"chainId\": rinkeby_chain,\n",
        "        \"from\": wallet_address,\n",
        "        \"nonce\": nonce\n",
        "    }\n",
        ")\n",
        "\n",
        "# 2.\n",
        "signed_transaction = w3.eth.account.sign_transaction(update_helloworld_transaction,\n",
        "                                                        private_key=private_key)\n",
        "# 3.\n",
        "transaction_hash = w3.eth.send_raw_transaction(signed_transaction.rawTransaction)"
      ]
    },
    {
      "cell_type": "code",
      "execution_count": null,
      "metadata": {
        "id": "qyge7OfHFizC",
        "outputId": "8e85a12c-31b4-473b-d045-ed292628ea29"
      },
      "outputs": [
        {
          "data": {
            "text/plain": [
              "'Hello from Hamburg!'"
            ]
          },
          "execution_count": 20,
          "metadata": {},
          "output_type": "execute_result"
        }
      ],
      "source": [
        "# 4.\n",
        "transaction_receipt = w3.eth.wait_for_transaction_receipt(transaction_hash)\n",
        "contract_instance.functions.read_message().call()"
      ]
    },
    {
      "cell_type": "markdown",
      "metadata": {
        "id": "mOzWNSb5FizD"
      },
      "source": [
        "*Voilà!* Our new greeting message! Freshly arrived from `Ethereum` blockchain 🕺💃🥳.  You did it!\n",
        "\n",
        "For good measure lets also print out the `transaction_receipt`."
      ]
    },
    {
      "cell_type": "code",
      "execution_count": null,
      "metadata": {
        "id": "hvWE8oogFizD",
        "outputId": "ff321bd1-b3ed-4e51-da96-84941608bcf9"
      },
      "outputs": [
        {
          "data": {
            "text/plain": [
              "AttributeDict({'blockHash': HexBytes('0x064cb9f49794d23a7b8429e0d6a348664d69dcb9399382604d37d63660290fba'),\n",
              " 'blockNumber': 10889626,\n",
              " 'contractAddress': None,\n",
              " 'cumulativeGasUsed': 8585915,\n",
              " 'effectiveGasPrice': 1000000043,\n",
              " 'from': '0x2Cac45ad8A2D04c8a7660Ac512Be094A0149e797',\n",
              " 'gasUsed': 29828,\n",
              " 'logs': [],\n",
              " 'logsBloom': HexBytes('0x00000000000000000000000000000000000000000000000000000000000000000000000000000000000000000000000000000000000000000000000000000000000000000000000000000000000000000000000000000000000000000000000000000000000000000000000000000000000000000000000000000000000000000000000000000000000000000000000000000000000000000000000000000000000000000000000000000000000000000000000000000000000000000000000000000000000000000000000000000000000000000000000000000000000000000000000000000000000000000000000000000000000000000000000000000000'),\n",
              " 'status': 1,\n",
              " 'to': '0xf1f04F4195f400929ad0AE305eD47d04f662d002',\n",
              " 'transactionHash': HexBytes('0x4d78519a6c899a717f5a20759049085b156f495cae6743d8f3c408e8e1763013'),\n",
              " 'transactionIndex': 33,\n",
              " 'type': '0x0'})"
            ]
          },
          "execution_count": 21,
          "metadata": {},
          "output_type": "execute_result"
        }
      ],
      "source": [
        "transaction_receipt"
      ]
    },
    {
      "cell_type": "markdown",
      "metadata": {
        "id": "dk1HAB3BFizD"
      },
      "source": [
        "### Exploring the Blockchain\n",
        "\n",
        "We successfully deployed a smart contract on the blockchain, called its function and also changed its state.\n",
        "\n",
        "You might be asking yourself now: **Since the Blockchain is public, am I somehow able to view my smart contract on the chain? Yes you absolutely are!**\n",
        "\n",
        "Every single state change we made to the blockchain (i.e. Rinkeby Testnet), will be recorded. This includes our deployment, and calling the `write` function, however this will not include the `read` function, as we did not change the state but simply viewed the current state.\n",
        "\n",
        "You can find all about it here at https://rinkeby.etherscan.io/. You will simply have to search for the smart contract address. Where would we find it? Please go back to \"4️⃣. Interacting with our contract on the blockchain 👩‍❤️‍👨\" and search for the `transaction_receipt` from when we deployed our smart contract and called the `read` function. With it, we can find the `contractAddress`.\n",
        "\n",
        "Let's check it out.\n",
        "\n",
        "<img src=\"https://www.dropbox.com/s/38a2z00bxdfqoow/Etherscan_screenshot_week1.png?raw=1\" alt=\"etherscan_week1\" width=\"1000\"/>"
      ]
    },
    {
      "cell_type": "markdown",
      "metadata": {
        "id": "Djx0psQ5FizE"
      },
      "source": [
        "In the above, you can see a lot of key information about your interaction with the blockchain. Such record exists for every single transaction.\n",
        "\n",
        "1. This is the smart contract address.\n",
        "2. This is the creator of the smart contract. If you used the unpack's wallet, it will be the public key of this wallet. If you used your own, it will be the public key of your own personal wallet.\n",
        "3. This is the very first transaction that you made to the blockchain. This transacion is your **Contract Creation**, from when you deployed the written smart contract to the blockchain.\n",
        "4. This is your second transaction. Can you guess what this represents? Yes, you are right. This transaction was created when you changed the string stored by your smart contract from `Hello from Shanghai` to `Hello from Hamburg`. In this case you are not creating a new contract but are changing an existing smart contract.\n",
        "5. Try exploring etherscan by searching your wallet address!\n",
        "\n",
        "Note that this is a blockchain explorer for the rinkeby testnet. If we were to deploy our contract to the mainnet, we would also be able to see the same transactions on a mainnet via: https://etherscan.io/ .\n",
        "\n",
        "\n",
        "NIIIIICE! You not only learned about the fundamentals of the blockchain, but you also created your own smart contract and even explored your interactions via etherscan. This already concludes our smart contract development for this week. Be excited for more."
      ]
    },
    {
      "cell_type": "markdown",
      "metadata": {
        "id": "MIFje2OZFizE"
      },
      "source": [
        "### Why does this all matter?\n",
        "\n",
        "Why would we go through the hassle of deploying a smart contract on the blockchain? \n",
        "\n",
        "Like any other contract, a contract is supposed to record the terms two parties agree to in order to cooperate and attain an outcome beneficial for both sides. However, while a physical contract, may be compromised and generally requires a government to be enforced, a smart contract executes no matter what. The moment the two parties enter the agreement the terms are enforced by code and since the blockchain is immutable, it cannot be changed.\n",
        "\n",
        "This is why the blockchain allows for decentralisation. It replaces any central structure and is owned by no one. We hope you start to realise its potential. Over the next week, we will dive into how such potential can be utilised to innovate. We are excited to do this together!"
      ]
    },
    {
      "cell_type": "markdown",
      "metadata": {
        "id": "yUbpnvWZFizE"
      },
      "source": [
        "### A comparison of Blockchains\n",
        "\n",
        "Before we finish, we want to highlight that we have only been working with a testnet of the Ethereum Blockchain as Ethereum is currently by far the blockchain with the largest ecosystem of developers and applications. Aside from Ethereum, however, there are other Blockchains, that have all different properties. A prime example would be the Bitcoin Blockchain, famous due to its native cryptocurrency, Bitcoin.\n",
        "\n",
        "One of the main differences between Bitcoin and Ethereum that is important to understand is that you are not able to natively store Smart Contracts on the Bitcoin Blockchain. You are only able to store transactions of cryptocurrency on it. The innovation of smart contracts was mainly pushed forward by Ethereum and its founding team.\n",
        "\n",
        "Such traits, as well as differences in stability, speed and or security define each blockchain. In the image below, you are able to see the ecosystem of so called layer 1 blockchain (i.e. Ethereum and Bitcoin). In the recent past, we have also seen the innovation of layer 2 blockchains (i.e. Polygon) that are built on top of layer 1 blockchains. Layer 2 protocols create a secondary framework, where blockchain transactions and processes can take place independently of the layer 1.\n",
        "\n",
        "We will not dive into each blockchain, and will mainly work with the Ethereum blockchain, however, feel free to further [investigate](https://blockchain-comparison.com/blockchain-protocols/).\n",
        "\n",
        "<img src=\"https://www.dropbox.com/s/mea370p4iwi34uk/Layer-1-Ecosystem-Map.png?raw=1\" alt=\"etherscan_week1\" width=\"1000\"/>"
      ]
    },
    {
      "cell_type": "markdown",
      "metadata": {
        "id": "dv78XmSLFizF"
      },
      "source": [
        "### Your Deliverables, your time to apply the theory in practice.\n",
        "\n",
        "Congratulations on getting to the end of this Notebook and no worries at all if you struggled with some of the theory and did not fully understand what was taught here as your actual learning starts from here.\n",
        "\n",
        "The ideal time of reading this, is right before the Review Session, so you have a bit of time to reflect about the learning material, identify the most confusing and hard elements of a reading, and bring them to the discussion during the Review Session. The Review session is there for you to close the gap in your current understanding of the material.\n",
        "\n",
        "For your deliverables you will have to work on the Workbook found [here](https://colab.research.google.com/github/unpackAI/BL101/blob/main/course_notebooks/Week_1_Hello_Blockchain/01_Hello_Blockchain_Workbook.ipynb)!"
      ]
    },
    {
      "cell_type": "markdown",
      "metadata": {
        "id": "X9VDLNx3FizF"
      },
      "source": [
        "Sources:\n",
        "- https://bitcoin.org/bitcoin.pdf\n",
        "- https://ethereum.org/en/whitepaper/\n",
        "- https://www.ibm.com/topics/what-is-blockchain\n",
        "- https://blog.goodaudience.com/how-a-miner-adds-transactions-to-the-blockchain-in-seven-steps-856053271476\n"
      ]
    }
  ],
  "metadata": {
    "kernelspec": {
      "display_name": "Python 3.9.5 64-bit",
      "language": "python",
      "name": "python3"
    },
    "language_info": {
      "codemirror_mode": {
        "name": "ipython",
        "version": 3
      },
      "file_extension": ".py",
      "mimetype": "text/x-python",
      "name": "python",
      "nbconvert_exporter": "python",
      "pygments_lexer": "ipython3",
      "version": "3.9.5"
    },
    "orig_nbformat": 4,
    "vscode": {
      "interpreter": {
        "hash": "aee8b7b246df8f9039afb4144a1f6fd8d2ca17a180786b69acc140d282b71a49"
      }
    },
    "colab": {
      "name": "01_Hello_BC_Coursebook.ipynb",
      "provenance": [],
      "collapsed_sections": [
        "Nwnn-PCJFiyy",
        "Bvt4VoiPFiyz",
        "D2siH7sqFiyz",
        "xcOY6g9wFiy0",
        "Q8_t41ZiFiy1"
      ],
      "include_colab_link": true
    }
  },
  "nbformat": 4,
  "nbformat_minor": 0
}